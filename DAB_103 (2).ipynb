{
  "nbformat": 4,
  "nbformat_minor": 0,
  "metadata": {
    "colab": {
      "name": "DAB_103.ipynb",
      "provenance": [],
      "collapsed_sections": []
    },
    "kernelspec": {
      "name": "python3",
      "display_name": "Python 3"
    },
    "language_info": {
      "name": "python"
    }
  },
  "cells": [
    {
      "cell_type": "code",
      "metadata": {
        "colab": {
          "base_uri": "https://localhost:8080/"
        },
        "id": "gpRppzPEH9W8",
        "outputId": "acddf7fc-1c39-4f26-cb43-60f33ee23173"
      },
      "source": [
        "from google.colab import drive\n",
        "drive.mount('/content/drive')"
      ],
      "execution_count": 1,
      "outputs": [
        {
          "output_type": "stream",
          "text": [
            "Mounted at /content/drive\n"
          ],
          "name": "stdout"
        }
      ]
    },
    {
      "cell_type": "markdown",
      "metadata": {
        "id": "tFNY7W-I-GCC"
      },
      "source": [
        "# **Importing Libraries**"
      ]
    },
    {
      "cell_type": "code",
      "metadata": {
        "id": "30EvyOZk-KDN"
      },
      "source": [
        "import pandas as pd\n",
        "import matplotlib.pyplot as plt\n",
        "import seaborn as sns\n",
        "import numpy as np"
      ],
      "execution_count": 2,
      "outputs": []
    },
    {
      "cell_type": "markdown",
      "metadata": {
        "id": "XCFHuYCPPQCl"
      },
      "source": [
        ""
      ]
    },
    {
      "cell_type": "code",
      "metadata": {
        "id": "Z5B4Bz4qLOf-"
      },
      "source": [
        "import pandas as pd\n",
        "Casualty = pd.read_csv('drive/MyDrive/Colab Notebooks/2018_DATA_SA_Casualty.csv')\n",
        "Crash = pd.read_csv('drive/MyDrive/Colab Notebooks/2018_DATA_SA_Crash.csv')\n",
        "Units = pd.read_csv('drive/MyDrive/Colab Notebooks/2018_DATA_SA_Units.csv')"
      ],
      "execution_count": 3,
      "outputs": []
    },
    {
      "cell_type": "markdown",
      "metadata": {
        "id": "HCPuccqU5Lda"
      },
      "source": [
        "# **Loading Casualty dataset**"
      ]
    },
    {
      "cell_type": "code",
      "metadata": {
        "colab": {
          "base_uri": "https://localhost:8080/",
          "height": 602
        },
        "id": "tN83mwM1O08C",
        "outputId": "1b3077ad-ed54-4306-f61b-7e3d65d346c4"
      },
      "source": [
        "Casualty\n"
      ],
      "execution_count": 4,
      "outputs": [
        {
          "output_type": "execute_result",
          "data": {
            "text/html": [
              "<div>\n",
              "<style scoped>\n",
              "    .dataframe tbody tr th:only-of-type {\n",
              "        vertical-align: middle;\n",
              "    }\n",
              "\n",
              "    .dataframe tbody tr th {\n",
              "        vertical-align: top;\n",
              "    }\n",
              "\n",
              "    .dataframe thead th {\n",
              "        text-align: right;\n",
              "    }\n",
              "</style>\n",
              "<table border=\"1\" class=\"dataframe\">\n",
              "  <thead>\n",
              "    <tr style=\"text-align: right;\">\n",
              "      <th></th>\n",
              "      <th>REPORT_ID</th>\n",
              "      <th>UND_UNIT_NUMBER</th>\n",
              "      <th>CASUALTY_NUMBER</th>\n",
              "      <th>Casualty Type</th>\n",
              "      <th>Sex</th>\n",
              "      <th>AGE</th>\n",
              "      <th>Position In Veh</th>\n",
              "      <th>Thrown Out</th>\n",
              "      <th>Injury Extent</th>\n",
              "      <th>Seat Belt</th>\n",
              "      <th>Helmet</th>\n",
              "      <th>Hospital</th>\n",
              "    </tr>\n",
              "  </thead>\n",
              "  <tbody>\n",
              "    <tr>\n",
              "      <th>0</th>\n",
              "      <td>2018-4-27/05/2021</td>\n",
              "      <td>1</td>\n",
              "      <td>1</td>\n",
              "      <td>Driver</td>\n",
              "      <td>Male</td>\n",
              "      <td>044</td>\n",
              "      <td>Driver</td>\n",
              "      <td>Not Thrown Out</td>\n",
              "      <td>Treated at Hospital</td>\n",
              "      <td>Fitted - Worn</td>\n",
              "      <td>NaN</td>\n",
              "      <td>XXXXXX</td>\n",
              "    </tr>\n",
              "    <tr>\n",
              "      <th>1</th>\n",
              "      <td>2018-4-27/05/2021</td>\n",
              "      <td>1</td>\n",
              "      <td>2</td>\n",
              "      <td>Passenger</td>\n",
              "      <td>Female</td>\n",
              "      <td>037</td>\n",
              "      <td>Rear Seat Right Passenger</td>\n",
              "      <td>Not Thrown Out</td>\n",
              "      <td>Treated at Hospital</td>\n",
              "      <td>Fitted - Worn</td>\n",
              "      <td>NaN</td>\n",
              "      <td>XXXXXX</td>\n",
              "    </tr>\n",
              "    <tr>\n",
              "      <th>2</th>\n",
              "      <td>2018-4-27/05/2021</td>\n",
              "      <td>2</td>\n",
              "      <td>1</td>\n",
              "      <td>Driver</td>\n",
              "      <td>Male</td>\n",
              "      <td>034</td>\n",
              "      <td>Driver</td>\n",
              "      <td>Not Thrown Out</td>\n",
              "      <td>Treated at Hospital</td>\n",
              "      <td>Fitted - Worn</td>\n",
              "      <td>NaN</td>\n",
              "      <td>XXXXXX</td>\n",
              "    </tr>\n",
              "    <tr>\n",
              "      <th>3</th>\n",
              "      <td>2018-4-27/05/2021</td>\n",
              "      <td>2</td>\n",
              "      <td>2</td>\n",
              "      <td>Passenger</td>\n",
              "      <td>Male</td>\n",
              "      <td>024</td>\n",
              "      <td>Front Seat Left Passenger</td>\n",
              "      <td>Not Thrown Out</td>\n",
              "      <td>Admitted to Hospital</td>\n",
              "      <td>Fitted - Worn</td>\n",
              "      <td>NaN</td>\n",
              "      <td>LYELL MCEWIN</td>\n",
              "    </tr>\n",
              "    <tr>\n",
              "      <th>4</th>\n",
              "      <td>2018-5-27/05/2021</td>\n",
              "      <td>1</td>\n",
              "      <td>1</td>\n",
              "      <td>Driver</td>\n",
              "      <td>Female</td>\n",
              "      <td>030</td>\n",
              "      <td>Driver</td>\n",
              "      <td>Not Thrown Out</td>\n",
              "      <td>Treated at Hospital</td>\n",
              "      <td>Fitted - Worn</td>\n",
              "      <td>NaN</td>\n",
              "      <td>XXXXXX</td>\n",
              "    </tr>\n",
              "    <tr>\n",
              "      <th>...</th>\n",
              "      <td>...</td>\n",
              "      <td>...</td>\n",
              "      <td>...</td>\n",
              "      <td>...</td>\n",
              "      <td>...</td>\n",
              "      <td>...</td>\n",
              "      <td>...</td>\n",
              "      <td>...</td>\n",
              "      <td>...</td>\n",
              "      <td>...</td>\n",
              "      <td>...</td>\n",
              "      <td>...</td>\n",
              "    </tr>\n",
              "    <tr>\n",
              "      <th>6119</th>\n",
              "      <td>2018-13595-27/05/2021</td>\n",
              "      <td>1</td>\n",
              "      <td>1</td>\n",
              "      <td>Driver</td>\n",
              "      <td>Male</td>\n",
              "      <td>030</td>\n",
              "      <td>Driver</td>\n",
              "      <td>Not Thrown Out</td>\n",
              "      <td>By Private</td>\n",
              "      <td>Fitted - Worn</td>\n",
              "      <td>NaN</td>\n",
              "      <td>NaN</td>\n",
              "    </tr>\n",
              "    <tr>\n",
              "      <th>6120</th>\n",
              "      <td>2018-13596-27/05/2021</td>\n",
              "      <td>1</td>\n",
              "      <td>1</td>\n",
              "      <td>Driver</td>\n",
              "      <td>Female</td>\n",
              "      <td>059</td>\n",
              "      <td>Driver</td>\n",
              "      <td>Not Thrown Out</td>\n",
              "      <td>By Private</td>\n",
              "      <td>Fitted - Worn</td>\n",
              "      <td>NaN</td>\n",
              "      <td>NaN</td>\n",
              "    </tr>\n",
              "    <tr>\n",
              "      <th>6121</th>\n",
              "      <td>2018-13597-27/05/2021</td>\n",
              "      <td>1</td>\n",
              "      <td>1</td>\n",
              "      <td>Driver</td>\n",
              "      <td>Female</td>\n",
              "      <td>021</td>\n",
              "      <td>Driver</td>\n",
              "      <td>Not Thrown Out</td>\n",
              "      <td>By Private</td>\n",
              "      <td>Fitted - Worn</td>\n",
              "      <td>NaN</td>\n",
              "      <td>NaN</td>\n",
              "    </tr>\n",
              "    <tr>\n",
              "      <th>6122</th>\n",
              "      <td>2018-13598-27/05/2021</td>\n",
              "      <td>1</td>\n",
              "      <td>1</td>\n",
              "      <td>Driver</td>\n",
              "      <td>Male</td>\n",
              "      <td>062</td>\n",
              "      <td>Driver</td>\n",
              "      <td>Not Thrown Out</td>\n",
              "      <td>Treated at Hospital</td>\n",
              "      <td>Fitted - Worn</td>\n",
              "      <td>NaN</td>\n",
              "      <td>FLINDERS MED CENTRE</td>\n",
              "    </tr>\n",
              "    <tr>\n",
              "      <th>6123</th>\n",
              "      <td>2018-13599-27/05/2021</td>\n",
              "      <td>1</td>\n",
              "      <td>1</td>\n",
              "      <td>Driver</td>\n",
              "      <td>Female</td>\n",
              "      <td>057</td>\n",
              "      <td>Driver</td>\n",
              "      <td>Not Thrown Out</td>\n",
              "      <td>By Private</td>\n",
              "      <td>Fitted - Worn</td>\n",
              "      <td>NaN</td>\n",
              "      <td>NaN</td>\n",
              "    </tr>\n",
              "  </tbody>\n",
              "</table>\n",
              "<p>6124 rows × 12 columns</p>\n",
              "</div>"
            ],
            "text/plain": [
              "                  REPORT_ID  UND_UNIT_NUMBER  ...  Helmet             Hospital\n",
              "0         2018-4-27/05/2021                1  ...     NaN               XXXXXX\n",
              "1         2018-4-27/05/2021                1  ...     NaN               XXXXXX\n",
              "2         2018-4-27/05/2021                2  ...     NaN               XXXXXX\n",
              "3         2018-4-27/05/2021                2  ...     NaN         LYELL MCEWIN\n",
              "4         2018-5-27/05/2021                1  ...     NaN               XXXXXX\n",
              "...                     ...              ...  ...     ...                  ...\n",
              "6119  2018-13595-27/05/2021                1  ...     NaN                  NaN\n",
              "6120  2018-13596-27/05/2021                1  ...     NaN                  NaN\n",
              "6121  2018-13597-27/05/2021                1  ...     NaN                  NaN\n",
              "6122  2018-13598-27/05/2021                1  ...     NaN  FLINDERS MED CENTRE\n",
              "6123  2018-13599-27/05/2021                1  ...     NaN                  NaN\n",
              "\n",
              "[6124 rows x 12 columns]"
            ]
          },
          "metadata": {
            "tags": []
          },
          "execution_count": 4
        }
      ]
    },
    {
      "cell_type": "markdown",
      "metadata": {
        "id": "rQK4dnik7SD9"
      },
      "source": [
        "# ***Exploring the datatype of dataset***"
      ]
    },
    {
      "cell_type": "code",
      "metadata": {
        "colab": {
          "base_uri": "https://localhost:8080/"
        },
        "id": "MwAuEFwU76Bp",
        "outputId": "edb39b62-4043-460a-de4b-d7053f83a649"
      },
      "source": [
        "type(Casualty)"
      ],
      "execution_count": 5,
      "outputs": [
        {
          "output_type": "execute_result",
          "data": {
            "text/plain": [
              "pandas.core.frame.DataFrame"
            ]
          },
          "metadata": {
            "tags": []
          },
          "execution_count": 5
        }
      ]
    },
    {
      "cell_type": "markdown",
      "metadata": {
        "id": "lLiUo6AS8FWd"
      },
      "source": [
        "## **Determining the shape of the dataset**"
      ]
    },
    {
      "cell_type": "code",
      "metadata": {
        "colab": {
          "base_uri": "https://localhost:8080/"
        },
        "id": "dvAabAnm8ET6",
        "outputId": "e31906de-17e1-4bcf-e079-e17e4a549498"
      },
      "source": [
        "Casualty.shape"
      ],
      "execution_count": 6,
      "outputs": [
        {
          "output_type": "execute_result",
          "data": {
            "text/plain": [
              "(6124, 12)"
            ]
          },
          "metadata": {
            "tags": []
          },
          "execution_count": 6
        }
      ]
    },
    {
      "cell_type": "markdown",
      "metadata": {
        "id": "b1coUt0m8NcP"
      },
      "source": [
        "## **Displaying duplicate records**"
      ]
    },
    {
      "cell_type": "code",
      "metadata": {
        "colab": {
          "base_uri": "https://localhost:8080/",
          "height": 417
        },
        "id": "lsODMHso8OAj",
        "outputId": "7552e16c-5f24-482c-a9e0-19c3ef76f1f4"
      },
      "source": [
        "duplicate = Casualty.iloc[:,1:13].duplicated()\n",
        "Casualty.iloc[:,1:13][duplicate]"
      ],
      "execution_count": 7,
      "outputs": [
        {
          "output_type": "execute_result",
          "data": {
            "text/html": [
              "<div>\n",
              "<style scoped>\n",
              "    .dataframe tbody tr th:only-of-type {\n",
              "        vertical-align: middle;\n",
              "    }\n",
              "\n",
              "    .dataframe tbody tr th {\n",
              "        vertical-align: top;\n",
              "    }\n",
              "\n",
              "    .dataframe thead th {\n",
              "        text-align: right;\n",
              "    }\n",
              "</style>\n",
              "<table border=\"1\" class=\"dataframe\">\n",
              "  <thead>\n",
              "    <tr style=\"text-align: right;\">\n",
              "      <th></th>\n",
              "      <th>UND_UNIT_NUMBER</th>\n",
              "      <th>CASUALTY_NUMBER</th>\n",
              "      <th>Casualty Type</th>\n",
              "      <th>Sex</th>\n",
              "      <th>AGE</th>\n",
              "      <th>Position In Veh</th>\n",
              "      <th>Thrown Out</th>\n",
              "      <th>Injury Extent</th>\n",
              "      <th>Seat Belt</th>\n",
              "      <th>Helmet</th>\n",
              "      <th>Hospital</th>\n",
              "    </tr>\n",
              "  </thead>\n",
              "  <tbody>\n",
              "    <tr>\n",
              "      <th>143</th>\n",
              "      <td>1</td>\n",
              "      <td>1</td>\n",
              "      <td>Driver</td>\n",
              "      <td>Female</td>\n",
              "      <td>029</td>\n",
              "      <td>Driver</td>\n",
              "      <td>Not Thrown Out</td>\n",
              "      <td>By Private</td>\n",
              "      <td>Fitted - Worn</td>\n",
              "      <td>NaN</td>\n",
              "      <td>NaN</td>\n",
              "    </tr>\n",
              "    <tr>\n",
              "      <th>146</th>\n",
              "      <td>1</td>\n",
              "      <td>1</td>\n",
              "      <td>Driver</td>\n",
              "      <td>Female</td>\n",
              "      <td>026</td>\n",
              "      <td>Driver</td>\n",
              "      <td>Not Thrown Out</td>\n",
              "      <td>Treated at Hospital</td>\n",
              "      <td>Fitted - Worn</td>\n",
              "      <td>NaN</td>\n",
              "      <td>XXXXXX</td>\n",
              "    </tr>\n",
              "    <tr>\n",
              "      <th>212</th>\n",
              "      <td>1</td>\n",
              "      <td>1</td>\n",
              "      <td>Driver</td>\n",
              "      <td>Female</td>\n",
              "      <td>034</td>\n",
              "      <td>Driver</td>\n",
              "      <td>Not Thrown Out</td>\n",
              "      <td>By Private</td>\n",
              "      <td>Fitted - Worn</td>\n",
              "      <td>NaN</td>\n",
              "      <td>NaN</td>\n",
              "    </tr>\n",
              "    <tr>\n",
              "      <th>267</th>\n",
              "      <td>2</td>\n",
              "      <td>1</td>\n",
              "      <td>Driver</td>\n",
              "      <td>Female</td>\n",
              "      <td>023</td>\n",
              "      <td>Driver</td>\n",
              "      <td>Not Thrown Out</td>\n",
              "      <td>Treated at Hospital</td>\n",
              "      <td>Fitted - Worn</td>\n",
              "      <td>NaN</td>\n",
              "      <td>XXXXXX</td>\n",
              "    </tr>\n",
              "    <tr>\n",
              "      <th>271</th>\n",
              "      <td>1</td>\n",
              "      <td>1</td>\n",
              "      <td>Driver</td>\n",
              "      <td>Female</td>\n",
              "      <td>041</td>\n",
              "      <td>Driver</td>\n",
              "      <td>Not Thrown Out</td>\n",
              "      <td>By Private</td>\n",
              "      <td>Fitted - Worn</td>\n",
              "      <td>NaN</td>\n",
              "      <td>NaN</td>\n",
              "    </tr>\n",
              "    <tr>\n",
              "      <th>...</th>\n",
              "      <td>...</td>\n",
              "      <td>...</td>\n",
              "      <td>...</td>\n",
              "      <td>...</td>\n",
              "      <td>...</td>\n",
              "      <td>...</td>\n",
              "      <td>...</td>\n",
              "      <td>...</td>\n",
              "      <td>...</td>\n",
              "      <td>...</td>\n",
              "      <td>...</td>\n",
              "    </tr>\n",
              "    <tr>\n",
              "      <th>6119</th>\n",
              "      <td>1</td>\n",
              "      <td>1</td>\n",
              "      <td>Driver</td>\n",
              "      <td>Male</td>\n",
              "      <td>030</td>\n",
              "      <td>Driver</td>\n",
              "      <td>Not Thrown Out</td>\n",
              "      <td>By Private</td>\n",
              "      <td>Fitted - Worn</td>\n",
              "      <td>NaN</td>\n",
              "      <td>NaN</td>\n",
              "    </tr>\n",
              "    <tr>\n",
              "      <th>6120</th>\n",
              "      <td>1</td>\n",
              "      <td>1</td>\n",
              "      <td>Driver</td>\n",
              "      <td>Female</td>\n",
              "      <td>059</td>\n",
              "      <td>Driver</td>\n",
              "      <td>Not Thrown Out</td>\n",
              "      <td>By Private</td>\n",
              "      <td>Fitted - Worn</td>\n",
              "      <td>NaN</td>\n",
              "      <td>NaN</td>\n",
              "    </tr>\n",
              "    <tr>\n",
              "      <th>6121</th>\n",
              "      <td>1</td>\n",
              "      <td>1</td>\n",
              "      <td>Driver</td>\n",
              "      <td>Female</td>\n",
              "      <td>021</td>\n",
              "      <td>Driver</td>\n",
              "      <td>Not Thrown Out</td>\n",
              "      <td>By Private</td>\n",
              "      <td>Fitted - Worn</td>\n",
              "      <td>NaN</td>\n",
              "      <td>NaN</td>\n",
              "    </tr>\n",
              "    <tr>\n",
              "      <th>6122</th>\n",
              "      <td>1</td>\n",
              "      <td>1</td>\n",
              "      <td>Driver</td>\n",
              "      <td>Male</td>\n",
              "      <td>062</td>\n",
              "      <td>Driver</td>\n",
              "      <td>Not Thrown Out</td>\n",
              "      <td>Treated at Hospital</td>\n",
              "      <td>Fitted - Worn</td>\n",
              "      <td>NaN</td>\n",
              "      <td>FLINDERS MED CENTRE</td>\n",
              "    </tr>\n",
              "    <tr>\n",
              "      <th>6123</th>\n",
              "      <td>1</td>\n",
              "      <td>1</td>\n",
              "      <td>Driver</td>\n",
              "      <td>Female</td>\n",
              "      <td>057</td>\n",
              "      <td>Driver</td>\n",
              "      <td>Not Thrown Out</td>\n",
              "      <td>By Private</td>\n",
              "      <td>Fitted - Worn</td>\n",
              "      <td>NaN</td>\n",
              "      <td>NaN</td>\n",
              "    </tr>\n",
              "  </tbody>\n",
              "</table>\n",
              "<p>1785 rows × 11 columns</p>\n",
              "</div>"
            ],
            "text/plain": [
              "      UND_UNIT_NUMBER  CASUALTY_NUMBER  ... Helmet             Hospital\n",
              "143                 1                1  ...    NaN                  NaN\n",
              "146                 1                1  ...    NaN               XXXXXX\n",
              "212                 1                1  ...    NaN                  NaN\n",
              "267                 2                1  ...    NaN               XXXXXX\n",
              "271                 1                1  ...    NaN                  NaN\n",
              "...               ...              ...  ...    ...                  ...\n",
              "6119                1                1  ...    NaN                  NaN\n",
              "6120                1                1  ...    NaN                  NaN\n",
              "6121                1                1  ...    NaN                  NaN\n",
              "6122                1                1  ...    NaN  FLINDERS MED CENTRE\n",
              "6123                1                1  ...    NaN                  NaN\n",
              "\n",
              "[1785 rows x 11 columns]"
            ]
          },
          "metadata": {
            "tags": []
          },
          "execution_count": 7
        }
      ]
    },
    {
      "cell_type": "markdown",
      "metadata": {
        "id": "RdHVh2h58bjo"
      },
      "source": [
        "## **Displaying the first five rows of the dataset**"
      ]
    },
    {
      "cell_type": "code",
      "metadata": {
        "colab": {
          "base_uri": "https://localhost:8080/",
          "height": 203
        },
        "id": "PXrvEtXy8cWk",
        "outputId": "f74d6e21-2530-4bbd-c7fe-0f632bfe6574"
      },
      "source": [
        "Casualty.head()"
      ],
      "execution_count": 8,
      "outputs": [
        {
          "output_type": "execute_result",
          "data": {
            "text/html": [
              "<div>\n",
              "<style scoped>\n",
              "    .dataframe tbody tr th:only-of-type {\n",
              "        vertical-align: middle;\n",
              "    }\n",
              "\n",
              "    .dataframe tbody tr th {\n",
              "        vertical-align: top;\n",
              "    }\n",
              "\n",
              "    .dataframe thead th {\n",
              "        text-align: right;\n",
              "    }\n",
              "</style>\n",
              "<table border=\"1\" class=\"dataframe\">\n",
              "  <thead>\n",
              "    <tr style=\"text-align: right;\">\n",
              "      <th></th>\n",
              "      <th>REPORT_ID</th>\n",
              "      <th>UND_UNIT_NUMBER</th>\n",
              "      <th>CASUALTY_NUMBER</th>\n",
              "      <th>Casualty Type</th>\n",
              "      <th>Sex</th>\n",
              "      <th>AGE</th>\n",
              "      <th>Position In Veh</th>\n",
              "      <th>Thrown Out</th>\n",
              "      <th>Injury Extent</th>\n",
              "      <th>Seat Belt</th>\n",
              "      <th>Helmet</th>\n",
              "      <th>Hospital</th>\n",
              "    </tr>\n",
              "  </thead>\n",
              "  <tbody>\n",
              "    <tr>\n",
              "      <th>0</th>\n",
              "      <td>2018-4-27/05/2021</td>\n",
              "      <td>1</td>\n",
              "      <td>1</td>\n",
              "      <td>Driver</td>\n",
              "      <td>Male</td>\n",
              "      <td>044</td>\n",
              "      <td>Driver</td>\n",
              "      <td>Not Thrown Out</td>\n",
              "      <td>Treated at Hospital</td>\n",
              "      <td>Fitted - Worn</td>\n",
              "      <td>NaN</td>\n",
              "      <td>XXXXXX</td>\n",
              "    </tr>\n",
              "    <tr>\n",
              "      <th>1</th>\n",
              "      <td>2018-4-27/05/2021</td>\n",
              "      <td>1</td>\n",
              "      <td>2</td>\n",
              "      <td>Passenger</td>\n",
              "      <td>Female</td>\n",
              "      <td>037</td>\n",
              "      <td>Rear Seat Right Passenger</td>\n",
              "      <td>Not Thrown Out</td>\n",
              "      <td>Treated at Hospital</td>\n",
              "      <td>Fitted - Worn</td>\n",
              "      <td>NaN</td>\n",
              "      <td>XXXXXX</td>\n",
              "    </tr>\n",
              "    <tr>\n",
              "      <th>2</th>\n",
              "      <td>2018-4-27/05/2021</td>\n",
              "      <td>2</td>\n",
              "      <td>1</td>\n",
              "      <td>Driver</td>\n",
              "      <td>Male</td>\n",
              "      <td>034</td>\n",
              "      <td>Driver</td>\n",
              "      <td>Not Thrown Out</td>\n",
              "      <td>Treated at Hospital</td>\n",
              "      <td>Fitted - Worn</td>\n",
              "      <td>NaN</td>\n",
              "      <td>XXXXXX</td>\n",
              "    </tr>\n",
              "    <tr>\n",
              "      <th>3</th>\n",
              "      <td>2018-4-27/05/2021</td>\n",
              "      <td>2</td>\n",
              "      <td>2</td>\n",
              "      <td>Passenger</td>\n",
              "      <td>Male</td>\n",
              "      <td>024</td>\n",
              "      <td>Front Seat Left Passenger</td>\n",
              "      <td>Not Thrown Out</td>\n",
              "      <td>Admitted to Hospital</td>\n",
              "      <td>Fitted - Worn</td>\n",
              "      <td>NaN</td>\n",
              "      <td>LYELL MCEWIN</td>\n",
              "    </tr>\n",
              "    <tr>\n",
              "      <th>4</th>\n",
              "      <td>2018-5-27/05/2021</td>\n",
              "      <td>1</td>\n",
              "      <td>1</td>\n",
              "      <td>Driver</td>\n",
              "      <td>Female</td>\n",
              "      <td>030</td>\n",
              "      <td>Driver</td>\n",
              "      <td>Not Thrown Out</td>\n",
              "      <td>Treated at Hospital</td>\n",
              "      <td>Fitted - Worn</td>\n",
              "      <td>NaN</td>\n",
              "      <td>XXXXXX</td>\n",
              "    </tr>\n",
              "  </tbody>\n",
              "</table>\n",
              "</div>"
            ],
            "text/plain": [
              "           REPORT_ID  UND_UNIT_NUMBER  ...  Helmet      Hospital\n",
              "0  2018-4-27/05/2021                1  ...     NaN        XXXXXX\n",
              "1  2018-4-27/05/2021                1  ...     NaN        XXXXXX\n",
              "2  2018-4-27/05/2021                2  ...     NaN        XXXXXX\n",
              "3  2018-4-27/05/2021                2  ...     NaN  LYELL MCEWIN\n",
              "4  2018-5-27/05/2021                1  ...     NaN        XXXXXX\n",
              "\n",
              "[5 rows x 12 columns]"
            ]
          },
          "metadata": {
            "tags": []
          },
          "execution_count": 8
        }
      ]
    },
    {
      "cell_type": "markdown",
      "metadata": {
        "id": "huJeFl1k8ipk"
      },
      "source": [
        "## **Displaying the last five rows of the dataset**"
      ]
    },
    {
      "cell_type": "code",
      "metadata": {
        "colab": {
          "base_uri": "https://localhost:8080/",
          "height": 203
        },
        "id": "BuebKVTg8k8w",
        "outputId": "a405c0ef-7a4c-4948-acb8-3ef4ee0d8abf"
      },
      "source": [
        "Casualty.tail()"
      ],
      "execution_count": 9,
      "outputs": [
        {
          "output_type": "execute_result",
          "data": {
            "text/html": [
              "<div>\n",
              "<style scoped>\n",
              "    .dataframe tbody tr th:only-of-type {\n",
              "        vertical-align: middle;\n",
              "    }\n",
              "\n",
              "    .dataframe tbody tr th {\n",
              "        vertical-align: top;\n",
              "    }\n",
              "\n",
              "    .dataframe thead th {\n",
              "        text-align: right;\n",
              "    }\n",
              "</style>\n",
              "<table border=\"1\" class=\"dataframe\">\n",
              "  <thead>\n",
              "    <tr style=\"text-align: right;\">\n",
              "      <th></th>\n",
              "      <th>REPORT_ID</th>\n",
              "      <th>UND_UNIT_NUMBER</th>\n",
              "      <th>CASUALTY_NUMBER</th>\n",
              "      <th>Casualty Type</th>\n",
              "      <th>Sex</th>\n",
              "      <th>AGE</th>\n",
              "      <th>Position In Veh</th>\n",
              "      <th>Thrown Out</th>\n",
              "      <th>Injury Extent</th>\n",
              "      <th>Seat Belt</th>\n",
              "      <th>Helmet</th>\n",
              "      <th>Hospital</th>\n",
              "    </tr>\n",
              "  </thead>\n",
              "  <tbody>\n",
              "    <tr>\n",
              "      <th>6119</th>\n",
              "      <td>2018-13595-27/05/2021</td>\n",
              "      <td>1</td>\n",
              "      <td>1</td>\n",
              "      <td>Driver</td>\n",
              "      <td>Male</td>\n",
              "      <td>030</td>\n",
              "      <td>Driver</td>\n",
              "      <td>Not Thrown Out</td>\n",
              "      <td>By Private</td>\n",
              "      <td>Fitted - Worn</td>\n",
              "      <td>NaN</td>\n",
              "      <td>NaN</td>\n",
              "    </tr>\n",
              "    <tr>\n",
              "      <th>6120</th>\n",
              "      <td>2018-13596-27/05/2021</td>\n",
              "      <td>1</td>\n",
              "      <td>1</td>\n",
              "      <td>Driver</td>\n",
              "      <td>Female</td>\n",
              "      <td>059</td>\n",
              "      <td>Driver</td>\n",
              "      <td>Not Thrown Out</td>\n",
              "      <td>By Private</td>\n",
              "      <td>Fitted - Worn</td>\n",
              "      <td>NaN</td>\n",
              "      <td>NaN</td>\n",
              "    </tr>\n",
              "    <tr>\n",
              "      <th>6121</th>\n",
              "      <td>2018-13597-27/05/2021</td>\n",
              "      <td>1</td>\n",
              "      <td>1</td>\n",
              "      <td>Driver</td>\n",
              "      <td>Female</td>\n",
              "      <td>021</td>\n",
              "      <td>Driver</td>\n",
              "      <td>Not Thrown Out</td>\n",
              "      <td>By Private</td>\n",
              "      <td>Fitted - Worn</td>\n",
              "      <td>NaN</td>\n",
              "      <td>NaN</td>\n",
              "    </tr>\n",
              "    <tr>\n",
              "      <th>6122</th>\n",
              "      <td>2018-13598-27/05/2021</td>\n",
              "      <td>1</td>\n",
              "      <td>1</td>\n",
              "      <td>Driver</td>\n",
              "      <td>Male</td>\n",
              "      <td>062</td>\n",
              "      <td>Driver</td>\n",
              "      <td>Not Thrown Out</td>\n",
              "      <td>Treated at Hospital</td>\n",
              "      <td>Fitted - Worn</td>\n",
              "      <td>NaN</td>\n",
              "      <td>FLINDERS MED CENTRE</td>\n",
              "    </tr>\n",
              "    <tr>\n",
              "      <th>6123</th>\n",
              "      <td>2018-13599-27/05/2021</td>\n",
              "      <td>1</td>\n",
              "      <td>1</td>\n",
              "      <td>Driver</td>\n",
              "      <td>Female</td>\n",
              "      <td>057</td>\n",
              "      <td>Driver</td>\n",
              "      <td>Not Thrown Out</td>\n",
              "      <td>By Private</td>\n",
              "      <td>Fitted - Worn</td>\n",
              "      <td>NaN</td>\n",
              "      <td>NaN</td>\n",
              "    </tr>\n",
              "  </tbody>\n",
              "</table>\n",
              "</div>"
            ],
            "text/plain": [
              "                  REPORT_ID  UND_UNIT_NUMBER  ...  Helmet             Hospital\n",
              "6119  2018-13595-27/05/2021                1  ...     NaN                  NaN\n",
              "6120  2018-13596-27/05/2021                1  ...     NaN                  NaN\n",
              "6121  2018-13597-27/05/2021                1  ...     NaN                  NaN\n",
              "6122  2018-13598-27/05/2021                1  ...     NaN  FLINDERS MED CENTRE\n",
              "6123  2018-13599-27/05/2021                1  ...     NaN                  NaN\n",
              "\n",
              "[5 rows x 12 columns]"
            ]
          },
          "metadata": {
            "tags": []
          },
          "execution_count": 9
        }
      ]
    },
    {
      "cell_type": "markdown",
      "metadata": {
        "id": "JOu_AURj5IZJ"
      },
      "source": [
        ""
      ]
    },
    {
      "cell_type": "markdown",
      "metadata": {
        "id": "HCfM6wc28tSj"
      },
      "source": [
        "## **Displaying the datatype of each column and number of non null values in each column**"
      ]
    },
    {
      "cell_type": "code",
      "metadata": {
        "colab": {
          "base_uri": "https://localhost:8080/"
        },
        "id": "booAnoqy8yKJ",
        "outputId": "6a8b982f-7222-4e31-d32f-10dff5b7c9f6"
      },
      "source": [
        "Casualty.info()"
      ],
      "execution_count": 10,
      "outputs": [
        {
          "output_type": "stream",
          "text": [
            "<class 'pandas.core.frame.DataFrame'>\n",
            "RangeIndex: 6124 entries, 0 to 6123\n",
            "Data columns (total 12 columns):\n",
            " #   Column           Non-Null Count  Dtype \n",
            "---  ------           --------------  ----- \n",
            " 0   REPORT_ID        6124 non-null   object\n",
            " 1   UND_UNIT_NUMBER  6124 non-null   int64 \n",
            " 2   CASUALTY_NUMBER  6124 non-null   int64 \n",
            " 3   Casualty Type    6124 non-null   object\n",
            " 4   Sex              6124 non-null   object\n",
            " 5   AGE              6124 non-null   object\n",
            " 6   Position In Veh  5334 non-null   object\n",
            " 7   Thrown Out       5753 non-null   object\n",
            " 8   Injury Extent    6124 non-null   object\n",
            " 9   Seat Belt        4817 non-null   object\n",
            " 10  Helmet           1013 non-null   object\n",
            " 11  Hospital         4624 non-null   object\n",
            "dtypes: int64(2), object(10)\n",
            "memory usage: 574.2+ KB\n"
          ],
          "name": "stdout"
        }
      ]
    },
    {
      "cell_type": "markdown",
      "metadata": {
        "id": "Xz9dsHQJ84GA"
      },
      "source": [
        "## **Displaying number of unique values in each column**"
      ]
    },
    {
      "cell_type": "code",
      "metadata": {
        "colab": {
          "base_uri": "https://localhost:8080/"
        },
        "id": "JFZfsmgP86Is",
        "outputId": "419d5471-9bf9-4f90-a562-e252ff72360b"
      },
      "source": [
        "Casualty.nunique()"
      ],
      "execution_count": 11,
      "outputs": [
        {
          "output_type": "execute_result",
          "data": {
            "text/plain": [
              "REPORT_ID          4953\n",
              "UND_UNIT_NUMBER       9\n",
              "CASUALTY_NUMBER       6\n",
              "Casualty Type         4\n",
              "Sex                   3\n",
              "AGE                  97\n",
              "Position In Veh      13\n",
              "Thrown Out            2\n",
              "Injury Extent         4\n",
              "Seat Belt             7\n",
              "Helmet                3\n",
              "Hospital             74\n",
              "dtype: int64"
            ]
          },
          "metadata": {
            "tags": []
          },
          "execution_count": 11
        }
      ]
    },
    {
      "cell_type": "markdown",
      "metadata": {
        "id": "ss3nNK3E9BzD"
      },
      "source": [
        "## **Displaying number of null values in each column**"
      ]
    },
    {
      "cell_type": "code",
      "metadata": {
        "colab": {
          "base_uri": "https://localhost:8080/"
        },
        "id": "Xq9-TeyM9Dmo",
        "outputId": "aa5ec844-b19b-430e-dfb3-578728f3a8ea"
      },
      "source": [
        "Casualty.isnull().sum()"
      ],
      "execution_count": 12,
      "outputs": [
        {
          "output_type": "execute_result",
          "data": {
            "text/plain": [
              "REPORT_ID             0\n",
              "UND_UNIT_NUMBER       0\n",
              "CASUALTY_NUMBER       0\n",
              "Casualty Type         0\n",
              "Sex                   0\n",
              "AGE                   0\n",
              "Position In Veh     790\n",
              "Thrown Out          371\n",
              "Injury Extent         0\n",
              "Seat Belt          1307\n",
              "Helmet             5111\n",
              "Hospital           1500\n",
              "dtype: int64"
            ]
          },
          "metadata": {
            "tags": []
          },
          "execution_count": 12
        }
      ]
    },
    {
      "cell_type": "markdown",
      "metadata": {
        "id": "PnIotJDu9Ux-"
      },
      "source": [
        "## **Displaying Categorical Variables and their summary statistics**"
      ]
    },
    {
      "cell_type": "code",
      "metadata": {
        "colab": {
          "base_uri": "https://localhost:8080/",
          "height": 172
        },
        "id": "itw7z36o9VlY",
        "outputId": "c054457a-5c74-4bfd-dbdf-1e368ef1be1f"
      },
      "source": [
        "Casualty.describe(include=['O'])"
      ],
      "execution_count": 13,
      "outputs": [
        {
          "output_type": "execute_result",
          "data": {
            "text/html": [
              "<div>\n",
              "<style scoped>\n",
              "    .dataframe tbody tr th:only-of-type {\n",
              "        vertical-align: middle;\n",
              "    }\n",
              "\n",
              "    .dataframe tbody tr th {\n",
              "        vertical-align: top;\n",
              "    }\n",
              "\n",
              "    .dataframe thead th {\n",
              "        text-align: right;\n",
              "    }\n",
              "</style>\n",
              "<table border=\"1\" class=\"dataframe\">\n",
              "  <thead>\n",
              "    <tr style=\"text-align: right;\">\n",
              "      <th></th>\n",
              "      <th>REPORT_ID</th>\n",
              "      <th>Casualty Type</th>\n",
              "      <th>Sex</th>\n",
              "      <th>AGE</th>\n",
              "      <th>Position In Veh</th>\n",
              "      <th>Thrown Out</th>\n",
              "      <th>Injury Extent</th>\n",
              "      <th>Seat Belt</th>\n",
              "      <th>Helmet</th>\n",
              "      <th>Hospital</th>\n",
              "    </tr>\n",
              "  </thead>\n",
              "  <tbody>\n",
              "    <tr>\n",
              "      <th>count</th>\n",
              "      <td>6124</td>\n",
              "      <td>6124</td>\n",
              "      <td>6124</td>\n",
              "      <td>6124</td>\n",
              "      <td>5334</td>\n",
              "      <td>5753</td>\n",
              "      <td>6124</td>\n",
              "      <td>4817</td>\n",
              "      <td>1013</td>\n",
              "      <td>4624</td>\n",
              "    </tr>\n",
              "    <tr>\n",
              "      <th>unique</th>\n",
              "      <td>4953</td>\n",
              "      <td>4</td>\n",
              "      <td>3</td>\n",
              "      <td>97</td>\n",
              "      <td>13</td>\n",
              "      <td>2</td>\n",
              "      <td>4</td>\n",
              "      <td>7</td>\n",
              "      <td>3</td>\n",
              "      <td>74</td>\n",
              "    </tr>\n",
              "    <tr>\n",
              "      <th>top</th>\n",
              "      <td>2018-222-27/05/2021</td>\n",
              "      <td>Driver</td>\n",
              "      <td>Female</td>\n",
              "      <td>XXX</td>\n",
              "      <td>Driver</td>\n",
              "      <td>Not Thrown Out</td>\n",
              "      <td>Treated at Hospital</td>\n",
              "      <td>Fitted - Worn</td>\n",
              "      <td>Worn</td>\n",
              "      <td>XXXXXX</td>\n",
              "    </tr>\n",
              "    <tr>\n",
              "      <th>freq</th>\n",
              "      <td>7</td>\n",
              "      <td>3635</td>\n",
              "      <td>3073</td>\n",
              "      <td>174</td>\n",
              "      <td>3635</td>\n",
              "      <td>4839</td>\n",
              "      <td>4048</td>\n",
              "      <td>4365</td>\n",
              "      <td>964</td>\n",
              "      <td>1292</td>\n",
              "    </tr>\n",
              "  </tbody>\n",
              "</table>\n",
              "</div>"
            ],
            "text/plain": [
              "                  REPORT_ID Casualty Type  ... Helmet Hospital\n",
              "count                  6124          6124  ...   1013     4624\n",
              "unique                 4953             4  ...      3       74\n",
              "top     2018-222-27/05/2021        Driver  ...   Worn   XXXXXX\n",
              "freq                      7          3635  ...    964     1292\n",
              "\n",
              "[4 rows x 10 columns]"
            ]
          },
          "metadata": {
            "tags": []
          },
          "execution_count": 13
        }
      ]
    },
    {
      "cell_type": "markdown",
      "metadata": {
        "id": "3b2O1PGO9fEA"
      },
      "source": [
        "## **Displaying Continuous Variables and their summary statistics**"
      ]
    },
    {
      "cell_type": "code",
      "metadata": {
        "colab": {
          "base_uri": "https://localhost:8080/",
          "height": 295
        },
        "id": "PEYBbvWL9f0t",
        "outputId": "9a080ceb-108f-488b-8552-ce59df7bb51c"
      },
      "source": [
        "Casualty.describe(exclude=['O'])"
      ],
      "execution_count": 14,
      "outputs": [
        {
          "output_type": "execute_result",
          "data": {
            "text/html": [
              "<div>\n",
              "<style scoped>\n",
              "    .dataframe tbody tr th:only-of-type {\n",
              "        vertical-align: middle;\n",
              "    }\n",
              "\n",
              "    .dataframe tbody tr th {\n",
              "        vertical-align: top;\n",
              "    }\n",
              "\n",
              "    .dataframe thead th {\n",
              "        text-align: right;\n",
              "    }\n",
              "</style>\n",
              "<table border=\"1\" class=\"dataframe\">\n",
              "  <thead>\n",
              "    <tr style=\"text-align: right;\">\n",
              "      <th></th>\n",
              "      <th>UND_UNIT_NUMBER</th>\n",
              "      <th>CASUALTY_NUMBER</th>\n",
              "    </tr>\n",
              "  </thead>\n",
              "  <tbody>\n",
              "    <tr>\n",
              "      <th>count</th>\n",
              "      <td>6124.000000</td>\n",
              "      <td>6124.000000</td>\n",
              "    </tr>\n",
              "    <tr>\n",
              "      <th>mean</th>\n",
              "      <td>1.414272</td>\n",
              "      <td>1.145820</td>\n",
              "    </tr>\n",
              "    <tr>\n",
              "      <th>std</th>\n",
              "      <td>0.607804</td>\n",
              "      <td>0.449069</td>\n",
              "    </tr>\n",
              "    <tr>\n",
              "      <th>min</th>\n",
              "      <td>1.000000</td>\n",
              "      <td>1.000000</td>\n",
              "    </tr>\n",
              "    <tr>\n",
              "      <th>25%</th>\n",
              "      <td>1.000000</td>\n",
              "      <td>1.000000</td>\n",
              "    </tr>\n",
              "    <tr>\n",
              "      <th>50%</th>\n",
              "      <td>1.000000</td>\n",
              "      <td>1.000000</td>\n",
              "    </tr>\n",
              "    <tr>\n",
              "      <th>75%</th>\n",
              "      <td>2.000000</td>\n",
              "      <td>1.000000</td>\n",
              "    </tr>\n",
              "    <tr>\n",
              "      <th>max</th>\n",
              "      <td>10.000000</td>\n",
              "      <td>6.000000</td>\n",
              "    </tr>\n",
              "  </tbody>\n",
              "</table>\n",
              "</div>"
            ],
            "text/plain": [
              "       UND_UNIT_NUMBER  CASUALTY_NUMBER\n",
              "count      6124.000000      6124.000000\n",
              "mean          1.414272         1.145820\n",
              "std           0.607804         0.449069\n",
              "min           1.000000         1.000000\n",
              "25%           1.000000         1.000000\n",
              "50%           1.000000         1.000000\n",
              "75%           2.000000         1.000000\n",
              "max          10.000000         6.000000"
            ]
          },
          "metadata": {
            "tags": []
          },
          "execution_count": 14
        }
      ]
    },
    {
      "cell_type": "markdown",
      "metadata": {
        "id": "hWHcj9yZ9vqi"
      },
      "source": [
        "## **Displaying the column names**"
      ]
    },
    {
      "cell_type": "code",
      "metadata": {
        "colab": {
          "base_uri": "https://localhost:8080/"
        },
        "id": "L1HlKfvG9wkY",
        "outputId": "3b1cedd4-7cae-47f0-e215-a0b901a649a6"
      },
      "source": [
        "Casualty.columns"
      ],
      "execution_count": 15,
      "outputs": [
        {
          "output_type": "execute_result",
          "data": {
            "text/plain": [
              "Index(['REPORT_ID', 'UND_UNIT_NUMBER', 'CASUALTY_NUMBER', 'Casualty Type',\n",
              "       'Sex', 'AGE', 'Position In Veh', 'Thrown Out', 'Injury Extent',\n",
              "       'Seat Belt', 'Helmet', 'Hospital'],\n",
              "      dtype='object')"
            ]
          },
          "metadata": {
            "tags": []
          },
          "execution_count": 15
        }
      ]
    },
    {
      "cell_type": "markdown",
      "metadata": {
        "id": "9iFs07RYO3Op"
      },
      "source": [
        "## **Determining overall Correlation between the variables**"
      ]
    },
    {
      "cell_type": "code",
      "metadata": {
        "colab": {
          "base_uri": "https://localhost:8080/",
          "height": 110
        },
        "id": "4-6mQub4O4ZZ",
        "outputId": "6a65bf25-ae9c-4e09-f8b1-6d75a81cb316"
      },
      "source": [
        "Casualty_corr = Casualty.corr()\n",
        "Casualty_corr"
      ],
      "execution_count": 16,
      "outputs": [
        {
          "output_type": "execute_result",
          "data": {
            "text/html": [
              "<div>\n",
              "<style scoped>\n",
              "    .dataframe tbody tr th:only-of-type {\n",
              "        vertical-align: middle;\n",
              "    }\n",
              "\n",
              "    .dataframe tbody tr th {\n",
              "        vertical-align: top;\n",
              "    }\n",
              "\n",
              "    .dataframe thead th {\n",
              "        text-align: right;\n",
              "    }\n",
              "</style>\n",
              "<table border=\"1\" class=\"dataframe\">\n",
              "  <thead>\n",
              "    <tr style=\"text-align: right;\">\n",
              "      <th></th>\n",
              "      <th>UND_UNIT_NUMBER</th>\n",
              "      <th>CASUALTY_NUMBER</th>\n",
              "    </tr>\n",
              "  </thead>\n",
              "  <tbody>\n",
              "    <tr>\n",
              "      <th>UND_UNIT_NUMBER</th>\n",
              "      <td>1.000000</td>\n",
              "      <td>-0.033475</td>\n",
              "    </tr>\n",
              "    <tr>\n",
              "      <th>CASUALTY_NUMBER</th>\n",
              "      <td>-0.033475</td>\n",
              "      <td>1.000000</td>\n",
              "    </tr>\n",
              "  </tbody>\n",
              "</table>\n",
              "</div>"
            ],
            "text/plain": [
              "                 UND_UNIT_NUMBER  CASUALTY_NUMBER\n",
              "UND_UNIT_NUMBER         1.000000        -0.033475\n",
              "CASUALTY_NUMBER        -0.033475         1.000000"
            ]
          },
          "metadata": {
            "tags": []
          },
          "execution_count": 16
        }
      ]
    },
    {
      "cell_type": "markdown",
      "metadata": {
        "id": "oUfElfHPPnBW"
      },
      "source": [
        "## **Plotting a Heatmap to display the correlation**"
      ]
    },
    {
      "cell_type": "code",
      "metadata": {
        "colab": {
          "base_uri": "https://localhost:8080/",
          "height": 504
        },
        "id": "lOJ1hcoqPOx9",
        "outputId": "9b076a5d-59e4-474e-ae9e-bc7443dc24da"
      },
      "source": [
        "plt.figure(figsize =(10, 8))\n",
        "sns.heatmap(Casualty_corr, cmap = 'jet_r', annot=True)\n",
        "plt.title('Casualty: Correlation between variables' , color = 'maroon' , fontsize = 16)\n",
        "plt.xticks(fontsize=12)\n",
        "plt.yticks(fontsize=12)\n",
        "plt.show()"
      ],
      "execution_count": 17,
      "outputs": [
        {
          "output_type": "display_data",
          "data": {
            "image/png": "[encoded data removed]",
            "text/plain": [
              "<Figure size 720x576 with 2 Axes>"
            ]
          },
          "metadata": {
            "tags": [],
            "needs_background": "light"
          }
        }
      ]
    },
    {
      "cell_type": "markdown",
      "metadata": {
        "id": "ipJvY4zBEG2F"
      },
      "source": [
        " ## **Exploring outliers in Casualty Dataset**"
      ]
    },
    {
      "cell_type": "code",
      "metadata": {
        "colab": {
          "base_uri": "https://localhost:8080/",
          "height": 504
        },
        "id": "20IY7KTEEJWj",
        "outputId": "3db153bc-b27d-49fd-d51d-9edf5fee36bf"
      },
      "source": [
        "plt.figure(figsize = (10,8))\n",
        "Casualty.boxplot()\n",
        "plt.title('Outlier : Casualty ' ,color = 'maroon', fontsize=16 )\n",
        "plt.ylabel('Values' ,color = 'maroon', fontsize=14 )\n",
        "plt.xticks(fontsize=12)\n",
        "plt.yticks(fontsize=12)\n",
        "\n",
        "plt.show()"
      ],
      "execution_count": 18,
      "outputs": [
        {
          "output_type": "display_data",
          "data": {
            "image/png": "[encoded data removed]",
            "text/plain": [
              "<Figure size 720x576 with 1 Axes>"
            ]
          },
          "metadata": {
            "tags": [],
            "needs_background": "light"
          }
        }
      ]
    },
    {
      "cell_type": "markdown",
      "metadata": {
        "id": "pvJzFT4N95Hu"
      },
      "source": [
        "## **Plot for exploring the Count of records for each Casualty Type**"
      ]
    },
    {
      "cell_type": "code",
      "metadata": {
        "colab": {
          "base_uri": "https://localhost:8080/",
          "height": 522
        },
        "id": "HWs9VS4c9529",
        "outputId": "71c399b8-4698-4599-f3bf-90a3761f9968"
      },
      "source": [
        "plt.figure(figsize=[10,8])\n",
        "plt.hist(Casualty['Casualty Type'] , color ='Green',width = 0.4 , alpha = 0.5 )\n",
        " \n",
        "plt.xlabel(\"Casualty Type\" , color = 'maroon', fontsize=14)\n",
        "plt.ylabel(\"No. of casualty records\", color = 'maroon', fontsize=14)\n",
        "plt.title(\"Casualty Type distribution Vs Casuality Record\" , color = 'maroon', fontsize=16)\n",
        "plt.xticks(fontsize=12)\n",
        "plt.yticks(fontsize=12)\n",
        "\n",
        "plt.show()"
      ],
      "execution_count": 19,
      "outputs": [
        {
          "output_type": "display_data",
          "data": {
            "image/png": "[encoded data removed]",
            "text/plain": [
              "<Figure size 720x576 with 1 Axes>"
            ]
          },
          "metadata": {
            "tags": [],
            "needs_background": "light"
          }
        }
      ]
    },
    {
      "cell_type": "markdown",
      "metadata": {
        "id": "XLrFRdFD-WY7"
      },
      "source": [
        "## **Displaying the number of each unique value under Gender**"
      ]
    },
    {
      "cell_type": "code",
      "metadata": {
        "colab": {
          "base_uri": "https://localhost:8080/"
        },
        "id": "TczKmF1E-XC3",
        "outputId": "c78943b4-56ba-4079-b708-ffc8e838af2a"
      },
      "source": [
        "Casualty.Sex.value_counts()"
      ],
      "execution_count": 20,
      "outputs": [
        {
          "output_type": "execute_result",
          "data": {
            "text/plain": [
              "Female     3073\n",
              "Male       3037\n",
              "Unknown      14\n",
              "Name: Sex, dtype: int64"
            ]
          },
          "metadata": {
            "tags": []
          },
          "execution_count": 20
        }
      ]
    },
    {
      "cell_type": "markdown",
      "metadata": {
        "id": "YD5Pe_l9-eG6"
      },
      "source": [
        "## **Plot for exploring the Count of Records found for each Gender**"
      ]
    },
    {
      "cell_type": "code",
      "metadata": {
        "colab": {
          "base_uri": "https://localhost:8080/",
          "height": 522
        },
        "id": "fwYXEKzZ-fPJ",
        "outputId": "a9702d43-c893-464f-a3ab-f2e69947a57d"
      },
      "source": [
        "plt.figure(figsize=[10,8])\n",
        "\n",
        "sns.countplot(data = Casualty , y = 'Sex' , hue = 'Casualty Type')\n",
        "plt.ylabel(\"Sex\" , color = 'maroon', fontsize=14)\n",
        "plt.xlabel(\"Number of Casualty Records\" ,color = 'maroon', fontsize=14)\n",
        "plt.title(\"Sex of Casualty Distribution\" , color = 'maroon', fontsize=16)\n",
        "plt.xticks(fontsize=12)\n",
        "plt.yticks(fontsize=12)\n",
        "plt.show()"
      ],
      "execution_count": 21,
      "outputs": [
        {
          "output_type": "display_data",
          "data": {
            "image/png": "[encoded data removed]",
            "text/plain": [
              "<Figure size 720x576 with 1 Axes>"
            ]
          },
          "metadata": {
            "tags": [],
            "needs_background": "light"
          }
        }
      ]
    },
    {
      "cell_type": "markdown",
      "metadata": {
        "id": "M4_YfcCN-0Yu"
      },
      "source": [
        "## **Displaying the Number of Casualty record based on Position of the Injured Person in the Vehicle**"
      ]
    },
    {
      "cell_type": "code",
      "metadata": {
        "colab": {
          "base_uri": "https://localhost:8080/"
        },
        "id": "mbw3OQsl-1L4",
        "outputId": "f3191917-71fe-4332-dd6e-c5c68efa3142"
      },
      "source": [
        "Casualty['Position In Veh'].value_counts()"
      ],
      "execution_count": 22,
      "outputs": [
        {
          "output_type": "execute_result",
          "data": {
            "text/plain": [
              "Driver                                  3635\n",
              "Front Seat Left Passenger                733\n",
              "Rider of Motorcycle                      498\n",
              "Rear Seat Left Passenger                 190\n",
              "Rear Seat Right Passenger                170\n",
              "Rear Seat Middle Passenger                57\n",
              "Unknown                                   18\n",
              "Passenger of Motorcycle                   17\n",
              "Passenger on Multi-Passenger Vehicle       8\n",
              "Other                                      3\n",
              "Front Seat Middle Passenger                2\n",
              "Back of Enclosed Van                       2\n",
              "Back Open Utility or Truck                 1\n",
              "Name: Position In Veh, dtype: int64"
            ]
          },
          "metadata": {
            "tags": []
          },
          "execution_count": 22
        }
      ]
    },
    {
      "cell_type": "markdown",
      "metadata": {
        "id": "WMfIADgC_Mn-"
      },
      "source": [
        "## **Plot for exploring the Count of Casualty against their position in the Vehicle**"
      ]
    },
    {
      "cell_type": "code",
      "metadata": {
        "colab": {
          "base_uri": "https://localhost:8080/",
          "height": 639
        },
        "id": "nNKb70-o_SfD",
        "outputId": "f5480078-8dbd-40b9-f97e-062ab892823e"
      },
      "source": [
        "Casualty['Position In Veh'].value_counts().plot(kind='barh' ,color = 'Orange', figsize=(15, 10) )\n",
        "plt.xlabel(\"Number of Casualty Records\" , color = 'maroon' ,fontsize = 18 )\n",
        "plt.ylabel(\"Position of Casualty in the Vehicle\" , color = 'maroon'  , fontsize = 18)\n",
        "plt.title(\"Position of Casualty Vs Casualty Records\" , color = 'maroon' , fontsize = 20)\n",
        "plt.xticks(fontsize=16)\n",
        "plt.yticks(fontsize=16)\n",
        "plt.show()"
      ],
      "execution_count": 23,
      "outputs": [
        {
          "output_type": "display_data",
          "data": {
            "image/png": "[encoded data removed]",
            "text/plain": [
              "<Figure size 1080x720 with 1 Axes>"
            ]
          },
          "metadata": {
            "tags": [],
            "needs_background": "light"
          }
        }
      ]
    },
    {
      "cell_type": "markdown",
      "metadata": {
        "id": "r66zd-rP_klW"
      },
      "source": [
        "## **Exploring the Number of Casualty records against Thrown Out variable**"
      ]
    },
    {
      "cell_type": "code",
      "metadata": {
        "colab": {
          "base_uri": "https://localhost:8080/"
        },
        "id": "T46I74RE_qT5",
        "outputId": "dd18c67f-90e0-47b3-a174-d9098fdb5fa2"
      },
      "source": [
        "Casualty['Thrown Out'].value_counts()"
      ],
      "execution_count": 24,
      "outputs": [
        {
          "output_type": "execute_result",
          "data": {
            "text/plain": [
              "Not Thrown Out    4839\n",
              "Thrown Out         914\n",
              "Name: Thrown Out, dtype: int64"
            ]
          },
          "metadata": {
            "tags": []
          },
          "execution_count": 24
        }
      ]
    },
    {
      "cell_type": "markdown",
      "metadata": {
        "id": "mzf-Qpx4_xDl"
      },
      "source": [
        "## **Exploring the Count of Casualty records in which the person was Thrown Out from the Vehicle during the crash**"
      ]
    },
    {
      "cell_type": "code",
      "metadata": {
        "colab": {
          "base_uri": "https://localhost:8080/",
          "height": 373
        },
        "id": "fiEOdy6I_2BP",
        "outputId": "5a974442-65de-4fed-bca7-658a8f997328"
      },
      "source": [
        "Casualty['Thrown Out'].value_counts().plot(kind='pie',title='Thrown Out Status',\n",
        "                                      autopct='%1.1f%%', labels= ['Not Thrown out', 'Thrown Out'],\n",
        "                                      explode=(0.05, 0.05), \n",
        "                                      ylabel=\" \" ,\n",
        "                                      shadow=True , figsize=(8, 6))\n",
        "\n",
        "plt.show()"
      ],
      "execution_count": 25,
      "outputs": [
        {
          "output_type": "display_data",
          "data": {
            "image/png": "[encoded data removed]",
            "text/plain": [
              "<Figure size 576x432 with 1 Axes>"
            ]
          },
          "metadata": {
            "tags": []
          }
        }
      ]
    },
    {
      "cell_type": "markdown",
      "metadata": {
        "id": "gL2lddD8AKpk"
      },
      "source": [
        "## **Displaying the Number of Casualty record against Injury extent variable**"
      ]
    },
    {
      "cell_type": "code",
      "metadata": {
        "colab": {
          "base_uri": "https://localhost:8080/"
        },
        "id": "ygXZ6d6lANog",
        "outputId": "5018d536-ebf4-400e-c9fc-3e7afbfa487b"
      },
      "source": [
        "Casualty['Injury Extent'].value_counts()"
      ],
      "execution_count": 26,
      "outputs": [
        {
          "output_type": "execute_result",
          "data": {
            "text/plain": [
              "Treated at Hospital     4048\n",
              "By Private              1420\n",
              "Admitted to Hospital     576\n",
              "Fatal                     80\n",
              "Name: Injury Extent, dtype: int64"
            ]
          },
          "metadata": {
            "tags": []
          },
          "execution_count": 26
        }
      ]
    },
    {
      "cell_type": "markdown",
      "metadata": {
        "id": "efuE5-dQAUVa"
      },
      "source": [
        "## **Plot for exploring the Count of Casualty records against Injury Extent in the person**"
      ]
    },
    {
      "cell_type": "code",
      "metadata": {
        "colab": {
          "base_uri": "https://localhost:8080/",
          "height": 522
        },
        "id": "hUOssdM8AWkn",
        "outputId": "3292e3ee-b277-410b-e788-543586ffcba1"
      },
      "source": [
        "Casualty['Injury Extent'].value_counts().plot(kind='barh',color = 'brown', figsize=(10, 8))\n",
        "plt.ylabel(\"Injury Extent\" , color = 'maroon'  , fontsize = 14)\n",
        "plt.xlabel(\"Number of Casualty Records\" ,  color = 'maroon'  , fontsize = 14)\n",
        "plt.title(\"Injury Extent Vs Casuality Record\" , color = 'maroon'  , fontsize = 16)\n",
        "plt.xticks(fontsize=12)\n",
        "plt.yticks(fontsize=12)\n",
        "plt.show()"
      ],
      "execution_count": 27,
      "outputs": [
        {
          "output_type": "display_data",
          "data": {
            "image/png": "[encoded data removed]",
            "text/plain": [
              "<Figure size 720x576 with 1 Axes>"
            ]
          },
          "metadata": {
            "tags": [],
            "needs_background": "light"
          }
        }
      ]
    },
    {
      "cell_type": "markdown",
      "metadata": {
        "id": "byS2qQ4PArbg"
      },
      "source": [
        "## **Displaying the Number of Casualty record against Seat Belt status**"
      ]
    },
    {
      "cell_type": "code",
      "metadata": {
        "colab": {
          "base_uri": "https://localhost:8080/"
        },
        "id": "n5V1RyQ7Auoy",
        "outputId": "1addd5d1-8315-41cd-df90-89dff86b04ec"
      },
      "source": [
        "Casualty['Seat Belt'].value_counts()"
      ],
      "execution_count": 28,
      "outputs": [
        {
          "output_type": "execute_result",
          "data": {
            "text/plain": [
              "Fitted - Worn                 4365\n",
              "Fitted - Unknown if Worn       298\n",
              "Fitted - Not Worn               94\n",
              "Child Restraint - Worn          51\n",
              "Not Fitted                       5\n",
              "Child Restraint - Not Worn       3\n",
              "Not Applicable                   1\n",
              "Name: Seat Belt, dtype: int64"
            ]
          },
          "metadata": {
            "tags": []
          },
          "execution_count": 28
        }
      ]
    },
    {
      "cell_type": "markdown",
      "metadata": {
        "id": "3dm8CWz8A3tj"
      },
      "source": [
        "## **Displaying the Number of Casualty records against Helmet Status variable**"
      ]
    },
    {
      "cell_type": "code",
      "metadata": {
        "colab": {
          "base_uri": "https://localhost:8080/"
        },
        "id": "csCC5QRpA9R_",
        "outputId": "e814356f-7c00-45d3-8376-4b03bab0f43d"
      },
      "source": [
        "Casualty.Helmet.value_counts()"
      ],
      "execution_count": 29,
      "outputs": [
        {
          "output_type": "execute_result",
          "data": {
            "text/plain": [
              "Worn        964\n",
              "Unknown      29\n",
              "Not Worn     20\n",
              "Name: Helmet, dtype: int64"
            ]
          },
          "metadata": {
            "tags": []
          },
          "execution_count": 29
        }
      ]
    },
    {
      "cell_type": "markdown",
      "metadata": {
        "id": "3PQmQUGuBB2f"
      },
      "source": [
        "## **Displaying the Number of Casualty records against Hospital variable**"
      ]
    },
    {
      "cell_type": "code",
      "metadata": {
        "colab": {
          "base_uri": "https://localhost:8080/"
        },
        "id": "Emtw66ZKBFLN",
        "outputId": "b217d15b-ee93-4260-ce9e-132245a6a20e"
      },
      "source": [
        "Casualty.Hospital.value_counts()"
      ],
      "execution_count": 30,
      "outputs": [
        {
          "output_type": "execute_result",
          "data": {
            "text/plain": [
              "XXXXXX                 1292\n",
              "ROYAL ADELAIDE          949\n",
              "FLINDERS MED CENTRE     587\n",
              "LYELL MCEWIN            503\n",
              "MODBURY                 230\n",
              "                       ... \n",
              "MOONTA                    1\n",
              "WALLAROO                  1\n",
              "ARDROSSAN                 1\n",
              "QUORN                     1\n",
              "CUMMINS                   1\n",
              "Name: Hospital, Length: 74, dtype: int64"
            ]
          },
          "metadata": {
            "tags": []
          },
          "execution_count": 30
        }
      ]
    },
    {
      "cell_type": "markdown",
      "metadata": {
        "id": "RnR57LNLBVmm"
      },
      "source": [
        "# ***Loading the Crash Dataset***"
      ]
    },
    {
      "cell_type": "code",
      "metadata": {
        "colab": {
          "base_uri": "https://localhost:8080/",
          "height": 756
        },
        "id": "1Jc67eZ9BaKb",
        "outputId": "acb1a20e-fc04-450d-cdd0-cc63fcccda68"
      },
      "source": [
        "Crash"
      ],
      "execution_count": 31,
      "outputs": [
        {
          "output_type": "execute_result",
          "data": {
            "text/html": [
              "<div>\n",
              "<style scoped>\n",
              "    .dataframe tbody tr th:only-of-type {\n",
              "        vertical-align: middle;\n",
              "    }\n",
              "\n",
              "    .dataframe tbody tr th {\n",
              "        vertical-align: top;\n",
              "    }\n",
              "\n",
              "    .dataframe thead th {\n",
              "        text-align: right;\n",
              "    }\n",
              "</style>\n",
              "<table border=\"1\" class=\"dataframe\">\n",
              "  <thead>\n",
              "    <tr style=\"text-align: right;\">\n",
              "      <th></th>\n",
              "      <th>REPORT_ID</th>\n",
              "      <th>Stats Area</th>\n",
              "      <th>Suburb</th>\n",
              "      <th>Postcode</th>\n",
              "      <th>LGA Name</th>\n",
              "      <th>Total Units</th>\n",
              "      <th>Total Cas</th>\n",
              "      <th>Total Fats</th>\n",
              "      <th>Total SI</th>\n",
              "      <th>Total MI</th>\n",
              "      <th>Year</th>\n",
              "      <th>Month</th>\n",
              "      <th>Day</th>\n",
              "      <th>Time</th>\n",
              "      <th>Area Speed</th>\n",
              "      <th>Position Type</th>\n",
              "      <th>Horizontal Align</th>\n",
              "      <th>Vertical Align</th>\n",
              "      <th>Other Feat</th>\n",
              "      <th>Road Surface</th>\n",
              "      <th>Moisture Cond</th>\n",
              "      <th>Weather Cond</th>\n",
              "      <th>DayNight</th>\n",
              "      <th>Crash Type</th>\n",
              "      <th>Unit Resp</th>\n",
              "      <th>Entity Code</th>\n",
              "      <th>CSEF Severity</th>\n",
              "      <th>Traffic Ctrls</th>\n",
              "      <th>DUI Involved</th>\n",
              "      <th>Drugs Involved</th>\n",
              "      <th>ACCLOC_X</th>\n",
              "      <th>ACCLOC_Y</th>\n",
              "      <th>UNIQUE_LOC</th>\n",
              "    </tr>\n",
              "  </thead>\n",
              "  <tbody>\n",
              "    <tr>\n",
              "      <th>0</th>\n",
              "      <td>2018-1-27/05/2021</td>\n",
              "      <td>2 Metropolitan</td>\n",
              "      <td>MITCHELL PARK</td>\n",
              "      <td>5043</td>\n",
              "      <td>CC MARION.</td>\n",
              "      <td>4</td>\n",
              "      <td>0</td>\n",
              "      <td>0</td>\n",
              "      <td>0</td>\n",
              "      <td>0</td>\n",
              "      <td>2018</td>\n",
              "      <td>October</td>\n",
              "      <td>Wednesday</td>\n",
              "      <td>11:20 am</td>\n",
              "      <td>60</td>\n",
              "      <td>Divided Road</td>\n",
              "      <td>Straight road</td>\n",
              "      <td>Level</td>\n",
              "      <td>Driveway or Entrance</td>\n",
              "      <td>Sealed</td>\n",
              "      <td>Dry</td>\n",
              "      <td>Not Raining</td>\n",
              "      <td>Daylight</td>\n",
              "      <td>Right Angle</td>\n",
              "      <td>2</td>\n",
              "      <td>Driver Rider</td>\n",
              "      <td>1: PDO</td>\n",
              "      <td>No Control</td>\n",
              "      <td>NaN</td>\n",
              "      <td>NaN</td>\n",
              "      <td>1324362.05</td>\n",
              "      <td>1662130.48</td>\n",
              "      <td>1.324362e+13</td>\n",
              "    </tr>\n",
              "    <tr>\n",
              "      <th>1</th>\n",
              "      <td>2018-2-27/05/2021</td>\n",
              "      <td>2 Metropolitan</td>\n",
              "      <td>GLANVILLE</td>\n",
              "      <td>5015</td>\n",
              "      <td>CITY OF PORT ADELAIDE ENFIELD</td>\n",
              "      <td>2</td>\n",
              "      <td>0</td>\n",
              "      <td>0</td>\n",
              "      <td>0</td>\n",
              "      <td>0</td>\n",
              "      <td>2018</td>\n",
              "      <td>January</td>\n",
              "      <td>Monday</td>\n",
              "      <td>12:45 am</td>\n",
              "      <td>60</td>\n",
              "      <td>Divided Road</td>\n",
              "      <td>Straight road</td>\n",
              "      <td>Level</td>\n",
              "      <td>Bridge, Culvert, Causeway</td>\n",
              "      <td>Sealed</td>\n",
              "      <td>Dry</td>\n",
              "      <td>Not Raining</td>\n",
              "      <td>Night</td>\n",
              "      <td>Rear End</td>\n",
              "      <td>2</td>\n",
              "      <td>Driver Rider</td>\n",
              "      <td>1: PDO</td>\n",
              "      <td>No Control</td>\n",
              "      <td>NaN</td>\n",
              "      <td>NaN</td>\n",
              "      <td>1319117.45</td>\n",
              "      <td>1679740.62</td>\n",
              "      <td>1.319117e+13</td>\n",
              "    </tr>\n",
              "    <tr>\n",
              "      <th>2</th>\n",
              "      <td>2018-3-27/05/2021</td>\n",
              "      <td>2 Metropolitan</td>\n",
              "      <td>GOLDEN GROVE</td>\n",
              "      <td>5125</td>\n",
              "      <td>CITY OF TEA TREE GULLY</td>\n",
              "      <td>2</td>\n",
              "      <td>0</td>\n",
              "      <td>0</td>\n",
              "      <td>0</td>\n",
              "      <td>0</td>\n",
              "      <td>2018</td>\n",
              "      <td>January</td>\n",
              "      <td>Monday</td>\n",
              "      <td>02:14 am</td>\n",
              "      <td>60</td>\n",
              "      <td>Cross Road</td>\n",
              "      <td>Straight road</td>\n",
              "      <td>Level</td>\n",
              "      <td>Not Applicable</td>\n",
              "      <td>Sealed</td>\n",
              "      <td>Dry</td>\n",
              "      <td>Not Raining</td>\n",
              "      <td>Night</td>\n",
              "      <td>Right Angle</td>\n",
              "      <td>1</td>\n",
              "      <td>Driver Rider</td>\n",
              "      <td>1: PDO</td>\n",
              "      <td>Traffic Signals</td>\n",
              "      <td>NaN</td>\n",
              "      <td>NaN</td>\n",
              "      <td>1337889.71</td>\n",
              "      <td>1685361.47</td>\n",
              "      <td>1.337890e+13</td>\n",
              "    </tr>\n",
              "    <tr>\n",
              "      <th>3</th>\n",
              "      <td>2018-4-27/05/2021</td>\n",
              "      <td>2 Metropolitan</td>\n",
              "      <td>ELIZABETH SOUTH</td>\n",
              "      <td>5112</td>\n",
              "      <td>CITY OF PLAYFORD.</td>\n",
              "      <td>2</td>\n",
              "      <td>4</td>\n",
              "      <td>0</td>\n",
              "      <td>1</td>\n",
              "      <td>3</td>\n",
              "      <td>2018</td>\n",
              "      <td>January</td>\n",
              "      <td>Monday</td>\n",
              "      <td>02:26 am</td>\n",
              "      <td>60</td>\n",
              "      <td>Cross Road</td>\n",
              "      <td>Straight road</td>\n",
              "      <td>Level</td>\n",
              "      <td>Not Applicable</td>\n",
              "      <td>Sealed</td>\n",
              "      <td>Dry</td>\n",
              "      <td>Not Raining</td>\n",
              "      <td>Night</td>\n",
              "      <td>Right Turn</td>\n",
              "      <td>1</td>\n",
              "      <td>Driver Rider</td>\n",
              "      <td>3: SI</td>\n",
              "      <td>Traffic Signals</td>\n",
              "      <td>NaN</td>\n",
              "      <td>NaN</td>\n",
              "      <td>1334568.88</td>\n",
              "      <td>1691271.22</td>\n",
              "      <td>1.334569e+13</td>\n",
              "    </tr>\n",
              "    <tr>\n",
              "      <th>4</th>\n",
              "      <td>2018-5-27/05/2021</td>\n",
              "      <td>2 Metropolitan</td>\n",
              "      <td>CROYDON</td>\n",
              "      <td>5008</td>\n",
              "      <td>CITY OF CHARLES STURT</td>\n",
              "      <td>2</td>\n",
              "      <td>3</td>\n",
              "      <td>0</td>\n",
              "      <td>0</td>\n",
              "      <td>3</td>\n",
              "      <td>2018</td>\n",
              "      <td>January</td>\n",
              "      <td>Monday</td>\n",
              "      <td>04:00 am</td>\n",
              "      <td>60</td>\n",
              "      <td>Cross Road</td>\n",
              "      <td>Straight road</td>\n",
              "      <td>Level</td>\n",
              "      <td>Not Applicable</td>\n",
              "      <td>Sealed</td>\n",
              "      <td>Dry</td>\n",
              "      <td>Not Raining</td>\n",
              "      <td>Night</td>\n",
              "      <td>Right Turn</td>\n",
              "      <td>2</td>\n",
              "      <td>Driver Rider</td>\n",
              "      <td>2: MI</td>\n",
              "      <td>Traffic Signals</td>\n",
              "      <td>NaN</td>\n",
              "      <td>NaN</td>\n",
              "      <td>1325517.03</td>\n",
              "      <td>1673428.59</td>\n",
              "      <td>1.325517e+13</td>\n",
              "    </tr>\n",
              "    <tr>\n",
              "      <th>...</th>\n",
              "      <td>...</td>\n",
              "      <td>...</td>\n",
              "      <td>...</td>\n",
              "      <td>...</td>\n",
              "      <td>...</td>\n",
              "      <td>...</td>\n",
              "      <td>...</td>\n",
              "      <td>...</td>\n",
              "      <td>...</td>\n",
              "      <td>...</td>\n",
              "      <td>...</td>\n",
              "      <td>...</td>\n",
              "      <td>...</td>\n",
              "      <td>...</td>\n",
              "      <td>...</td>\n",
              "      <td>...</td>\n",
              "      <td>...</td>\n",
              "      <td>...</td>\n",
              "      <td>...</td>\n",
              "      <td>...</td>\n",
              "      <td>...</td>\n",
              "      <td>...</td>\n",
              "      <td>...</td>\n",
              "      <td>...</td>\n",
              "      <td>...</td>\n",
              "      <td>...</td>\n",
              "      <td>...</td>\n",
              "      <td>...</td>\n",
              "      <td>...</td>\n",
              "      <td>...</td>\n",
              "      <td>...</td>\n",
              "      <td>...</td>\n",
              "      <td>...</td>\n",
              "    </tr>\n",
              "    <tr>\n",
              "      <th>13594</th>\n",
              "      <td>2018-13595-27/05/2021</td>\n",
              "      <td>1 City</td>\n",
              "      <td>ADELAIDE</td>\n",
              "      <td>5000</td>\n",
              "      <td>CITY OF ADELAIDE</td>\n",
              "      <td>2</td>\n",
              "      <td>1</td>\n",
              "      <td>0</td>\n",
              "      <td>0</td>\n",
              "      <td>1</td>\n",
              "      <td>2018</td>\n",
              "      <td>December</td>\n",
              "      <td>Thursday</td>\n",
              "      <td>01:49 am</td>\n",
              "      <td>60</td>\n",
              "      <td>Cross Road</td>\n",
              "      <td>Straight road</td>\n",
              "      <td>Level</td>\n",
              "      <td>Not Applicable</td>\n",
              "      <td>Sealed</td>\n",
              "      <td>Wet</td>\n",
              "      <td>Raining</td>\n",
              "      <td>Night</td>\n",
              "      <td>Rear End</td>\n",
              "      <td>2</td>\n",
              "      <td>Driver Rider</td>\n",
              "      <td>2: MI</td>\n",
              "      <td>Traffic Signals</td>\n",
              "      <td>NaN</td>\n",
              "      <td>NaN</td>\n",
              "      <td>1327363.85</td>\n",
              "      <td>1670321.47</td>\n",
              "      <td>1.327364e+13</td>\n",
              "    </tr>\n",
              "    <tr>\n",
              "      <th>13595</th>\n",
              "      <td>2018-13596-27/05/2021</td>\n",
              "      <td>2 Metropolitan</td>\n",
              "      <td>GAWLER</td>\n",
              "      <td>5118</td>\n",
              "      <td>CT GAWLER.</td>\n",
              "      <td>2</td>\n",
              "      <td>1</td>\n",
              "      <td>0</td>\n",
              "      <td>0</td>\n",
              "      <td>1</td>\n",
              "      <td>2018</td>\n",
              "      <td>September</td>\n",
              "      <td>Friday</td>\n",
              "      <td>02:00 pm</td>\n",
              "      <td>50</td>\n",
              "      <td>Cross Road</td>\n",
              "      <td>Straight road</td>\n",
              "      <td>Level</td>\n",
              "      <td>Not Applicable</td>\n",
              "      <td>Sealed</td>\n",
              "      <td>Dry</td>\n",
              "      <td>Not Raining</td>\n",
              "      <td>Daylight</td>\n",
              "      <td>Rear End</td>\n",
              "      <td>2</td>\n",
              "      <td>Driver Rider</td>\n",
              "      <td>2: MI</td>\n",
              "      <td>Traffic Signals</td>\n",
              "      <td>NaN</td>\n",
              "      <td>NaN</td>\n",
              "      <td>1343262.87</td>\n",
              "      <td>1705915.87</td>\n",
              "      <td>1.343263e+13</td>\n",
              "    </tr>\n",
              "    <tr>\n",
              "      <th>13596</th>\n",
              "      <td>2018-13597-27/05/2021</td>\n",
              "      <td>1 City</td>\n",
              "      <td>ADELAIDE</td>\n",
              "      <td>5000</td>\n",
              "      <td>CITY OF ADELAIDE</td>\n",
              "      <td>2</td>\n",
              "      <td>1</td>\n",
              "      <td>0</td>\n",
              "      <td>0</td>\n",
              "      <td>1</td>\n",
              "      <td>2018</td>\n",
              "      <td>September</td>\n",
              "      <td>Saturday</td>\n",
              "      <td>05:30 pm</td>\n",
              "      <td>50</td>\n",
              "      <td>Cross Road</td>\n",
              "      <td>Straight road</td>\n",
              "      <td>Level</td>\n",
              "      <td>Not Applicable</td>\n",
              "      <td>Sealed</td>\n",
              "      <td>Dry</td>\n",
              "      <td>Not Raining</td>\n",
              "      <td>Daylight</td>\n",
              "      <td>Right Angle</td>\n",
              "      <td>2</td>\n",
              "      <td>Driver Rider</td>\n",
              "      <td>2: MI</td>\n",
              "      <td>Traffic Signals</td>\n",
              "      <td>NaN</td>\n",
              "      <td>NaN</td>\n",
              "      <td>1329570.16</td>\n",
              "      <td>1670701.85</td>\n",
              "      <td>1.329570e+13</td>\n",
              "    </tr>\n",
              "    <tr>\n",
              "      <th>13597</th>\n",
              "      <td>2018-13598-27/05/2021</td>\n",
              "      <td>2 Metropolitan</td>\n",
              "      <td>MORPHETT VALE</td>\n",
              "      <td>5162</td>\n",
              "      <td>CITY OF ONKAPARINGA</td>\n",
              "      <td>2</td>\n",
              "      <td>1</td>\n",
              "      <td>0</td>\n",
              "      <td>0</td>\n",
              "      <td>1</td>\n",
              "      <td>2018</td>\n",
              "      <td>August</td>\n",
              "      <td>Tuesday</td>\n",
              "      <td>12:28 pm</td>\n",
              "      <td>60</td>\n",
              "      <td>T-Junction</td>\n",
              "      <td>Straight road</td>\n",
              "      <td>Slope</td>\n",
              "      <td>Not Applicable</td>\n",
              "      <td>Sealed</td>\n",
              "      <td>Dry</td>\n",
              "      <td>Not Raining</td>\n",
              "      <td>Daylight</td>\n",
              "      <td>Rear End</td>\n",
              "      <td>2</td>\n",
              "      <td>Driver Rider</td>\n",
              "      <td>2: MI</td>\n",
              "      <td>No Control</td>\n",
              "      <td>NaN</td>\n",
              "      <td>NaN</td>\n",
              "      <td>1319635.51</td>\n",
              "      <td>1648902.71</td>\n",
              "      <td>1.319636e+13</td>\n",
              "    </tr>\n",
              "    <tr>\n",
              "      <th>13598</th>\n",
              "      <td>2018-13599-27/05/2021</td>\n",
              "      <td>2 Metropolitan</td>\n",
              "      <td>PARKSIDE</td>\n",
              "      <td>5063</td>\n",
              "      <td>CITY OF UNLEY</td>\n",
              "      <td>2</td>\n",
              "      <td>1</td>\n",
              "      <td>0</td>\n",
              "      <td>0</td>\n",
              "      <td>1</td>\n",
              "      <td>2018</td>\n",
              "      <td>November</td>\n",
              "      <td>Wednesday</td>\n",
              "      <td>05:11 pm</td>\n",
              "      <td>60</td>\n",
              "      <td>Cross Road</td>\n",
              "      <td>Straight road</td>\n",
              "      <td>Level</td>\n",
              "      <td>Not Applicable</td>\n",
              "      <td>Sealed</td>\n",
              "      <td>Dry</td>\n",
              "      <td>Not Raining</td>\n",
              "      <td>Daylight</td>\n",
              "      <td>Rear End</td>\n",
              "      <td>2</td>\n",
              "      <td>Driver Rider</td>\n",
              "      <td>2: MI</td>\n",
              "      <td>Traffic Signals</td>\n",
              "      <td>NaN</td>\n",
              "      <td>NaN</td>\n",
              "      <td>1330707.08</td>\n",
              "      <td>1668319.59</td>\n",
              "      <td>1.330707e+13</td>\n",
              "    </tr>\n",
              "  </tbody>\n",
              "</table>\n",
              "<p>13599 rows × 33 columns</p>\n",
              "</div>"
            ],
            "text/plain": [
              "                   REPORT_ID      Stats Area  ...    ACCLOC_Y    UNIQUE_LOC\n",
              "0          2018-1-27/05/2021  2 Metropolitan  ...  1662130.48  1.324362e+13\n",
              "1          2018-2-27/05/2021  2 Metropolitan  ...  1679740.62  1.319117e+13\n",
              "2          2018-3-27/05/2021  2 Metropolitan  ...  1685361.47  1.337890e+13\n",
              "3          2018-4-27/05/2021  2 Metropolitan  ...  1691271.22  1.334569e+13\n",
              "4          2018-5-27/05/2021  2 Metropolitan  ...  1673428.59  1.325517e+13\n",
              "...                      ...             ...  ...         ...           ...\n",
              "13594  2018-13595-27/05/2021          1 City  ...  1670321.47  1.327364e+13\n",
              "13595  2018-13596-27/05/2021  2 Metropolitan  ...  1705915.87  1.343263e+13\n",
              "13596  2018-13597-27/05/2021          1 City  ...  1670701.85  1.329570e+13\n",
              "13597  2018-13598-27/05/2021  2 Metropolitan  ...  1648902.71  1.319636e+13\n",
              "13598  2018-13599-27/05/2021  2 Metropolitan  ...  1668319.59  1.330707e+13\n",
              "\n",
              "[13599 rows x 33 columns]"
            ]
          },
          "metadata": {
            "tags": []
          },
          "execution_count": 31
        }
      ]
    },
    {
      "cell_type": "markdown",
      "metadata": {
        "id": "YS9KLHgHCeNL"
      },
      "source": [
        "## **Exploring the datatype of dataset**"
      ]
    },
    {
      "cell_type": "code",
      "metadata": {
        "colab": {
          "base_uri": "https://localhost:8080/"
        },
        "id": "6GZFs_YDCihb",
        "outputId": "e0946ce0-69ff-4bd1-a6d5-56d09699df53"
      },
      "source": [
        "type(Crash)"
      ],
      "execution_count": 32,
      "outputs": [
        {
          "output_type": "execute_result",
          "data": {
            "text/plain": [
              "pandas.core.frame.DataFrame"
            ]
          },
          "metadata": {
            "tags": []
          },
          "execution_count": 32
        }
      ]
    },
    {
      "cell_type": "markdown",
      "metadata": {
        "id": "wk57cOQrCqfu"
      },
      "source": [
        "## **Displaying the first five rows of the dataset**"
      ]
    },
    {
      "cell_type": "code",
      "metadata": {
        "colab": {
          "base_uri": "https://localhost:8080/",
          "height": 408
        },
        "id": "yhizBSt7Ct18",
        "outputId": "31a21a34-85be-4729-fe0e-b47143a48b9d"
      },
      "source": [
        "Crash.head()"
      ],
      "execution_count": 33,
      "outputs": [
        {
          "output_type": "execute_result",
          "data": {
            "text/html": [
              "<div>\n",
              "<style scoped>\n",
              "    .dataframe tbody tr th:only-of-type {\n",
              "        vertical-align: middle;\n",
              "    }\n",
              "\n",
              "    .dataframe tbody tr th {\n",
              "        vertical-align: top;\n",
              "    }\n",
              "\n",
              "    .dataframe thead th {\n",
              "        text-align: right;\n",
              "    }\n",
              "</style>\n",
              "<table border=\"1\" class=\"dataframe\">\n",
              "  <thead>\n",
              "    <tr style=\"text-align: right;\">\n",
              "      <th></th>\n",
              "      <th>REPORT_ID</th>\n",
              "      <th>Stats Area</th>\n",
              "      <th>Suburb</th>\n",
              "      <th>Postcode</th>\n",
              "      <th>LGA Name</th>\n",
              "      <th>Total Units</th>\n",
              "      <th>Total Cas</th>\n",
              "      <th>Total Fats</th>\n",
              "      <th>Total SI</th>\n",
              "      <th>Total MI</th>\n",
              "      <th>Year</th>\n",
              "      <th>Month</th>\n",
              "      <th>Day</th>\n",
              "      <th>Time</th>\n",
              "      <th>Area Speed</th>\n",
              "      <th>Position Type</th>\n",
              "      <th>Horizontal Align</th>\n",
              "      <th>Vertical Align</th>\n",
              "      <th>Other Feat</th>\n",
              "      <th>Road Surface</th>\n",
              "      <th>Moisture Cond</th>\n",
              "      <th>Weather Cond</th>\n",
              "      <th>DayNight</th>\n",
              "      <th>Crash Type</th>\n",
              "      <th>Unit Resp</th>\n",
              "      <th>Entity Code</th>\n",
              "      <th>CSEF Severity</th>\n",
              "      <th>Traffic Ctrls</th>\n",
              "      <th>DUI Involved</th>\n",
              "      <th>Drugs Involved</th>\n",
              "      <th>ACCLOC_X</th>\n",
              "      <th>ACCLOC_Y</th>\n",
              "      <th>UNIQUE_LOC</th>\n",
              "    </tr>\n",
              "  </thead>\n",
              "  <tbody>\n",
              "    <tr>\n",
              "      <th>0</th>\n",
              "      <td>2018-1-27/05/2021</td>\n",
              "      <td>2 Metropolitan</td>\n",
              "      <td>MITCHELL PARK</td>\n",
              "      <td>5043</td>\n",
              "      <td>CC MARION.</td>\n",
              "      <td>4</td>\n",
              "      <td>0</td>\n",
              "      <td>0</td>\n",
              "      <td>0</td>\n",
              "      <td>0</td>\n",
              "      <td>2018</td>\n",
              "      <td>October</td>\n",
              "      <td>Wednesday</td>\n",
              "      <td>11:20 am</td>\n",
              "      <td>60</td>\n",
              "      <td>Divided Road</td>\n",
              "      <td>Straight road</td>\n",
              "      <td>Level</td>\n",
              "      <td>Driveway or Entrance</td>\n",
              "      <td>Sealed</td>\n",
              "      <td>Dry</td>\n",
              "      <td>Not Raining</td>\n",
              "      <td>Daylight</td>\n",
              "      <td>Right Angle</td>\n",
              "      <td>2</td>\n",
              "      <td>Driver Rider</td>\n",
              "      <td>1: PDO</td>\n",
              "      <td>No Control</td>\n",
              "      <td>NaN</td>\n",
              "      <td>NaN</td>\n",
              "      <td>1324362.05</td>\n",
              "      <td>1662130.48</td>\n",
              "      <td>1.324362e+13</td>\n",
              "    </tr>\n",
              "    <tr>\n",
              "      <th>1</th>\n",
              "      <td>2018-2-27/05/2021</td>\n",
              "      <td>2 Metropolitan</td>\n",
              "      <td>GLANVILLE</td>\n",
              "      <td>5015</td>\n",
              "      <td>CITY OF PORT ADELAIDE ENFIELD</td>\n",
              "      <td>2</td>\n",
              "      <td>0</td>\n",
              "      <td>0</td>\n",
              "      <td>0</td>\n",
              "      <td>0</td>\n",
              "      <td>2018</td>\n",
              "      <td>January</td>\n",
              "      <td>Monday</td>\n",
              "      <td>12:45 am</td>\n",
              "      <td>60</td>\n",
              "      <td>Divided Road</td>\n",
              "      <td>Straight road</td>\n",
              "      <td>Level</td>\n",
              "      <td>Bridge, Culvert, Causeway</td>\n",
              "      <td>Sealed</td>\n",
              "      <td>Dry</td>\n",
              "      <td>Not Raining</td>\n",
              "      <td>Night</td>\n",
              "      <td>Rear End</td>\n",
              "      <td>2</td>\n",
              "      <td>Driver Rider</td>\n",
              "      <td>1: PDO</td>\n",
              "      <td>No Control</td>\n",
              "      <td>NaN</td>\n",
              "      <td>NaN</td>\n",
              "      <td>1319117.45</td>\n",
              "      <td>1679740.62</td>\n",
              "      <td>1.319117e+13</td>\n",
              "    </tr>\n",
              "    <tr>\n",
              "      <th>2</th>\n",
              "      <td>2018-3-27/05/2021</td>\n",
              "      <td>2 Metropolitan</td>\n",
              "      <td>GOLDEN GROVE</td>\n",
              "      <td>5125</td>\n",
              "      <td>CITY OF TEA TREE GULLY</td>\n",
              "      <td>2</td>\n",
              "      <td>0</td>\n",
              "      <td>0</td>\n",
              "      <td>0</td>\n",
              "      <td>0</td>\n",
              "      <td>2018</td>\n",
              "      <td>January</td>\n",
              "      <td>Monday</td>\n",
              "      <td>02:14 am</td>\n",
              "      <td>60</td>\n",
              "      <td>Cross Road</td>\n",
              "      <td>Straight road</td>\n",
              "      <td>Level</td>\n",
              "      <td>Not Applicable</td>\n",
              "      <td>Sealed</td>\n",
              "      <td>Dry</td>\n",
              "      <td>Not Raining</td>\n",
              "      <td>Night</td>\n",
              "      <td>Right Angle</td>\n",
              "      <td>1</td>\n",
              "      <td>Driver Rider</td>\n",
              "      <td>1: PDO</td>\n",
              "      <td>Traffic Signals</td>\n",
              "      <td>NaN</td>\n",
              "      <td>NaN</td>\n",
              "      <td>1337889.71</td>\n",
              "      <td>1685361.47</td>\n",
              "      <td>1.337890e+13</td>\n",
              "    </tr>\n",
              "    <tr>\n",
              "      <th>3</th>\n",
              "      <td>2018-4-27/05/2021</td>\n",
              "      <td>2 Metropolitan</td>\n",
              "      <td>ELIZABETH SOUTH</td>\n",
              "      <td>5112</td>\n",
              "      <td>CITY OF PLAYFORD.</td>\n",
              "      <td>2</td>\n",
              "      <td>4</td>\n",
              "      <td>0</td>\n",
              "      <td>1</td>\n",
              "      <td>3</td>\n",
              "      <td>2018</td>\n",
              "      <td>January</td>\n",
              "      <td>Monday</td>\n",
              "      <td>02:26 am</td>\n",
              "      <td>60</td>\n",
              "      <td>Cross Road</td>\n",
              "      <td>Straight road</td>\n",
              "      <td>Level</td>\n",
              "      <td>Not Applicable</td>\n",
              "      <td>Sealed</td>\n",
              "      <td>Dry</td>\n",
              "      <td>Not Raining</td>\n",
              "      <td>Night</td>\n",
              "      <td>Right Turn</td>\n",
              "      <td>1</td>\n",
              "      <td>Driver Rider</td>\n",
              "      <td>3: SI</td>\n",
              "      <td>Traffic Signals</td>\n",
              "      <td>NaN</td>\n",
              "      <td>NaN</td>\n",
              "      <td>1334568.88</td>\n",
              "      <td>1691271.22</td>\n",
              "      <td>1.334569e+13</td>\n",
              "    </tr>\n",
              "    <tr>\n",
              "      <th>4</th>\n",
              "      <td>2018-5-27/05/2021</td>\n",
              "      <td>2 Metropolitan</td>\n",
              "      <td>CROYDON</td>\n",
              "      <td>5008</td>\n",
              "      <td>CITY OF CHARLES STURT</td>\n",
              "      <td>2</td>\n",
              "      <td>3</td>\n",
              "      <td>0</td>\n",
              "      <td>0</td>\n",
              "      <td>3</td>\n",
              "      <td>2018</td>\n",
              "      <td>January</td>\n",
              "      <td>Monday</td>\n",
              "      <td>04:00 am</td>\n",
              "      <td>60</td>\n",
              "      <td>Cross Road</td>\n",
              "      <td>Straight road</td>\n",
              "      <td>Level</td>\n",
              "      <td>Not Applicable</td>\n",
              "      <td>Sealed</td>\n",
              "      <td>Dry</td>\n",
              "      <td>Not Raining</td>\n",
              "      <td>Night</td>\n",
              "      <td>Right Turn</td>\n",
              "      <td>2</td>\n",
              "      <td>Driver Rider</td>\n",
              "      <td>2: MI</td>\n",
              "      <td>Traffic Signals</td>\n",
              "      <td>NaN</td>\n",
              "      <td>NaN</td>\n",
              "      <td>1325517.03</td>\n",
              "      <td>1673428.59</td>\n",
              "      <td>1.325517e+13</td>\n",
              "    </tr>\n",
              "  </tbody>\n",
              "</table>\n",
              "</div>"
            ],
            "text/plain": [
              "           REPORT_ID      Stats Area  ...    ACCLOC_Y    UNIQUE_LOC\n",
              "0  2018-1-27/05/2021  2 Metropolitan  ...  1662130.48  1.324362e+13\n",
              "1  2018-2-27/05/2021  2 Metropolitan  ...  1679740.62  1.319117e+13\n",
              "2  2018-3-27/05/2021  2 Metropolitan  ...  1685361.47  1.337890e+13\n",
              "3  2018-4-27/05/2021  2 Metropolitan  ...  1691271.22  1.334569e+13\n",
              "4  2018-5-27/05/2021  2 Metropolitan  ...  1673428.59  1.325517e+13\n",
              "\n",
              "[5 rows x 33 columns]"
            ]
          },
          "metadata": {
            "tags": []
          },
          "execution_count": 33
        }
      ]
    },
    {
      "cell_type": "markdown",
      "metadata": {
        "id": "0OeB3VyfC36u"
      },
      "source": [
        "## **Displaying the last five rows of the dataset**"
      ]
    },
    {
      "cell_type": "code",
      "metadata": {
        "colab": {
          "base_uri": "https://localhost:8080/",
          "height": 408
        },
        "id": "ToJXughtC4vF",
        "outputId": "4d980904-9005-4803-9dba-07094b6134b7"
      },
      "source": [
        "Crash.tail()"
      ],
      "execution_count": 34,
      "outputs": [
        {
          "output_type": "execute_result",
          "data": {
            "text/html": [
              "<div>\n",
              "<style scoped>\n",
              "    .dataframe tbody tr th:only-of-type {\n",
              "        vertical-align: middle;\n",
              "    }\n",
              "\n",
              "    .dataframe tbody tr th {\n",
              "        vertical-align: top;\n",
              "    }\n",
              "\n",
              "    .dataframe thead th {\n",
              "        text-align: right;\n",
              "    }\n",
              "</style>\n",
              "<table border=\"1\" class=\"dataframe\">\n",
              "  <thead>\n",
              "    <tr style=\"text-align: right;\">\n",
              "      <th></th>\n",
              "      <th>REPORT_ID</th>\n",
              "      <th>Stats Area</th>\n",
              "      <th>Suburb</th>\n",
              "      <th>Postcode</th>\n",
              "      <th>LGA Name</th>\n",
              "      <th>Total Units</th>\n",
              "      <th>Total Cas</th>\n",
              "      <th>Total Fats</th>\n",
              "      <th>Total SI</th>\n",
              "      <th>Total MI</th>\n",
              "      <th>Year</th>\n",
              "      <th>Month</th>\n",
              "      <th>Day</th>\n",
              "      <th>Time</th>\n",
              "      <th>Area Speed</th>\n",
              "      <th>Position Type</th>\n",
              "      <th>Horizontal Align</th>\n",
              "      <th>Vertical Align</th>\n",
              "      <th>Other Feat</th>\n",
              "      <th>Road Surface</th>\n",
              "      <th>Moisture Cond</th>\n",
              "      <th>Weather Cond</th>\n",
              "      <th>DayNight</th>\n",
              "      <th>Crash Type</th>\n",
              "      <th>Unit Resp</th>\n",
              "      <th>Entity Code</th>\n",
              "      <th>CSEF Severity</th>\n",
              "      <th>Traffic Ctrls</th>\n",
              "      <th>DUI Involved</th>\n",
              "      <th>Drugs Involved</th>\n",
              "      <th>ACCLOC_X</th>\n",
              "      <th>ACCLOC_Y</th>\n",
              "      <th>UNIQUE_LOC</th>\n",
              "    </tr>\n",
              "  </thead>\n",
              "  <tbody>\n",
              "    <tr>\n",
              "      <th>13594</th>\n",
              "      <td>2018-13595-27/05/2021</td>\n",
              "      <td>1 City</td>\n",
              "      <td>ADELAIDE</td>\n",
              "      <td>5000</td>\n",
              "      <td>CITY OF ADELAIDE</td>\n",
              "      <td>2</td>\n",
              "      <td>1</td>\n",
              "      <td>0</td>\n",
              "      <td>0</td>\n",
              "      <td>1</td>\n",
              "      <td>2018</td>\n",
              "      <td>December</td>\n",
              "      <td>Thursday</td>\n",
              "      <td>01:49 am</td>\n",
              "      <td>60</td>\n",
              "      <td>Cross Road</td>\n",
              "      <td>Straight road</td>\n",
              "      <td>Level</td>\n",
              "      <td>Not Applicable</td>\n",
              "      <td>Sealed</td>\n",
              "      <td>Wet</td>\n",
              "      <td>Raining</td>\n",
              "      <td>Night</td>\n",
              "      <td>Rear End</td>\n",
              "      <td>2</td>\n",
              "      <td>Driver Rider</td>\n",
              "      <td>2: MI</td>\n",
              "      <td>Traffic Signals</td>\n",
              "      <td>NaN</td>\n",
              "      <td>NaN</td>\n",
              "      <td>1327363.85</td>\n",
              "      <td>1670321.47</td>\n",
              "      <td>1.327364e+13</td>\n",
              "    </tr>\n",
              "    <tr>\n",
              "      <th>13595</th>\n",
              "      <td>2018-13596-27/05/2021</td>\n",
              "      <td>2 Metropolitan</td>\n",
              "      <td>GAWLER</td>\n",
              "      <td>5118</td>\n",
              "      <td>CT GAWLER.</td>\n",
              "      <td>2</td>\n",
              "      <td>1</td>\n",
              "      <td>0</td>\n",
              "      <td>0</td>\n",
              "      <td>1</td>\n",
              "      <td>2018</td>\n",
              "      <td>September</td>\n",
              "      <td>Friday</td>\n",
              "      <td>02:00 pm</td>\n",
              "      <td>50</td>\n",
              "      <td>Cross Road</td>\n",
              "      <td>Straight road</td>\n",
              "      <td>Level</td>\n",
              "      <td>Not Applicable</td>\n",
              "      <td>Sealed</td>\n",
              "      <td>Dry</td>\n",
              "      <td>Not Raining</td>\n",
              "      <td>Daylight</td>\n",
              "      <td>Rear End</td>\n",
              "      <td>2</td>\n",
              "      <td>Driver Rider</td>\n",
              "      <td>2: MI</td>\n",
              "      <td>Traffic Signals</td>\n",
              "      <td>NaN</td>\n",
              "      <td>NaN</td>\n",
              "      <td>1343262.87</td>\n",
              "      <td>1705915.87</td>\n",
              "      <td>1.343263e+13</td>\n",
              "    </tr>\n",
              "    <tr>\n",
              "      <th>13596</th>\n",
              "      <td>2018-13597-27/05/2021</td>\n",
              "      <td>1 City</td>\n",
              "      <td>ADELAIDE</td>\n",
              "      <td>5000</td>\n",
              "      <td>CITY OF ADELAIDE</td>\n",
              "      <td>2</td>\n",
              "      <td>1</td>\n",
              "      <td>0</td>\n",
              "      <td>0</td>\n",
              "      <td>1</td>\n",
              "      <td>2018</td>\n",
              "      <td>September</td>\n",
              "      <td>Saturday</td>\n",
              "      <td>05:30 pm</td>\n",
              "      <td>50</td>\n",
              "      <td>Cross Road</td>\n",
              "      <td>Straight road</td>\n",
              "      <td>Level</td>\n",
              "      <td>Not Applicable</td>\n",
              "      <td>Sealed</td>\n",
              "      <td>Dry</td>\n",
              "      <td>Not Raining</td>\n",
              "      <td>Daylight</td>\n",
              "      <td>Right Angle</td>\n",
              "      <td>2</td>\n",
              "      <td>Driver Rider</td>\n",
              "      <td>2: MI</td>\n",
              "      <td>Traffic Signals</td>\n",
              "      <td>NaN</td>\n",
              "      <td>NaN</td>\n",
              "      <td>1329570.16</td>\n",
              "      <td>1670701.85</td>\n",
              "      <td>1.329570e+13</td>\n",
              "    </tr>\n",
              "    <tr>\n",
              "      <th>13597</th>\n",
              "      <td>2018-13598-27/05/2021</td>\n",
              "      <td>2 Metropolitan</td>\n",
              "      <td>MORPHETT VALE</td>\n",
              "      <td>5162</td>\n",
              "      <td>CITY OF ONKAPARINGA</td>\n",
              "      <td>2</td>\n",
              "      <td>1</td>\n",
              "      <td>0</td>\n",
              "      <td>0</td>\n",
              "      <td>1</td>\n",
              "      <td>2018</td>\n",
              "      <td>August</td>\n",
              "      <td>Tuesday</td>\n",
              "      <td>12:28 pm</td>\n",
              "      <td>60</td>\n",
              "      <td>T-Junction</td>\n",
              "      <td>Straight road</td>\n",
              "      <td>Slope</td>\n",
              "      <td>Not Applicable</td>\n",
              "      <td>Sealed</td>\n",
              "      <td>Dry</td>\n",
              "      <td>Not Raining</td>\n",
              "      <td>Daylight</td>\n",
              "      <td>Rear End</td>\n",
              "      <td>2</td>\n",
              "      <td>Driver Rider</td>\n",
              "      <td>2: MI</td>\n",
              "      <td>No Control</td>\n",
              "      <td>NaN</td>\n",
              "      <td>NaN</td>\n",
              "      <td>1319635.51</td>\n",
              "      <td>1648902.71</td>\n",
              "      <td>1.319636e+13</td>\n",
              "    </tr>\n",
              "    <tr>\n",
              "      <th>13598</th>\n",
              "      <td>2018-13599-27/05/2021</td>\n",
              "      <td>2 Metropolitan</td>\n",
              "      <td>PARKSIDE</td>\n",
              "      <td>5063</td>\n",
              "      <td>CITY OF UNLEY</td>\n",
              "      <td>2</td>\n",
              "      <td>1</td>\n",
              "      <td>0</td>\n",
              "      <td>0</td>\n",
              "      <td>1</td>\n",
              "      <td>2018</td>\n",
              "      <td>November</td>\n",
              "      <td>Wednesday</td>\n",
              "      <td>05:11 pm</td>\n",
              "      <td>60</td>\n",
              "      <td>Cross Road</td>\n",
              "      <td>Straight road</td>\n",
              "      <td>Level</td>\n",
              "      <td>Not Applicable</td>\n",
              "      <td>Sealed</td>\n",
              "      <td>Dry</td>\n",
              "      <td>Not Raining</td>\n",
              "      <td>Daylight</td>\n",
              "      <td>Rear End</td>\n",
              "      <td>2</td>\n",
              "      <td>Driver Rider</td>\n",
              "      <td>2: MI</td>\n",
              "      <td>Traffic Signals</td>\n",
              "      <td>NaN</td>\n",
              "      <td>NaN</td>\n",
              "      <td>1330707.08</td>\n",
              "      <td>1668319.59</td>\n",
              "      <td>1.330707e+13</td>\n",
              "    </tr>\n",
              "  </tbody>\n",
              "</table>\n",
              "</div>"
            ],
            "text/plain": [
              "                   REPORT_ID      Stats Area  ...    ACCLOC_Y    UNIQUE_LOC\n",
              "13594  2018-13595-27/05/2021          1 City  ...  1670321.47  1.327364e+13\n",
              "13595  2018-13596-27/05/2021  2 Metropolitan  ...  1705915.87  1.343263e+13\n",
              "13596  2018-13597-27/05/2021          1 City  ...  1670701.85  1.329570e+13\n",
              "13597  2018-13598-27/05/2021  2 Metropolitan  ...  1648902.71  1.319636e+13\n",
              "13598  2018-13599-27/05/2021  2 Metropolitan  ...  1668319.59  1.330707e+13\n",
              "\n",
              "[5 rows x 33 columns]"
            ]
          },
          "metadata": {
            "tags": []
          },
          "execution_count": 34
        }
      ]
    },
    {
      "cell_type": "markdown",
      "metadata": {
        "id": "jhlxNAtvDIau"
      },
      "source": [
        "## **Exploring the shape of the dataset**"
      ]
    },
    {
      "cell_type": "code",
      "metadata": {
        "colab": {
          "base_uri": "https://localhost:8080/"
        },
        "id": "mlHyWhYODMJh",
        "outputId": "0fb839da-8457-477f-caea-c10507f72a85"
      },
      "source": [
        "Crash.shape"
      ],
      "execution_count": 35,
      "outputs": [
        {
          "output_type": "execute_result",
          "data": {
            "text/plain": [
              "(13599, 33)"
            ]
          },
          "metadata": {
            "tags": []
          },
          "execution_count": 35
        }
      ]
    },
    {
      "cell_type": "code",
      "metadata": {
        "colab": {
          "base_uri": "https://localhost:8080/"
        },
        "id": "Zm0h4UpqDQ9V",
        "outputId": "1ec51c3f-cdc6-4627-bb77-4c1334cf9570"
      },
      "source": [
        "Crash.shape[0]"
      ],
      "execution_count": 36,
      "outputs": [
        {
          "output_type": "execute_result",
          "data": {
            "text/plain": [
              "13599"
            ]
          },
          "metadata": {
            "tags": []
          },
          "execution_count": 36
        }
      ]
    },
    {
      "cell_type": "code",
      "metadata": {
        "colab": {
          "base_uri": "https://localhost:8080/"
        },
        "id": "VHbUrzwxDUuf",
        "outputId": "eebe1862-4234-4ba4-a90d-68d097448591"
      },
      "source": [
        "Crash.shape[1]"
      ],
      "execution_count": 37,
      "outputs": [
        {
          "output_type": "execute_result",
          "data": {
            "text/plain": [
              "33"
            ]
          },
          "metadata": {
            "tags": []
          },
          "execution_count": 37
        }
      ]
    },
    {
      "cell_type": "markdown",
      "metadata": {
        "id": "q5FAh27DDZyV"
      },
      "source": [
        "## **Displaying the column names**"
      ]
    },
    {
      "cell_type": "code",
      "metadata": {
        "colab": {
          "base_uri": "https://localhost:8080/"
        },
        "id": "G2VCcXceDdKV",
        "outputId": "9edeffb7-2051-469e-f429-d20d3431bfb8"
      },
      "source": [
        "Crash.columns"
      ],
      "execution_count": 38,
      "outputs": [
        {
          "output_type": "execute_result",
          "data": {
            "text/plain": [
              "Index(['REPORT_ID', 'Stats Area', 'Suburb', 'Postcode', 'LGA Name',\n",
              "       'Total Units', 'Total Cas', 'Total Fats', 'Total SI', 'Total MI',\n",
              "       'Year', 'Month', 'Day', 'Time', 'Area Speed', 'Position Type',\n",
              "       'Horizontal Align', 'Vertical Align', 'Other Feat', 'Road Surface',\n",
              "       'Moisture Cond', 'Weather Cond', 'DayNight', 'Crash Type', 'Unit Resp',\n",
              "       'Entity Code', 'CSEF Severity', 'Traffic Ctrls', 'DUI Involved',\n",
              "       'Drugs Involved', 'ACCLOC_X', 'ACCLOC_Y', 'UNIQUE_LOC'],\n",
              "      dtype='object')"
            ]
          },
          "metadata": {
            "tags": []
          },
          "execution_count": 38
        }
      ]
    },
    {
      "cell_type": "markdown",
      "metadata": {
        "id": "KjZmVRt4DiiW"
      },
      "source": [
        "## **Checking duplicate records**"
      ]
    },
    {
      "cell_type": "code",
      "metadata": {
        "colab": {
          "base_uri": "https://localhost:8080/",
          "height": 150
        },
        "id": "VrmRO9CGDkDV",
        "outputId": "dc6ea4e8-0570-42f1-bf87-a7f47d080e9d"
      },
      "source": [
        "duplicate=Crash.iloc[:,1:34].duplicated()\n",
        "Crash.iloc[:,1:34][duplicate]"
      ],
      "execution_count": 39,
      "outputs": [
        {
          "output_type": "execute_result",
          "data": {
            "text/html": [
              "<div>\n",
              "<style scoped>\n",
              "    .dataframe tbody tr th:only-of-type {\n",
              "        vertical-align: middle;\n",
              "    }\n",
              "\n",
              "    .dataframe tbody tr th {\n",
              "        vertical-align: top;\n",
              "    }\n",
              "\n",
              "    .dataframe thead th {\n",
              "        text-align: right;\n",
              "    }\n",
              "</style>\n",
              "<table border=\"1\" class=\"dataframe\">\n",
              "  <thead>\n",
              "    <tr style=\"text-align: right;\">\n",
              "      <th></th>\n",
              "      <th>Stats Area</th>\n",
              "      <th>Suburb</th>\n",
              "      <th>Postcode</th>\n",
              "      <th>LGA Name</th>\n",
              "      <th>Total Units</th>\n",
              "      <th>Total Cas</th>\n",
              "      <th>Total Fats</th>\n",
              "      <th>Total SI</th>\n",
              "      <th>Total MI</th>\n",
              "      <th>Year</th>\n",
              "      <th>Month</th>\n",
              "      <th>Day</th>\n",
              "      <th>Time</th>\n",
              "      <th>Area Speed</th>\n",
              "      <th>Position Type</th>\n",
              "      <th>Horizontal Align</th>\n",
              "      <th>Vertical Align</th>\n",
              "      <th>Other Feat</th>\n",
              "      <th>Road Surface</th>\n",
              "      <th>Moisture Cond</th>\n",
              "      <th>Weather Cond</th>\n",
              "      <th>DayNight</th>\n",
              "      <th>Crash Type</th>\n",
              "      <th>Unit Resp</th>\n",
              "      <th>Entity Code</th>\n",
              "      <th>CSEF Severity</th>\n",
              "      <th>Traffic Ctrls</th>\n",
              "      <th>DUI Involved</th>\n",
              "      <th>Drugs Involved</th>\n",
              "      <th>ACCLOC_X</th>\n",
              "      <th>ACCLOC_Y</th>\n",
              "      <th>UNIQUE_LOC</th>\n",
              "    </tr>\n",
              "  </thead>\n",
              "  <tbody>\n",
              "    <tr>\n",
              "      <th>7876</th>\n",
              "      <td>2 Metropolitan</td>\n",
              "      <td>ADELAIDE</td>\n",
              "      <td>5000</td>\n",
              "      <td>CITY OF UNLEY</td>\n",
              "      <td>2</td>\n",
              "      <td>0</td>\n",
              "      <td>0</td>\n",
              "      <td>0</td>\n",
              "      <td>0</td>\n",
              "      <td>2018</td>\n",
              "      <td>August</td>\n",
              "      <td>Friday</td>\n",
              "      <td>01:05 pm</td>\n",
              "      <td>60</td>\n",
              "      <td>Divided Road</td>\n",
              "      <td>Straight road</td>\n",
              "      <td>Level</td>\n",
              "      <td>Not Applicable</td>\n",
              "      <td>Sealed</td>\n",
              "      <td>Wet</td>\n",
              "      <td>Raining</td>\n",
              "      <td>Daylight</td>\n",
              "      <td>Rear End</td>\n",
              "      <td>1</td>\n",
              "      <td>Driver Rider</td>\n",
              "      <td>1: PDO</td>\n",
              "      <td>No Control</td>\n",
              "      <td>NaN</td>\n",
              "      <td>NaN</td>\n",
              "      <td>1328831.99</td>\n",
              "      <td>1668974.81</td>\n",
              "      <td>1.328832e+13</td>\n",
              "    </tr>\n",
              "  </tbody>\n",
              "</table>\n",
              "</div>"
            ],
            "text/plain": [
              "          Stats Area    Suburb  Postcode  ...    ACCLOC_X    ACCLOC_Y    UNIQUE_LOC\n",
              "7876  2 Metropolitan  ADELAIDE      5000  ...  1328831.99  1668974.81  1.328832e+13\n",
              "\n",
              "[1 rows x 32 columns]"
            ]
          },
          "metadata": {
            "tags": []
          },
          "execution_count": 39
        }
      ]
    },
    {
      "cell_type": "markdown",
      "metadata": {
        "id": "rJ7-_e3wDrzV"
      },
      "source": [
        "## **Displaying the datatype of each column and number of non null values in each column**"
      ]
    },
    {
      "cell_type": "code",
      "metadata": {
        "colab": {
          "base_uri": "https://localhost:8080/"
        },
        "id": "JJisVZbLDvdi",
        "outputId": "3e57b73d-7244-40a6-8fc8-dd1e9ac3c4d5"
      },
      "source": [
        "Crash.info()"
      ],
      "execution_count": 40,
      "outputs": [
        {
          "output_type": "stream",
          "text": [
            "<class 'pandas.core.frame.DataFrame'>\n",
            "RangeIndex: 13599 entries, 0 to 13598\n",
            "Data columns (total 33 columns):\n",
            " #   Column            Non-Null Count  Dtype  \n",
            "---  ------            --------------  -----  \n",
            " 0   REPORT_ID         13599 non-null  object \n",
            " 1   Stats Area        13599 non-null  object \n",
            " 2   Suburb            13599 non-null  object \n",
            " 3   Postcode          13599 non-null  int64  \n",
            " 4   LGA Name          13488 non-null  object \n",
            " 5   Total Units       13599 non-null  int64  \n",
            " 6   Total Cas         13599 non-null  int64  \n",
            " 7   Total Fats        13599 non-null  int64  \n",
            " 8   Total SI          13599 non-null  int64  \n",
            " 9   Total MI          13599 non-null  int64  \n",
            " 10  Year              13599 non-null  int64  \n",
            " 11  Month             13599 non-null  object \n",
            " 12  Day               13599 non-null  object \n",
            " 13  Time              13599 non-null  object \n",
            " 14  Area Speed        13599 non-null  int64  \n",
            " 15  Position Type     13599 non-null  object \n",
            " 16  Horizontal Align  13599 non-null  object \n",
            " 17  Vertical Align    13599 non-null  object \n",
            " 18  Other Feat        13599 non-null  object \n",
            " 19  Road Surface      13599 non-null  object \n",
            " 20  Moisture Cond     13599 non-null  object \n",
            " 21  Weather Cond      13599 non-null  object \n",
            " 22  DayNight          13599 non-null  object \n",
            " 23  Crash Type        13599 non-null  object \n",
            " 24  Unit Resp         13599 non-null  int64  \n",
            " 25  Entity Code       13599 non-null  object \n",
            " 26  CSEF Severity     13599 non-null  object \n",
            " 27  Traffic Ctrls     13599 non-null  object \n",
            " 28  DUI Involved      482 non-null    object \n",
            " 29  Drugs Involved    328 non-null    object \n",
            " 30  ACCLOC_X          13596 non-null  float64\n",
            " 31  ACCLOC_Y          13596 non-null  float64\n",
            " 32  UNIQUE_LOC        13596 non-null  float64\n",
            "dtypes: float64(3), int64(9), object(21)\n",
            "memory usage: 3.4+ MB\n"
          ],
          "name": "stdout"
        }
      ]
    },
    {
      "cell_type": "markdown",
      "metadata": {
        "id": "AUescshdDzw2"
      },
      "source": [
        "## **Displaying number of null values in each column**"
      ]
    },
    {
      "cell_type": "code",
      "metadata": {
        "colab": {
          "base_uri": "https://localhost:8080/"
        },
        "id": "qrX6CgW_D4F7",
        "outputId": "5180c5e3-bee9-4e9a-a6c8-2f06930fcbdf"
      },
      "source": [
        "Crash.isnull().sum()"
      ],
      "execution_count": 41,
      "outputs": [
        {
          "output_type": "execute_result",
          "data": {
            "text/plain": [
              "REPORT_ID               0\n",
              "Stats Area              0\n",
              "Suburb                  0\n",
              "Postcode                0\n",
              "LGA Name              111\n",
              "Total Units             0\n",
              "Total Cas               0\n",
              "Total Fats              0\n",
              "Total SI                0\n",
              "Total MI                0\n",
              "Year                    0\n",
              "Month                   0\n",
              "Day                     0\n",
              "Time                    0\n",
              "Area Speed              0\n",
              "Position Type           0\n",
              "Horizontal Align        0\n",
              "Vertical Align          0\n",
              "Other Feat              0\n",
              "Road Surface            0\n",
              "Moisture Cond           0\n",
              "Weather Cond            0\n",
              "DayNight                0\n",
              "Crash Type              0\n",
              "Unit Resp               0\n",
              "Entity Code             0\n",
              "CSEF Severity           0\n",
              "Traffic Ctrls           0\n",
              "DUI Involved        13117\n",
              "Drugs Involved      13271\n",
              "ACCLOC_X                3\n",
              "ACCLOC_Y                3\n",
              "UNIQUE_LOC              3\n",
              "dtype: int64"
            ]
          },
          "metadata": {
            "tags": []
          },
          "execution_count": 41
        }
      ]
    },
    {
      "cell_type": "markdown",
      "metadata": {
        "id": "kGIfXZYkD-Gs"
      },
      "source": [
        "## **Displaying the number of unique values against each column**"
      ]
    },
    {
      "cell_type": "code",
      "metadata": {
        "colab": {
          "base_uri": "https://localhost:8080/"
        },
        "id": "4vhz8cBXEAT1",
        "outputId": "bd7055e7-3d10-4a7e-e331-3eaf24b3e6ad"
      },
      "source": [
        "Crash.nunique()"
      ],
      "execution_count": 42,
      "outputs": [
        {
          "output_type": "execute_result",
          "data": {
            "text/plain": [
              "REPORT_ID           13599\n",
              "Stats Area              3\n",
              "Suburb               1076\n",
              "Postcode              320\n",
              "LGA Name               69\n",
              "Total Units            11\n",
              "Total Cas               8\n",
              "Total Fats              3\n",
              "Total SI                5\n",
              "Total MI                8\n",
              "Year                    1\n",
              "Month                  12\n",
              "Day                     7\n",
              "Time                 1132\n",
              "Area Speed             14\n",
              "Position Type          16\n",
              "Horizontal Align        4\n",
              "Vertical Align          5\n",
              "Other Feat              9\n",
              "Road Surface            3\n",
              "Moisture Cond           3\n",
              "Weather Cond            3\n",
              "DayNight                2\n",
              "Crash Type             13\n",
              "Unit Resp               3\n",
              "Entity Code             5\n",
              "CSEF Severity           4\n",
              "Traffic Ctrls           9\n",
              "DUI Involved            1\n",
              "Drugs Involved          1\n",
              "ACCLOC_X            11180\n",
              "ACCLOC_Y            11196\n",
              "UNIQUE_LOC          11196\n",
              "dtype: int64"
            ]
          },
          "metadata": {
            "tags": []
          },
          "execution_count": 42
        }
      ]
    },
    {
      "cell_type": "markdown",
      "metadata": {
        "id": "7lbNX-jBQIfT"
      },
      "source": [
        "## **Determining overall Correlation between the variables**"
      ]
    },
    {
      "cell_type": "code",
      "metadata": {
        "colab": {
          "base_uri": "https://localhost:8080/",
          "height": 418
        },
        "id": "Gam6BkXiQBba",
        "outputId": "98659692-907c-431f-bbd8-6110172dc51b"
      },
      "source": [
        "Crash_corr = Crash.corr()\n",
        "Crash_corr"
      ],
      "execution_count": 43,
      "outputs": [
        {
          "output_type": "execute_result",
          "data": {
            "text/html": [
              "<div>\n",
              "<style scoped>\n",
              "    .dataframe tbody tr th:only-of-type {\n",
              "        vertical-align: middle;\n",
              "    }\n",
              "\n",
              "    .dataframe tbody tr th {\n",
              "        vertical-align: top;\n",
              "    }\n",
              "\n",
              "    .dataframe thead th {\n",
              "        text-align: right;\n",
              "    }\n",
              "</style>\n",
              "<table border=\"1\" class=\"dataframe\">\n",
              "  <thead>\n",
              "    <tr style=\"text-align: right;\">\n",
              "      <th></th>\n",
              "      <th>Postcode</th>\n",
              "      <th>Total Units</th>\n",
              "      <th>Total Cas</th>\n",
              "      <th>Total Fats</th>\n",
              "      <th>Total SI</th>\n",
              "      <th>Total MI</th>\n",
              "      <th>Year</th>\n",
              "      <th>Area Speed</th>\n",
              "      <th>Unit Resp</th>\n",
              "      <th>ACCLOC_X</th>\n",
              "      <th>ACCLOC_Y</th>\n",
              "      <th>UNIQUE_LOC</th>\n",
              "    </tr>\n",
              "  </thead>\n",
              "  <tbody>\n",
              "    <tr>\n",
              "      <th>Postcode</th>\n",
              "      <td>1.000000</td>\n",
              "      <td>-0.093108</td>\n",
              "      <td>0.035440</td>\n",
              "      <td>0.067140</td>\n",
              "      <td>0.081090</td>\n",
              "      <td>0.000994</td>\n",
              "      <td>NaN</td>\n",
              "      <td>0.284956</td>\n",
              "      <td>-0.035759</td>\n",
              "      <td>0.099002</td>\n",
              "      <td>0.008202</td>\n",
              "      <td>0.099002</td>\n",
              "    </tr>\n",
              "    <tr>\n",
              "      <th>Total Units</th>\n",
              "      <td>-0.093108</td>\n",
              "      <td>1.000000</td>\n",
              "      <td>0.038944</td>\n",
              "      <td>-0.018963</td>\n",
              "      <td>0.004098</td>\n",
              "      <td>0.042274</td>\n",
              "      <td>NaN</td>\n",
              "      <td>-0.098269</td>\n",
              "      <td>-0.083477</td>\n",
              "      <td>0.048591</td>\n",
              "      <td>-0.097661</td>\n",
              "      <td>0.048591</td>\n",
              "    </tr>\n",
              "    <tr>\n",
              "      <th>Total Cas</th>\n",
              "      <td>0.035440</td>\n",
              "      <td>0.038944</td>\n",
              "      <td>1.000000</td>\n",
              "      <td>0.134185</td>\n",
              "      <td>0.320804</td>\n",
              "      <td>0.933682</td>\n",
              "      <td>NaN</td>\n",
              "      <td>0.104069</td>\n",
              "      <td>-0.011788</td>\n",
              "      <td>-0.015572</td>\n",
              "      <td>0.026934</td>\n",
              "      <td>-0.015572</td>\n",
              "    </tr>\n",
              "    <tr>\n",
              "      <th>Total Fats</th>\n",
              "      <td>0.067140</td>\n",
              "      <td>-0.018963</td>\n",
              "      <td>0.134185</td>\n",
              "      <td>1.000000</td>\n",
              "      <td>0.080646</td>\n",
              "      <td>-0.008457</td>\n",
              "      <td>NaN</td>\n",
              "      <td>0.104169</td>\n",
              "      <td>-0.019488</td>\n",
              "      <td>0.009475</td>\n",
              "      <td>0.019403</td>\n",
              "      <td>0.009476</td>\n",
              "    </tr>\n",
              "    <tr>\n",
              "      <th>Total SI</th>\n",
              "      <td>0.081090</td>\n",
              "      <td>0.004098</td>\n",
              "      <td>0.320804</td>\n",
              "      <td>0.080646</td>\n",
              "      <td>1.000000</td>\n",
              "      <td>-0.019505</td>\n",
              "      <td>NaN</td>\n",
              "      <td>0.134237</td>\n",
              "      <td>-0.030484</td>\n",
              "      <td>0.004410</td>\n",
              "      <td>0.045422</td>\n",
              "      <td>0.004410</td>\n",
              "    </tr>\n",
              "    <tr>\n",
              "      <th>Total MI</th>\n",
              "      <td>0.000994</td>\n",
              "      <td>0.042274</td>\n",
              "      <td>0.933682</td>\n",
              "      <td>-0.008457</td>\n",
              "      <td>-0.019505</td>\n",
              "      <td>1.000000</td>\n",
              "      <td>NaN</td>\n",
              "      <td>0.050746</td>\n",
              "      <td>0.000551</td>\n",
              "      <td>-0.019256</td>\n",
              "      <td>0.010317</td>\n",
              "      <td>-0.019256</td>\n",
              "    </tr>\n",
              "    <tr>\n",
              "      <th>Year</th>\n",
              "      <td>NaN</td>\n",
              "      <td>NaN</td>\n",
              "      <td>NaN</td>\n",
              "      <td>NaN</td>\n",
              "      <td>NaN</td>\n",
              "      <td>NaN</td>\n",
              "      <td>NaN</td>\n",
              "      <td>NaN</td>\n",
              "      <td>NaN</td>\n",
              "      <td>NaN</td>\n",
              "      <td>NaN</td>\n",
              "      <td>NaN</td>\n",
              "    </tr>\n",
              "    <tr>\n",
              "      <th>Area Speed</th>\n",
              "      <td>0.284956</td>\n",
              "      <td>-0.098269</td>\n",
              "      <td>0.104069</td>\n",
              "      <td>0.104169</td>\n",
              "      <td>0.134237</td>\n",
              "      <td>0.050746</td>\n",
              "      <td>NaN</td>\n",
              "      <td>1.000000</td>\n",
              "      <td>-0.050558</td>\n",
              "      <td>-0.009470</td>\n",
              "      <td>0.142961</td>\n",
              "      <td>-0.009470</td>\n",
              "    </tr>\n",
              "    <tr>\n",
              "      <th>Unit Resp</th>\n",
              "      <td>-0.035759</td>\n",
              "      <td>-0.083477</td>\n",
              "      <td>-0.011788</td>\n",
              "      <td>-0.019488</td>\n",
              "      <td>-0.030484</td>\n",
              "      <td>0.000551</td>\n",
              "      <td>NaN</td>\n",
              "      <td>-0.050558</td>\n",
              "      <td>1.000000</td>\n",
              "      <td>-0.000742</td>\n",
              "      <td>-0.010272</td>\n",
              "      <td>-0.000742</td>\n",
              "    </tr>\n",
              "    <tr>\n",
              "      <th>ACCLOC_X</th>\n",
              "      <td>0.099002</td>\n",
              "      <td>0.048591</td>\n",
              "      <td>-0.015572</td>\n",
              "      <td>0.009475</td>\n",
              "      <td>0.004410</td>\n",
              "      <td>-0.019256</td>\n",
              "      <td>NaN</td>\n",
              "      <td>-0.009470</td>\n",
              "      <td>-0.000742</td>\n",
              "      <td>1.000000</td>\n",
              "      <td>-0.643793</td>\n",
              "      <td>1.000000</td>\n",
              "    </tr>\n",
              "    <tr>\n",
              "      <th>ACCLOC_Y</th>\n",
              "      <td>0.008202</td>\n",
              "      <td>-0.097661</td>\n",
              "      <td>0.026934</td>\n",
              "      <td>0.019403</td>\n",
              "      <td>0.045422</td>\n",
              "      <td>0.010317</td>\n",
              "      <td>NaN</td>\n",
              "      <td>0.142961</td>\n",
              "      <td>-0.010272</td>\n",
              "      <td>-0.643793</td>\n",
              "      <td>1.000000</td>\n",
              "      <td>-0.643793</td>\n",
              "    </tr>\n",
              "    <tr>\n",
              "      <th>UNIQUE_LOC</th>\n",
              "      <td>0.099002</td>\n",
              "      <td>0.048591</td>\n",
              "      <td>-0.015572</td>\n",
              "      <td>0.009476</td>\n",
              "      <td>0.004410</td>\n",
              "      <td>-0.019256</td>\n",
              "      <td>NaN</td>\n",
              "      <td>-0.009470</td>\n",
              "      <td>-0.000742</td>\n",
              "      <td>1.000000</td>\n",
              "      <td>-0.643793</td>\n",
              "      <td>1.000000</td>\n",
              "    </tr>\n",
              "  </tbody>\n",
              "</table>\n",
              "</div>"
            ],
            "text/plain": [
              "             Postcode  Total Units  Total Cas  ...  ACCLOC_X  ACCLOC_Y  UNIQUE_LOC\n",
              "Postcode     1.000000    -0.093108   0.035440  ...  0.099002  0.008202    0.099002\n",
              "Total Units -0.093108     1.000000   0.038944  ...  0.048591 -0.097661    0.048591\n",
              "Total Cas    0.035440     0.038944   1.000000  ... -0.015572  0.026934   -0.015572\n",
              "Total Fats   0.067140    -0.018963   0.134185  ...  0.009475  0.019403    0.009476\n",
              "Total SI     0.081090     0.004098   0.320804  ...  0.004410  0.045422    0.004410\n",
              "Total MI     0.000994     0.042274   0.933682  ... -0.019256  0.010317   -0.019256\n",
              "Year              NaN          NaN        NaN  ...       NaN       NaN         NaN\n",
              "Area Speed   0.284956    -0.098269   0.104069  ... -0.009470  0.142961   -0.009470\n",
              "Unit Resp   -0.035759    -0.083477  -0.011788  ... -0.000742 -0.010272   -0.000742\n",
              "ACCLOC_X     0.099002     0.048591  -0.015572  ...  1.000000 -0.643793    1.000000\n",
              "ACCLOC_Y     0.008202    -0.097661   0.026934  ... -0.643793  1.000000   -0.643793\n",
              "UNIQUE_LOC   0.099002     0.048591  -0.015572  ...  1.000000 -0.643793    1.000000\n",
              "\n",
              "[12 rows x 12 columns]"
            ]
          },
          "metadata": {
            "tags": []
          },
          "execution_count": 43
        }
      ]
    },
    {
      "cell_type": "markdown",
      "metadata": {
        "id": "feE7W13WP8jM"
      },
      "source": [
        ""
      ]
    },
    {
      "cell_type": "markdown",
      "metadata": {
        "id": "4QJ8DLx7P0C3"
      },
      "source": [
        "## **Plotting a Heatmap to display the correlation**"
      ]
    },
    {
      "cell_type": "code",
      "metadata": {
        "colab": {
          "base_uri": "https://localhost:8080/",
          "height": 567
        },
        "id": "Y7kVkyr2Pzyu",
        "outputId": "e17db270-f4a8-434d-b192-60ce641e2ba8"
      },
      "source": [
        "plt.figure(figsize =(10, 8))\n",
        "sns.heatmap(Crash_corr, cmap = 'gist_rainbow_r',annot=True)\n",
        "plt.title('Crash: Correlation between variables' , color = 'maroon' , fontsize = 16)\n",
        "plt.xticks(fontsize=12)\n",
        "plt.yticks(fontsize=12)\n",
        "plt.show()"
      ],
      "execution_count": 44,
      "outputs": [
        {
          "output_type": "display_data",
          "data": {
            "image/png": "[encoded data removed]",
            "text/plain": [
              "<Figure size 720x576 with 2 Axes>"
            ]
          },
          "metadata": {
            "tags": [],
            "needs_background": "light"
          }
        }
      ]
    },
    {
      "cell_type": "markdown",
      "metadata": {
        "id": "UeEUhhwYsZNG"
      },
      "source": [
        " ## **Exploring outliers in Crash Dataset**"
      ]
    },
    {
      "cell_type": "code",
      "metadata": {
        "colab": {
          "base_uri": "https://localhost:8080/",
          "height": 558
        },
        "id": "axOguGwIsZNH",
        "outputId": "5dc3c039-8fac-48e0-9745-16ef6bae980b"
      },
      "source": [
        "plt.figure(figsize = (15,8))\n",
        "Crash.boxplot()\n",
        "plt.title('Outlier : Crash ' ,color = 'maroon', fontsize=16 )\n",
        "plt.ylabel('Values' ,color = 'maroon', fontsize=14 )\n",
        "plt.xticks(fontsize=12)\n",
        "plt.yticks(fontsize=12)\n",
        "\n",
        "plt.show()"
      ],
      "execution_count": 45,
      "outputs": [
        {
          "output_type": "stream",
          "text": [
            "/usr/local/lib/python3.7/dist-packages/numpy/core/_asarray.py:83: VisibleDeprecationWarning: Creating an ndarray from ragged nested sequences (which is a list-or-tuple of lists-or-tuples-or ndarrays with different lengths or shapes) is deprecated. If you meant to do this, you must specify 'dtype=object' when creating the ndarray\n",
            "  return array(a, dtype, copy=False, order=order)\n"
          ],
          "name": "stderr"
        },
        {
          "output_type": "display_data",
          "data": {
            "image/png": "[encoded data removed]",
            "text/plain": [
              "<Figure size 1080x576 with 1 Axes>"
            ]
          },
          "metadata": {
            "tags": [],
            "needs_background": "light"
          }
        }
      ]
    },
    {
      "cell_type": "markdown",
      "metadata": {
        "id": "Xz1uuyK3EUKK"
      },
      "source": [
        "##  **Displaying Categorical Variables and their summary statistics**"
      ]
    },
    {
      "cell_type": "code",
      "metadata": {
        "colab": {
          "base_uri": "https://localhost:8080/",
          "height": 259
        },
        "id": "nSISFjyrEV7O",
        "outputId": "00c023f4-0dd5-4001-ecd4-04cf8d02f3e2"
      },
      "source": [
        "Crash.describe(include=['O'])"
      ],
      "execution_count": 46,
      "outputs": [
        {
          "output_type": "execute_result",
          "data": {
            "text/html": [
              "<div>\n",
              "<style scoped>\n",
              "    .dataframe tbody tr th:only-of-type {\n",
              "        vertical-align: middle;\n",
              "    }\n",
              "\n",
              "    .dataframe tbody tr th {\n",
              "        vertical-align: top;\n",
              "    }\n",
              "\n",
              "    .dataframe thead th {\n",
              "        text-align: right;\n",
              "    }\n",
              "</style>\n",
              "<table border=\"1\" class=\"dataframe\">\n",
              "  <thead>\n",
              "    <tr style=\"text-align: right;\">\n",
              "      <th></th>\n",
              "      <th>REPORT_ID</th>\n",
              "      <th>Stats Area</th>\n",
              "      <th>Suburb</th>\n",
              "      <th>LGA Name</th>\n",
              "      <th>Month</th>\n",
              "      <th>Day</th>\n",
              "      <th>Time</th>\n",
              "      <th>Position Type</th>\n",
              "      <th>Horizontal Align</th>\n",
              "      <th>Vertical Align</th>\n",
              "      <th>Other Feat</th>\n",
              "      <th>Road Surface</th>\n",
              "      <th>Moisture Cond</th>\n",
              "      <th>Weather Cond</th>\n",
              "      <th>DayNight</th>\n",
              "      <th>Crash Type</th>\n",
              "      <th>Entity Code</th>\n",
              "      <th>CSEF Severity</th>\n",
              "      <th>Traffic Ctrls</th>\n",
              "      <th>DUI Involved</th>\n",
              "      <th>Drugs Involved</th>\n",
              "    </tr>\n",
              "  </thead>\n",
              "  <tbody>\n",
              "    <tr>\n",
              "      <th>count</th>\n",
              "      <td>13599</td>\n",
              "      <td>13599</td>\n",
              "      <td>13599</td>\n",
              "      <td>13488</td>\n",
              "      <td>13599</td>\n",
              "      <td>13599</td>\n",
              "      <td>13599</td>\n",
              "      <td>13599</td>\n",
              "      <td>13599</td>\n",
              "      <td>13599</td>\n",
              "      <td>13599</td>\n",
              "      <td>13599</td>\n",
              "      <td>13599</td>\n",
              "      <td>13599</td>\n",
              "      <td>13599</td>\n",
              "      <td>13599</td>\n",
              "      <td>13599</td>\n",
              "      <td>13599</td>\n",
              "      <td>13599</td>\n",
              "      <td>482</td>\n",
              "      <td>328</td>\n",
              "    </tr>\n",
              "    <tr>\n",
              "      <th>unique</th>\n",
              "      <td>13599</td>\n",
              "      <td>3</td>\n",
              "      <td>1076</td>\n",
              "      <td>69</td>\n",
              "      <td>12</td>\n",
              "      <td>7</td>\n",
              "      <td>1132</td>\n",
              "      <td>16</td>\n",
              "      <td>4</td>\n",
              "      <td>5</td>\n",
              "      <td>9</td>\n",
              "      <td>3</td>\n",
              "      <td>3</td>\n",
              "      <td>3</td>\n",
              "      <td>2</td>\n",
              "      <td>13</td>\n",
              "      <td>5</td>\n",
              "      <td>4</td>\n",
              "      <td>9</td>\n",
              "      <td>1</td>\n",
              "      <td>1</td>\n",
              "    </tr>\n",
              "    <tr>\n",
              "      <th>top</th>\n",
              "      <td>2018-2979-27/05/2021</td>\n",
              "      <td>2 Metropolitan</td>\n",
              "      <td>ADELAIDE</td>\n",
              "      <td>CITY OF PORT ADELAIDE ENFIELD</td>\n",
              "      <td>August</td>\n",
              "      <td>Thursday</td>\n",
              "      <td>04:00 pm</td>\n",
              "      <td>Not Divided</td>\n",
              "      <td>Straight road</td>\n",
              "      <td>Level</td>\n",
              "      <td>Not Applicable</td>\n",
              "      <td>Sealed</td>\n",
              "      <td>Dry</td>\n",
              "      <td>Not Raining</td>\n",
              "      <td>Daylight</td>\n",
              "      <td>Rear End</td>\n",
              "      <td>Driver Rider</td>\n",
              "      <td>1: PDO</td>\n",
              "      <td>No Control</td>\n",
              "      <td>Y</td>\n",
              "      <td>Y</td>\n",
              "    </tr>\n",
              "    <tr>\n",
              "      <th>freq</th>\n",
              "      <td>1</td>\n",
              "      <td>10854</td>\n",
              "      <td>561</td>\n",
              "      <td>1319</td>\n",
              "      <td>1283</td>\n",
              "      <td>2248</td>\n",
              "      <td>178</td>\n",
              "      <td>4552</td>\n",
              "      <td>11829</td>\n",
              "      <td>11557</td>\n",
              "      <td>12367</td>\n",
              "      <td>13251</td>\n",
              "      <td>11885</td>\n",
              "      <td>12366</td>\n",
              "      <td>10464</td>\n",
              "      <td>3578</td>\n",
              "      <td>13075</td>\n",
              "      <td>8646</td>\n",
              "      <td>9308</td>\n",
              "      <td>482</td>\n",
              "      <td>328</td>\n",
              "    </tr>\n",
              "  </tbody>\n",
              "</table>\n",
              "</div>"
            ],
            "text/plain": [
              "                   REPORT_ID      Stats Area  ... DUI Involved Drugs Involved\n",
              "count                  13599           13599  ...          482            328\n",
              "unique                 13599               3  ...            1              1\n",
              "top     2018-2979-27/05/2021  2 Metropolitan  ...            Y              Y\n",
              "freq                       1           10854  ...          482            328\n",
              "\n",
              "[4 rows x 21 columns]"
            ]
          },
          "metadata": {
            "tags": []
          },
          "execution_count": 46
        }
      ]
    },
    {
      "cell_type": "markdown",
      "metadata": {
        "id": "pAqwEgp_Ebxj"
      },
      "source": [
        "## **Displaying Continuous Variables and their summary statistics**"
      ]
    },
    {
      "cell_type": "code",
      "metadata": {
        "colab": {
          "base_uri": "https://localhost:8080/",
          "height": 295
        },
        "id": "VoxAMfvoEccv",
        "outputId": "204dff0a-43cd-4f9e-d91b-cedfc389a17d"
      },
      "source": [
        "Crash.describe(exclude=['O'])"
      ],
      "execution_count": 47,
      "outputs": [
        {
          "output_type": "execute_result",
          "data": {
            "text/html": [
              "<div>\n",
              "<style scoped>\n",
              "    .dataframe tbody tr th:only-of-type {\n",
              "        vertical-align: middle;\n",
              "    }\n",
              "\n",
              "    .dataframe tbody tr th {\n",
              "        vertical-align: top;\n",
              "    }\n",
              "\n",
              "    .dataframe thead th {\n",
              "        text-align: right;\n",
              "    }\n",
              "</style>\n",
              "<table border=\"1\" class=\"dataframe\">\n",
              "  <thead>\n",
              "    <tr style=\"text-align: right;\">\n",
              "      <th></th>\n",
              "      <th>Postcode</th>\n",
              "      <th>Total Units</th>\n",
              "      <th>Total Cas</th>\n",
              "      <th>Total Fats</th>\n",
              "      <th>Total SI</th>\n",
              "      <th>Total MI</th>\n",
              "      <th>Year</th>\n",
              "      <th>Area Speed</th>\n",
              "      <th>Unit Resp</th>\n",
              "      <th>ACCLOC_X</th>\n",
              "      <th>ACCLOC_Y</th>\n",
              "      <th>UNIQUE_LOC</th>\n",
              "    </tr>\n",
              "  </thead>\n",
              "  <tbody>\n",
              "    <tr>\n",
              "      <th>count</th>\n",
              "      <td>13599.000000</td>\n",
              "      <td>13599.000000</td>\n",
              "      <td>13599.000000</td>\n",
              "      <td>13599.000000</td>\n",
              "      <td>13599.000000</td>\n",
              "      <td>13599.000000</td>\n",
              "      <td>13599.0</td>\n",
              "      <td>13599.000000</td>\n",
              "      <td>13599.000000</td>\n",
              "      <td>1.359600e+04</td>\n",
              "      <td>1.359600e+04</td>\n",
              "      <td>1.359600e+04</td>\n",
              "    </tr>\n",
              "    <tr>\n",
              "      <th>mean</th>\n",
              "      <td>5123.667108</td>\n",
              "      <td>2.134936</td>\n",
              "      <td>0.450327</td>\n",
              "      <td>0.005883</td>\n",
              "      <td>0.042356</td>\n",
              "      <td>0.402088</td>\n",
              "      <td>2018.0</td>\n",
              "      <td>64.091477</td>\n",
              "      <td>1.478565</td>\n",
              "      <td>1.330533e+06</td>\n",
              "      <td>1.677600e+06</td>\n",
              "      <td>1.330533e+13</td>\n",
              "    </tr>\n",
              "    <tr>\n",
              "      <th>std</th>\n",
              "      <td>200.831506</td>\n",
              "      <td>0.563734</td>\n",
              "      <td>0.702264</td>\n",
              "      <td>0.081142</td>\n",
              "      <td>0.231636</td>\n",
              "      <td>0.660896</td>\n",
              "      <td>0.0</td>\n",
              "      <td>16.989135</td>\n",
              "      <td>0.850387</td>\n",
              "      <td>5.888001e+04</td>\n",
              "      <td>8.067716e+04</td>\n",
              "      <td>5.888001e+11</td>\n",
              "    </tr>\n",
              "    <tr>\n",
              "      <th>min</th>\n",
              "      <td>511.000000</td>\n",
              "      <td>1.000000</td>\n",
              "      <td>0.000000</td>\n",
              "      <td>0.000000</td>\n",
              "      <td>0.000000</td>\n",
              "      <td>0.000000</td>\n",
              "      <td>2018.0</td>\n",
              "      <td>5.000000</td>\n",
              "      <td>1.000000</td>\n",
              "      <td>4.899372e+05</td>\n",
              "      <td>1.315050e+06</td>\n",
              "      <td>4.899372e+12</td>\n",
              "    </tr>\n",
              "    <tr>\n",
              "      <th>25%</th>\n",
              "      <td>5042.000000</td>\n",
              "      <td>2.000000</td>\n",
              "      <td>0.000000</td>\n",
              "      <td>0.000000</td>\n",
              "      <td>0.000000</td>\n",
              "      <td>0.000000</td>\n",
              "      <td>2018.0</td>\n",
              "      <td>50.000000</td>\n",
              "      <td>1.000000</td>\n",
              "      <td>1.324136e+06</td>\n",
              "      <td>1.664888e+06</td>\n",
              "      <td>1.324136e+13</td>\n",
              "    </tr>\n",
              "    <tr>\n",
              "      <th>50%</th>\n",
              "      <td>5086.000000</td>\n",
              "      <td>2.000000</td>\n",
              "      <td>0.000000</td>\n",
              "      <td>0.000000</td>\n",
              "      <td>0.000000</td>\n",
              "      <td>0.000000</td>\n",
              "      <td>2018.0</td>\n",
              "      <td>60.000000</td>\n",
              "      <td>1.000000</td>\n",
              "      <td>1.328946e+06</td>\n",
              "      <td>1.673329e+06</td>\n",
              "      <td>1.328946e+13</td>\n",
              "    </tr>\n",
              "    <tr>\n",
              "      <th>75%</th>\n",
              "      <td>5158.000000</td>\n",
              "      <td>2.000000</td>\n",
              "      <td>1.000000</td>\n",
              "      <td>0.000000</td>\n",
              "      <td>0.000000</td>\n",
              "      <td>1.000000</td>\n",
              "      <td>2018.0</td>\n",
              "      <td>60.000000</td>\n",
              "      <td>2.000000</td>\n",
              "      <td>1.334799e+06</td>\n",
              "      <td>1.682849e+06</td>\n",
              "      <td>1.334798e+13</td>\n",
              "    </tr>\n",
              "    <tr>\n",
              "      <th>max</th>\n",
              "      <td>5950.000000</td>\n",
              "      <td>11.000000</td>\n",
              "      <td>7.000000</td>\n",
              "      <td>2.000000</td>\n",
              "      <td>4.000000</td>\n",
              "      <td>7.000000</td>\n",
              "      <td>2018.0</td>\n",
              "      <td>110.000000</td>\n",
              "      <td>9.000000</td>\n",
              "      <td>1.561252e+06</td>\n",
              "      <td>2.649175e+06</td>\n",
              "      <td>1.561252e+13</td>\n",
              "    </tr>\n",
              "  </tbody>\n",
              "</table>\n",
              "</div>"
            ],
            "text/plain": [
              "           Postcode   Total Units  ...      ACCLOC_Y    UNIQUE_LOC\n",
              "count  13599.000000  13599.000000  ...  1.359600e+04  1.359600e+04\n",
              "mean    5123.667108      2.134936  ...  1.677600e+06  1.330533e+13\n",
              "std      200.831506      0.563734  ...  8.067716e+04  5.888001e+11\n",
              "min      511.000000      1.000000  ...  1.315050e+06  4.899372e+12\n",
              "25%     5042.000000      2.000000  ...  1.664888e+06  1.324136e+13\n",
              "50%     5086.000000      2.000000  ...  1.673329e+06  1.328946e+13\n",
              "75%     5158.000000      2.000000  ...  1.682849e+06  1.334798e+13\n",
              "max     5950.000000     11.000000  ...  2.649175e+06  1.561252e+13\n",
              "\n",
              "[8 rows x 12 columns]"
            ]
          },
          "metadata": {
            "tags": []
          },
          "execution_count": 47
        }
      ]
    },
    {
      "cell_type": "markdown",
      "metadata": {
        "id": "9aJfiDP4EjWj"
      },
      "source": [
        "## **Determining overall Correlation between the variables**"
      ]
    },
    {
      "cell_type": "code",
      "metadata": {
        "colab": {
          "base_uri": "https://localhost:8080/",
          "height": 418
        },
        "id": "wiYQ7D0rElJJ",
        "outputId": "00f5c97b-3914-46ad-cb56-727d8bcc0827"
      },
      "source": [
        "Crash.corr()"
      ],
      "execution_count": 48,
      "outputs": [
        {
          "output_type": "execute_result",
          "data": {
            "text/html": [
              "<div>\n",
              "<style scoped>\n",
              "    .dataframe tbody tr th:only-of-type {\n",
              "        vertical-align: middle;\n",
              "    }\n",
              "\n",
              "    .dataframe tbody tr th {\n",
              "        vertical-align: top;\n",
              "    }\n",
              "\n",
              "    .dataframe thead th {\n",
              "        text-align: right;\n",
              "    }\n",
              "</style>\n",
              "<table border=\"1\" class=\"dataframe\">\n",
              "  <thead>\n",
              "    <tr style=\"text-align: right;\">\n",
              "      <th></th>\n",
              "      <th>Postcode</th>\n",
              "      <th>Total Units</th>\n",
              "      <th>Total Cas</th>\n",
              "      <th>Total Fats</th>\n",
              "      <th>Total SI</th>\n",
              "      <th>Total MI</th>\n",
              "      <th>Year</th>\n",
              "      <th>Area Speed</th>\n",
              "      <th>Unit Resp</th>\n",
              "      <th>ACCLOC_X</th>\n",
              "      <th>ACCLOC_Y</th>\n",
              "      <th>UNIQUE_LOC</th>\n",
              "    </tr>\n",
              "  </thead>\n",
              "  <tbody>\n",
              "    <tr>\n",
              "      <th>Postcode</th>\n",
              "      <td>1.000000</td>\n",
              "      <td>-0.093108</td>\n",
              "      <td>0.035440</td>\n",
              "      <td>0.067140</td>\n",
              "      <td>0.081090</td>\n",
              "      <td>0.000994</td>\n",
              "      <td>NaN</td>\n",
              "      <td>0.284956</td>\n",
              "      <td>-0.035759</td>\n",
              "      <td>0.099002</td>\n",
              "      <td>0.008202</td>\n",
              "      <td>0.099002</td>\n",
              "    </tr>\n",
              "    <tr>\n",
              "      <th>Total Units</th>\n",
              "      <td>-0.093108</td>\n",
              "      <td>1.000000</td>\n",
              "      <td>0.038944</td>\n",
              "      <td>-0.018963</td>\n",
              "      <td>0.004098</td>\n",
              "      <td>0.042274</td>\n",
              "      <td>NaN</td>\n",
              "      <td>-0.098269</td>\n",
              "      <td>-0.083477</td>\n",
              "      <td>0.048591</td>\n",
              "      <td>-0.097661</td>\n",
              "      <td>0.048591</td>\n",
              "    </tr>\n",
              "    <tr>\n",
              "      <th>Total Cas</th>\n",
              "      <td>0.035440</td>\n",
              "      <td>0.038944</td>\n",
              "      <td>1.000000</td>\n",
              "      <td>0.134185</td>\n",
              "      <td>0.320804</td>\n",
              "      <td>0.933682</td>\n",
              "      <td>NaN</td>\n",
              "      <td>0.104069</td>\n",
              "      <td>-0.011788</td>\n",
              "      <td>-0.015572</td>\n",
              "      <td>0.026934</td>\n",
              "      <td>-0.015572</td>\n",
              "    </tr>\n",
              "    <tr>\n",
              "      <th>Total Fats</th>\n",
              "      <td>0.067140</td>\n",
              "      <td>-0.018963</td>\n",
              "      <td>0.134185</td>\n",
              "      <td>1.000000</td>\n",
              "      <td>0.080646</td>\n",
              "      <td>-0.008457</td>\n",
              "      <td>NaN</td>\n",
              "      <td>0.104169</td>\n",
              "      <td>-0.019488</td>\n",
              "      <td>0.009475</td>\n",
              "      <td>0.019403</td>\n",
              "      <td>0.009476</td>\n",
              "    </tr>\n",
              "    <tr>\n",
              "      <th>Total SI</th>\n",
              "      <td>0.081090</td>\n",
              "      <td>0.004098</td>\n",
              "      <td>0.320804</td>\n",
              "      <td>0.080646</td>\n",
              "      <td>1.000000</td>\n",
              "      <td>-0.019505</td>\n",
              "      <td>NaN</td>\n",
              "      <td>0.134237</td>\n",
              "      <td>-0.030484</td>\n",
              "      <td>0.004410</td>\n",
              "      <td>0.045422</td>\n",
              "      <td>0.004410</td>\n",
              "    </tr>\n",
              "    <tr>\n",
              "      <th>Total MI</th>\n",
              "      <td>0.000994</td>\n",
              "      <td>0.042274</td>\n",
              "      <td>0.933682</td>\n",
              "      <td>-0.008457</td>\n",
              "      <td>-0.019505</td>\n",
              "      <td>1.000000</td>\n",
              "      <td>NaN</td>\n",
              "      <td>0.050746</td>\n",
              "      <td>0.000551</td>\n",
              "      <td>-0.019256</td>\n",
              "      <td>0.010317</td>\n",
              "      <td>-0.019256</td>\n",
              "    </tr>\n",
              "    <tr>\n",
              "      <th>Year</th>\n",
              "      <td>NaN</td>\n",
              "      <td>NaN</td>\n",
              "      <td>NaN</td>\n",
              "      <td>NaN</td>\n",
              "      <td>NaN</td>\n",
              "      <td>NaN</td>\n",
              "      <td>NaN</td>\n",
              "      <td>NaN</td>\n",
              "      <td>NaN</td>\n",
              "      <td>NaN</td>\n",
              "      <td>NaN</td>\n",
              "      <td>NaN</td>\n",
              "    </tr>\n",
              "    <tr>\n",
              "      <th>Area Speed</th>\n",
              "      <td>0.284956</td>\n",
              "      <td>-0.098269</td>\n",
              "      <td>0.104069</td>\n",
              "      <td>0.104169</td>\n",
              "      <td>0.134237</td>\n",
              "      <td>0.050746</td>\n",
              "      <td>NaN</td>\n",
              "      <td>1.000000</td>\n",
              "      <td>-0.050558</td>\n",
              "      <td>-0.009470</td>\n",
              "      <td>0.142961</td>\n",
              "      <td>-0.009470</td>\n",
              "    </tr>\n",
              "    <tr>\n",
              "      <th>Unit Resp</th>\n",
              "      <td>-0.035759</td>\n",
              "      <td>-0.083477</td>\n",
              "      <td>-0.011788</td>\n",
              "      <td>-0.019488</td>\n",
              "      <td>-0.030484</td>\n",
              "      <td>0.000551</td>\n",
              "      <td>NaN</td>\n",
              "      <td>-0.050558</td>\n",
              "      <td>1.000000</td>\n",
              "      <td>-0.000742</td>\n",
              "      <td>-0.010272</td>\n",
              "      <td>-0.000742</td>\n",
              "    </tr>\n",
              "    <tr>\n",
              "      <th>ACCLOC_X</th>\n",
              "      <td>0.099002</td>\n",
              "      <td>0.048591</td>\n",
              "      <td>-0.015572</td>\n",
              "      <td>0.009475</td>\n",
              "      <td>0.004410</td>\n",
              "      <td>-0.019256</td>\n",
              "      <td>NaN</td>\n",
              "      <td>-0.009470</td>\n",
              "      <td>-0.000742</td>\n",
              "      <td>1.000000</td>\n",
              "      <td>-0.643793</td>\n",
              "      <td>1.000000</td>\n",
              "    </tr>\n",
              "    <tr>\n",
              "      <th>ACCLOC_Y</th>\n",
              "      <td>0.008202</td>\n",
              "      <td>-0.097661</td>\n",
              "      <td>0.026934</td>\n",
              "      <td>0.019403</td>\n",
              "      <td>0.045422</td>\n",
              "      <td>0.010317</td>\n",
              "      <td>NaN</td>\n",
              "      <td>0.142961</td>\n",
              "      <td>-0.010272</td>\n",
              "      <td>-0.643793</td>\n",
              "      <td>1.000000</td>\n",
              "      <td>-0.643793</td>\n",
              "    </tr>\n",
              "    <tr>\n",
              "      <th>UNIQUE_LOC</th>\n",
              "      <td>0.099002</td>\n",
              "      <td>0.048591</td>\n",
              "      <td>-0.015572</td>\n",
              "      <td>0.009476</td>\n",
              "      <td>0.004410</td>\n",
              "      <td>-0.019256</td>\n",
              "      <td>NaN</td>\n",
              "      <td>-0.009470</td>\n",
              "      <td>-0.000742</td>\n",
              "      <td>1.000000</td>\n",
              "      <td>-0.643793</td>\n",
              "      <td>1.000000</td>\n",
              "    </tr>\n",
              "  </tbody>\n",
              "</table>\n",
              "</div>"
            ],
            "text/plain": [
              "             Postcode  Total Units  Total Cas  ...  ACCLOC_X  ACCLOC_Y  UNIQUE_LOC\n",
              "Postcode     1.000000    -0.093108   0.035440  ...  0.099002  0.008202    0.099002\n",
              "Total Units -0.093108     1.000000   0.038944  ...  0.048591 -0.097661    0.048591\n",
              "Total Cas    0.035440     0.038944   1.000000  ... -0.015572  0.026934   -0.015572\n",
              "Total Fats   0.067140    -0.018963   0.134185  ...  0.009475  0.019403    0.009476\n",
              "Total SI     0.081090     0.004098   0.320804  ...  0.004410  0.045422    0.004410\n",
              "Total MI     0.000994     0.042274   0.933682  ... -0.019256  0.010317   -0.019256\n",
              "Year              NaN          NaN        NaN  ...       NaN       NaN         NaN\n",
              "Area Speed   0.284956    -0.098269   0.104069  ... -0.009470  0.142961   -0.009470\n",
              "Unit Resp   -0.035759    -0.083477  -0.011788  ... -0.000742 -0.010272   -0.000742\n",
              "ACCLOC_X     0.099002     0.048591  -0.015572  ...  1.000000 -0.643793    1.000000\n",
              "ACCLOC_Y     0.008202    -0.097661   0.026934  ... -0.643793  1.000000   -0.643793\n",
              "UNIQUE_LOC   0.099002     0.048591  -0.015572  ...  1.000000 -0.643793    1.000000\n",
              "\n",
              "[12 rows x 12 columns]"
            ]
          },
          "metadata": {
            "tags": []
          },
          "execution_count": 48
        }
      ]
    },
    {
      "cell_type": "markdown",
      "metadata": {
        "id": "_Eel_houEuME"
      },
      "source": [
        "## **Determining datatype of a particular column**"
      ]
    },
    {
      "cell_type": "code",
      "metadata": {
        "colab": {
          "base_uri": "https://localhost:8080/"
        },
        "id": "ah8MCQ1sEx50",
        "outputId": "8d259ad6-a2d6-49f4-c215-ef10063d0182"
      },
      "source": [
        "month = Crash['Month']\n",
        "month\n",
        "type(month)"
      ],
      "execution_count": 49,
      "outputs": [
        {
          "output_type": "execute_result",
          "data": {
            "text/plain": [
              "pandas.core.series.Series"
            ]
          },
          "metadata": {
            "tags": []
          },
          "execution_count": 49
        }
      ]
    },
    {
      "cell_type": "markdown",
      "metadata": {
        "id": "vfvZWnZlE4Hm"
      },
      "source": [
        "## **Grouping the Crash records reported in each month**"
      ]
    },
    {
      "cell_type": "code",
      "metadata": {
        "colab": {
          "base_uri": "https://localhost:8080/"
        },
        "id": "xi3G7m2kE6Tc",
        "outputId": "055f7a56-d4d5-4f15-a661-3a422fc6d1aa"
      },
      "source": [
        "Crash.groupby(['Month']).size()"
      ],
      "execution_count": 50,
      "outputs": [
        {
          "output_type": "execute_result",
          "data": {
            "text/plain": [
              "Month\n",
              "April        1101\n",
              "August       1283\n",
              "December     1049\n",
              "February     1075\n",
              "January       956\n",
              "July         1089\n",
              "June         1112\n",
              "March        1237\n",
              "May          1222\n",
              "November     1139\n",
              "October      1183\n",
              "September    1153\n",
              "dtype: int64"
            ]
          },
          "metadata": {
            "tags": []
          },
          "execution_count": 50
        }
      ]
    },
    {
      "cell_type": "markdown",
      "metadata": {
        "id": "Vuo6xv5GFIxY"
      },
      "source": [
        "## **Exploring the Number of Crashes in a particular Month i.e. March**"
      ]
    },
    {
      "cell_type": "code",
      "metadata": {
        "colab": {
          "base_uri": "https://localhost:8080/",
          "height": 840
        },
        "id": "1ulHzFLRFOPX",
        "outputId": "445ef444-2ffd-4efd-d2e1-9c678f808664"
      },
      "source": [
        "Months=Crash[Crash.Month =='March']\n",
        "Months"
      ],
      "execution_count": 51,
      "outputs": [
        {
          "output_type": "execute_result",
          "data": {
            "text/html": [
              "<div>\n",
              "<style scoped>\n",
              "    .dataframe tbody tr th:only-of-type {\n",
              "        vertical-align: middle;\n",
              "    }\n",
              "\n",
              "    .dataframe tbody tr th {\n",
              "        vertical-align: top;\n",
              "    }\n",
              "\n",
              "    .dataframe thead th {\n",
              "        text-align: right;\n",
              "    }\n",
              "</style>\n",
              "<table border=\"1\" class=\"dataframe\">\n",
              "  <thead>\n",
              "    <tr style=\"text-align: right;\">\n",
              "      <th></th>\n",
              "      <th>REPORT_ID</th>\n",
              "      <th>Stats Area</th>\n",
              "      <th>Suburb</th>\n",
              "      <th>Postcode</th>\n",
              "      <th>LGA Name</th>\n",
              "      <th>Total Units</th>\n",
              "      <th>Total Cas</th>\n",
              "      <th>Total Fats</th>\n",
              "      <th>Total SI</th>\n",
              "      <th>Total MI</th>\n",
              "      <th>Year</th>\n",
              "      <th>Month</th>\n",
              "      <th>Day</th>\n",
              "      <th>Time</th>\n",
              "      <th>Area Speed</th>\n",
              "      <th>Position Type</th>\n",
              "      <th>Horizontal Align</th>\n",
              "      <th>Vertical Align</th>\n",
              "      <th>Other Feat</th>\n",
              "      <th>Road Surface</th>\n",
              "      <th>Moisture Cond</th>\n",
              "      <th>Weather Cond</th>\n",
              "      <th>DayNight</th>\n",
              "      <th>Crash Type</th>\n",
              "      <th>Unit Resp</th>\n",
              "      <th>Entity Code</th>\n",
              "      <th>CSEF Severity</th>\n",
              "      <th>Traffic Ctrls</th>\n",
              "      <th>DUI Involved</th>\n",
              "      <th>Drugs Involved</th>\n",
              "      <th>ACCLOC_X</th>\n",
              "      <th>ACCLOC_Y</th>\n",
              "      <th>UNIQUE_LOC</th>\n",
              "    </tr>\n",
              "  </thead>\n",
              "  <tbody>\n",
              "    <tr>\n",
              "      <th>1995</th>\n",
              "      <td>2018-1996-27/05/2021</td>\n",
              "      <td>3 Country</td>\n",
              "      <td>MOUNT GAMBIER</td>\n",
              "      <td>5290</td>\n",
              "      <td>CC MT.GAMBIER.</td>\n",
              "      <td>1</td>\n",
              "      <td>0</td>\n",
              "      <td>0</td>\n",
              "      <td>0</td>\n",
              "      <td>0</td>\n",
              "      <td>2018</td>\n",
              "      <td>March</td>\n",
              "      <td>Thursday</td>\n",
              "      <td>01:23 am</td>\n",
              "      <td>60</td>\n",
              "      <td>Cross Road</td>\n",
              "      <td>Straight road</td>\n",
              "      <td>Level</td>\n",
              "      <td>Not Applicable</td>\n",
              "      <td>Sealed</td>\n",
              "      <td>Wet</td>\n",
              "      <td>Raining</td>\n",
              "      <td>Night</td>\n",
              "      <td>Left Road - Out of Control</td>\n",
              "      <td>1</td>\n",
              "      <td>Driver Rider</td>\n",
              "      <td>1: PDO</td>\n",
              "      <td>Roundabout</td>\n",
              "      <td>NaN</td>\n",
              "      <td>NaN</td>\n",
              "      <td>1508779.68</td>\n",
              "      <td>1341470.69</td>\n",
              "      <td>1.508780e+13</td>\n",
              "    </tr>\n",
              "    <tr>\n",
              "      <th>1996</th>\n",
              "      <td>2018-1997-27/05/2021</td>\n",
              "      <td>2 Metropolitan</td>\n",
              "      <td>SEATON</td>\n",
              "      <td>5023</td>\n",
              "      <td>CITY OF CHARLES STURT</td>\n",
              "      <td>2</td>\n",
              "      <td>0</td>\n",
              "      <td>0</td>\n",
              "      <td>0</td>\n",
              "      <td>0</td>\n",
              "      <td>2018</td>\n",
              "      <td>March</td>\n",
              "      <td>Thursday</td>\n",
              "      <td>12:50 am</td>\n",
              "      <td>50</td>\n",
              "      <td>T-Junction</td>\n",
              "      <td>Straight road</td>\n",
              "      <td>Level</td>\n",
              "      <td>Not Applicable</td>\n",
              "      <td>Sealed</td>\n",
              "      <td>Dry</td>\n",
              "      <td>Not Raining</td>\n",
              "      <td>Night</td>\n",
              "      <td>Hit Parked Vehicle</td>\n",
              "      <td>1</td>\n",
              "      <td>Driver Rider</td>\n",
              "      <td>1: PDO</td>\n",
              "      <td>No Control</td>\n",
              "      <td>NaN</td>\n",
              "      <td>NaN</td>\n",
              "      <td>1321082.12</td>\n",
              "      <td>1674232.01</td>\n",
              "      <td>1.321082e+13</td>\n",
              "    </tr>\n",
              "    <tr>\n",
              "      <th>1997</th>\n",
              "      <td>2018-1998-27/05/2021</td>\n",
              "      <td>2 Metropolitan</td>\n",
              "      <td>SOUTH PLYMPTON</td>\n",
              "      <td>5038</td>\n",
              "      <td>CC MARION.</td>\n",
              "      <td>3</td>\n",
              "      <td>1</td>\n",
              "      <td>0</td>\n",
              "      <td>0</td>\n",
              "      <td>1</td>\n",
              "      <td>2018</td>\n",
              "      <td>March</td>\n",
              "      <td>Thursday</td>\n",
              "      <td>01:30 am</td>\n",
              "      <td>60</td>\n",
              "      <td>Divided Road</td>\n",
              "      <td>Straight road</td>\n",
              "      <td>Level</td>\n",
              "      <td>Not Applicable</td>\n",
              "      <td>Sealed</td>\n",
              "      <td>Dry</td>\n",
              "      <td>Not Raining</td>\n",
              "      <td>Night</td>\n",
              "      <td>Hit Fixed Object</td>\n",
              "      <td>1</td>\n",
              "      <td>Driver Rider</td>\n",
              "      <td>2: MI</td>\n",
              "      <td>No Control</td>\n",
              "      <td>NaN</td>\n",
              "      <td>Y</td>\n",
              "      <td>1324243.88</td>\n",
              "      <td>1665926.37</td>\n",
              "      <td>1.324244e+13</td>\n",
              "    </tr>\n",
              "    <tr>\n",
              "      <th>1998</th>\n",
              "      <td>2018-1999-27/05/2021</td>\n",
              "      <td>2 Metropolitan</td>\n",
              "      <td>SEMAPHORE</td>\n",
              "      <td>5019</td>\n",
              "      <td>CITY OF PORT ADELAIDE ENFIELD</td>\n",
              "      <td>3</td>\n",
              "      <td>2</td>\n",
              "      <td>0</td>\n",
              "      <td>1</td>\n",
              "      <td>1</td>\n",
              "      <td>2018</td>\n",
              "      <td>March</td>\n",
              "      <td>Thursday</td>\n",
              "      <td>06:19 am</td>\n",
              "      <td>50</td>\n",
              "      <td>T-Junction</td>\n",
              "      <td>Straight road</td>\n",
              "      <td>Level</td>\n",
              "      <td>Not Applicable</td>\n",
              "      <td>Sealed</td>\n",
              "      <td>Dry</td>\n",
              "      <td>Not Raining</td>\n",
              "      <td>Night</td>\n",
              "      <td>Roll Over</td>\n",
              "      <td>1</td>\n",
              "      <td>Driver Rider</td>\n",
              "      <td>3: SI</td>\n",
              "      <td>Roundabout</td>\n",
              "      <td>NaN</td>\n",
              "      <td>NaN</td>\n",
              "      <td>1317796.67</td>\n",
              "      <td>1680437.55</td>\n",
              "      <td>1.317797e+13</td>\n",
              "    </tr>\n",
              "    <tr>\n",
              "      <th>1999</th>\n",
              "      <td>2018-2000-27/05/2021</td>\n",
              "      <td>2 Metropolitan</td>\n",
              "      <td>MODBURY</td>\n",
              "      <td>5092</td>\n",
              "      <td>CITY OF TEA TREE GULLY</td>\n",
              "      <td>2</td>\n",
              "      <td>0</td>\n",
              "      <td>0</td>\n",
              "      <td>0</td>\n",
              "      <td>0</td>\n",
              "      <td>2018</td>\n",
              "      <td>March</td>\n",
              "      <td>Thursday</td>\n",
              "      <td>08:14 am</td>\n",
              "      <td>50</td>\n",
              "      <td>Not Divided</td>\n",
              "      <td>Straight road</td>\n",
              "      <td>Slope</td>\n",
              "      <td>Not Applicable</td>\n",
              "      <td>Sealed</td>\n",
              "      <td>Dry</td>\n",
              "      <td>Not Raining</td>\n",
              "      <td>Daylight</td>\n",
              "      <td>Right Angle</td>\n",
              "      <td>2</td>\n",
              "      <td>Driver Rider</td>\n",
              "      <td>1: PDO</td>\n",
              "      <td>No Control</td>\n",
              "      <td>NaN</td>\n",
              "      <td>NaN</td>\n",
              "      <td>1335127.61</td>\n",
              "      <td>1680776.79</td>\n",
              "      <td>1.335128e+13</td>\n",
              "    </tr>\n",
              "    <tr>\n",
              "      <th>...</th>\n",
              "      <td>...</td>\n",
              "      <td>...</td>\n",
              "      <td>...</td>\n",
              "      <td>...</td>\n",
              "      <td>...</td>\n",
              "      <td>...</td>\n",
              "      <td>...</td>\n",
              "      <td>...</td>\n",
              "      <td>...</td>\n",
              "      <td>...</td>\n",
              "      <td>...</td>\n",
              "      <td>...</td>\n",
              "      <td>...</td>\n",
              "      <td>...</td>\n",
              "      <td>...</td>\n",
              "      <td>...</td>\n",
              "      <td>...</td>\n",
              "      <td>...</td>\n",
              "      <td>...</td>\n",
              "      <td>...</td>\n",
              "      <td>...</td>\n",
              "      <td>...</td>\n",
              "      <td>...</td>\n",
              "      <td>...</td>\n",
              "      <td>...</td>\n",
              "      <td>...</td>\n",
              "      <td>...</td>\n",
              "      <td>...</td>\n",
              "      <td>...</td>\n",
              "      <td>...</td>\n",
              "      <td>...</td>\n",
              "      <td>...</td>\n",
              "      <td>...</td>\n",
              "    </tr>\n",
              "    <tr>\n",
              "      <th>4912</th>\n",
              "      <td>2018-4913-27/05/2021</td>\n",
              "      <td>2 Metropolitan</td>\n",
              "      <td>GLENELG NORTH</td>\n",
              "      <td>5045</td>\n",
              "      <td>CITY OF HOLDFAST BAY</td>\n",
              "      <td>2</td>\n",
              "      <td>0</td>\n",
              "      <td>0</td>\n",
              "      <td>0</td>\n",
              "      <td>0</td>\n",
              "      <td>2018</td>\n",
              "      <td>March</td>\n",
              "      <td>Friday</td>\n",
              "      <td>11:00 am</td>\n",
              "      <td>50</td>\n",
              "      <td>Not Divided</td>\n",
              "      <td>Straight road</td>\n",
              "      <td>Level</td>\n",
              "      <td>Not Applicable</td>\n",
              "      <td>Sealed</td>\n",
              "      <td>Dry</td>\n",
              "      <td>Not Raining</td>\n",
              "      <td>Daylight</td>\n",
              "      <td>Rear End</td>\n",
              "      <td>2</td>\n",
              "      <td>Driver Rider</td>\n",
              "      <td>1: PDO</td>\n",
              "      <td>No Control</td>\n",
              "      <td>NaN</td>\n",
              "      <td>NaN</td>\n",
              "      <td>1320887.27</td>\n",
              "      <td>1665534.72</td>\n",
              "      <td>1.320887e+13</td>\n",
              "    </tr>\n",
              "    <tr>\n",
              "      <th>5759</th>\n",
              "      <td>2018-5760-27/05/2021</td>\n",
              "      <td>2 Metropolitan</td>\n",
              "      <td>TORRENSVILLE</td>\n",
              "      <td>5031</td>\n",
              "      <td>CITY OF WEST TORRENS</td>\n",
              "      <td>2</td>\n",
              "      <td>0</td>\n",
              "      <td>0</td>\n",
              "      <td>0</td>\n",
              "      <td>0</td>\n",
              "      <td>2018</td>\n",
              "      <td>March</td>\n",
              "      <td>Sunday</td>\n",
              "      <td>11:45 am</td>\n",
              "      <td>60</td>\n",
              "      <td>Cross Road</td>\n",
              "      <td>Straight road</td>\n",
              "      <td>Level</td>\n",
              "      <td>Not Applicable</td>\n",
              "      <td>Sealed</td>\n",
              "      <td>Dry</td>\n",
              "      <td>Not Raining</td>\n",
              "      <td>Daylight</td>\n",
              "      <td>Rear End</td>\n",
              "      <td>2</td>\n",
              "      <td>Driver Rider</td>\n",
              "      <td>1: PDO</td>\n",
              "      <td>Traffic Signals</td>\n",
              "      <td>NaN</td>\n",
              "      <td>NaN</td>\n",
              "      <td>1325436.20</td>\n",
              "      <td>1672006.42</td>\n",
              "      <td>1.325436e+13</td>\n",
              "    </tr>\n",
              "    <tr>\n",
              "      <th>6611</th>\n",
              "      <td>2018-6612-27/05/2021</td>\n",
              "      <td>2 Metropolitan</td>\n",
              "      <td>WOODVILLE</td>\n",
              "      <td>5011</td>\n",
              "      <td>CITY OF CHARLES STURT</td>\n",
              "      <td>2</td>\n",
              "      <td>2</td>\n",
              "      <td>0</td>\n",
              "      <td>0</td>\n",
              "      <td>2</td>\n",
              "      <td>2018</td>\n",
              "      <td>March</td>\n",
              "      <td>Monday</td>\n",
              "      <td>11:00 am</td>\n",
              "      <td>60</td>\n",
              "      <td>Divided Road</td>\n",
              "      <td>Straight road</td>\n",
              "      <td>Level</td>\n",
              "      <td>Driveway or Entrance</td>\n",
              "      <td>Sealed</td>\n",
              "      <td>Dry</td>\n",
              "      <td>Not Raining</td>\n",
              "      <td>Daylight</td>\n",
              "      <td>Rear End</td>\n",
              "      <td>2</td>\n",
              "      <td>Driver Rider</td>\n",
              "      <td>2: MI</td>\n",
              "      <td>No Control</td>\n",
              "      <td>NaN</td>\n",
              "      <td>NaN</td>\n",
              "      <td>1322306.24</td>\n",
              "      <td>1676269.70</td>\n",
              "      <td>1.322306e+13</td>\n",
              "    </tr>\n",
              "    <tr>\n",
              "      <th>6843</th>\n",
              "      <td>2018-6844-27/05/2021</td>\n",
              "      <td>2 Metropolitan</td>\n",
              "      <td>WEST LAKES SHORE</td>\n",
              "      <td>5020</td>\n",
              "      <td>CITY OF CHARLES STURT</td>\n",
              "      <td>2</td>\n",
              "      <td>1</td>\n",
              "      <td>0</td>\n",
              "      <td>0</td>\n",
              "      <td>1</td>\n",
              "      <td>2018</td>\n",
              "      <td>March</td>\n",
              "      <td>Friday</td>\n",
              "      <td>03:30 pm</td>\n",
              "      <td>50</td>\n",
              "      <td>T-Junction</td>\n",
              "      <td>Straight road</td>\n",
              "      <td>Level</td>\n",
              "      <td>Not Applicable</td>\n",
              "      <td>Sealed</td>\n",
              "      <td>Dry</td>\n",
              "      <td>Not Raining</td>\n",
              "      <td>Daylight</td>\n",
              "      <td>Right Angle</td>\n",
              "      <td>2</td>\n",
              "      <td>Driver Rider</td>\n",
              "      <td>2: MI</td>\n",
              "      <td>No Control</td>\n",
              "      <td>NaN</td>\n",
              "      <td>NaN</td>\n",
              "      <td>1318602.18</td>\n",
              "      <td>1678165.57</td>\n",
              "      <td>1.318602e+13</td>\n",
              "    </tr>\n",
              "    <tr>\n",
              "      <th>11398</th>\n",
              "      <td>2018-11399-27/05/2021</td>\n",
              "      <td>3 Country</td>\n",
              "      <td>HAWKER</td>\n",
              "      <td>5434</td>\n",
              "      <td>THE FLINDERS RANGES COUNCIL.</td>\n",
              "      <td>2</td>\n",
              "      <td>0</td>\n",
              "      <td>0</td>\n",
              "      <td>0</td>\n",
              "      <td>0</td>\n",
              "      <td>2018</td>\n",
              "      <td>March</td>\n",
              "      <td>Saturday</td>\n",
              "      <td>11:00 am</td>\n",
              "      <td>110</td>\n",
              "      <td>Not Divided</td>\n",
              "      <td>Straight road</td>\n",
              "      <td>Level</td>\n",
              "      <td>Not Applicable</td>\n",
              "      <td>Sealed</td>\n",
              "      <td>Dry</td>\n",
              "      <td>Not Raining</td>\n",
              "      <td>Daylight</td>\n",
              "      <td>Hit Animal</td>\n",
              "      <td>2</td>\n",
              "      <td>Animal</td>\n",
              "      <td>1: PDO</td>\n",
              "      <td>No Control</td>\n",
              "      <td>NaN</td>\n",
              "      <td>NaN</td>\n",
              "      <td>1327327.20</td>\n",
              "      <td>2011255.86</td>\n",
              "      <td>1.327327e+13</td>\n",
              "    </tr>\n",
              "  </tbody>\n",
              "</table>\n",
              "<p>1237 rows × 33 columns</p>\n",
              "</div>"
            ],
            "text/plain": [
              "                   REPORT_ID      Stats Area  ...    ACCLOC_Y    UNIQUE_LOC\n",
              "1995    2018-1996-27/05/2021       3 Country  ...  1341470.69  1.508780e+13\n",
              "1996    2018-1997-27/05/2021  2 Metropolitan  ...  1674232.01  1.321082e+13\n",
              "1997    2018-1998-27/05/2021  2 Metropolitan  ...  1665926.37  1.324244e+13\n",
              "1998    2018-1999-27/05/2021  2 Metropolitan  ...  1680437.55  1.317797e+13\n",
              "1999    2018-2000-27/05/2021  2 Metropolitan  ...  1680776.79  1.335128e+13\n",
              "...                      ...             ...  ...         ...           ...\n",
              "4912    2018-4913-27/05/2021  2 Metropolitan  ...  1665534.72  1.320887e+13\n",
              "5759    2018-5760-27/05/2021  2 Metropolitan  ...  1672006.42  1.325436e+13\n",
              "6611    2018-6612-27/05/2021  2 Metropolitan  ...  1676269.70  1.322306e+13\n",
              "6843    2018-6844-27/05/2021  2 Metropolitan  ...  1678165.57  1.318602e+13\n",
              "11398  2018-11399-27/05/2021       3 Country  ...  2011255.86  1.327327e+13\n",
              "\n",
              "[1237 rows x 33 columns]"
            ]
          },
          "metadata": {
            "tags": []
          },
          "execution_count": 51
        }
      ]
    },
    {
      "cell_type": "markdown",
      "metadata": {
        "id": "fqU21DbCFVmV"
      },
      "source": [
        "## **Sorting the Total Casualty according to the Number of Crashes reported**"
      ]
    },
    {
      "cell_type": "code",
      "metadata": {
        "colab": {
          "base_uri": "https://localhost:8080/"
        },
        "id": "Sq2qebQiFcf_",
        "outputId": "24866f76-e261-4f52-bb18-0f24fa28618c"
      },
      "source": [
        "Crash['Total Cas'].value_counts().sort_index()"
      ],
      "execution_count": 52,
      "outputs": [
        {
          "output_type": "execute_result",
          "data": {
            "text/plain": [
              "0    8646\n",
              "1    4117\n",
              "2     613\n",
              "3     148\n",
              "4      51\n",
              "5      13\n",
              "6       9\n",
              "7       2\n",
              "Name: Total Cas, dtype: int64"
            ]
          },
          "metadata": {
            "tags": []
          },
          "execution_count": 52
        }
      ]
    },
    {
      "cell_type": "markdown",
      "metadata": {
        "id": "QDrhFaQ0Fje0"
      },
      "source": [
        "## **Summary statistics of Total casualty column in Road Crash**"
      ]
    },
    {
      "cell_type": "code",
      "metadata": {
        "colab": {
          "base_uri": "https://localhost:8080/"
        },
        "id": "AXhfPBeFFnqr",
        "outputId": "f2845ec6-e443-49ff-adc4-df5961ccc7af"
      },
      "source": [
        "Crash['Total Cas'].describe()"
      ],
      "execution_count": 53,
      "outputs": [
        {
          "output_type": "execute_result",
          "data": {
            "text/plain": [
              "count    13599.000000\n",
              "mean         0.450327\n",
              "std          0.702264\n",
              "min          0.000000\n",
              "25%          0.000000\n",
              "50%          0.000000\n",
              "75%          1.000000\n",
              "max          7.000000\n",
              "Name: Total Cas, dtype: float64"
            ]
          },
          "metadata": {
            "tags": []
          },
          "execution_count": 53
        }
      ]
    },
    {
      "cell_type": "code",
      "metadata": {
        "colab": {
          "base_uri": "https://localhost:8080/"
        },
        "id": "YosDxalBFuWH",
        "outputId": "77edf9b5-932b-4b62-a5eb-d64eb5c50991"
      },
      "source": [
        "Crash['Total Cas'].mean()"
      ],
      "execution_count": 54,
      "outputs": [
        {
          "output_type": "execute_result",
          "data": {
            "text/plain": [
              "0.4503272299433782"
            ]
          },
          "metadata": {
            "tags": []
          },
          "execution_count": 54
        }
      ]
    },
    {
      "cell_type": "markdown",
      "metadata": {
        "id": "eV4i-g-iFzs1"
      },
      "source": [
        "## **Plot displaying the Total Number of Crashes per Month**"
      ]
    },
    {
      "cell_type": "code",
      "metadata": {
        "colab": {
          "base_uri": "https://localhost:8080/",
          "height": 304
        },
        "id": "lmDf5AE8F1ro",
        "outputId": "8389feeb-fba9-4671-c282-fea4ab500f88"
      },
      "source": [
        "sns.countplot(data = Crash , y = 'Month' )\n",
        "plt.ylabel(\"Month\" , color = 'maroon'  , fontsize = 14)\n",
        "plt.xlabel(\"Number of Road Crashes\" ,  color = 'maroon'  , fontsize = 14)\n",
        "plt.title(\"Number of Road Crashes per Month\"  , fontsize = 16)\n",
        "plt.xticks(fontsize=12)\n",
        "plt.yticks(fontsize=12)\n",
        "plt.show()"
      ],
      "execution_count": 55,
      "outputs": [
        {
          "output_type": "display_data",
          "data": {
            "image/png": "[encoded data removed]",
            "text/plain": [
              "<Figure size 432x288 with 1 Axes>"
            ]
          },
          "metadata": {
            "tags": [],
            "needs_background": "light"
          }
        }
      ]
    },
    {
      "cell_type": "markdown",
      "metadata": {
        "id": "dI7rdIq_J9Zm"
      },
      "source": [
        "## **Plot displaying the Total Number of Casualties against the Number of Crash Records**"
      ]
    },
    {
      "cell_type": "code",
      "metadata": {
        "colab": {
          "base_uri": "https://localhost:8080/",
          "height": 522
        },
        "id": "y_9EyZGwKGXO",
        "outputId": "3a5e7ab6-5ef7-440e-d2c1-8d48c664c99f"
      },
      "source": [
        "plt.figure(figsize = (10,8))\n",
        "plt.hist(Crash['Total Cas'],bins=14, color = 'Purple')\n",
        "plt.xlabel('Number of Casuality in Crash' ,color = 'maroon', fontsize=14)\n",
        "plt.ylabel('Total counts' ,color = 'maroon', fontsize=14 )\n",
        "plt.title('Total number of casualties in a road crash' ,color = 'maroon', fontsize=16)\n",
        "plt.xticks(fontsize=12)\n",
        "plt.yticks(fontsize=12)\n",
        "plt.show()"
      ],
      "execution_count": 56,
      "outputs": [
        {
          "output_type": "display_data",
          "data": {
            "image/png": "[encoded data removed]",
            "text/plain": [
              "<Figure size 720x576 with 1 Axes>"
            ]
          },
          "metadata": {
            "tags": [],
            "needs_background": "light"
          }
        }
      ]
    },
    {
      "cell_type": "markdown",
      "metadata": {
        "id": "AE2GWPc2G_9G"
      },
      "source": [
        "## **Plot displaying relationship between Speed and Total Number of Casualty**"
      ]
    },
    {
      "cell_type": "code",
      "metadata": {
        "colab": {
          "base_uri": "https://localhost:8080/",
          "height": 522
        },
        "id": "aFBc4K8FHH8y",
        "outputId": "8a599047-61b3-40b7-a8a2-3d395a54649b"
      },
      "source": [
        "plt.figure(figsize = (10,8))\n",
        "\n",
        "areaspeed= Crash['Area Speed']\n",
        "totalcas=Crash['Total Cas']\n",
        "plt.plot(areaspeed,totalcas,'o',alpha=0.5, color = 'Purple')\n",
        "plt.xlabel('Speed in area' ,color = 'maroon', fontsize=14)\n",
        "plt.ylabel('Total casuality' ,color = 'maroon', fontsize=14)\n",
        "plt.title('Speed in area Vs Total casuality',color = 'maroon', fontsize=16)\n",
        "\n",
        "plt.xticks(fontsize=12)\n",
        "plt.yticks(fontsize=12)\n",
        "plt.show()"
      ],
      "execution_count": 57,
      "outputs": [
        {
          "output_type": "display_data",
          "data": {
            "image/png": "[encoded data removed]",
            "text/plain": [
              "<Figure size 720x576 with 1 Axes>"
            ]
          },
          "metadata": {
            "tags": [],
            "needs_background": "light"
          }
        }
      ]
    },
    {
      "cell_type": "markdown",
      "metadata": {
        "id": "K53vo4QPLuqM"
      },
      "source": [
        "## **Kernel Density Estimation on Area Speed**"
      ]
    },
    {
      "cell_type": "code",
      "metadata": {
        "colab": {
          "base_uri": "https://localhost:8080/",
          "height": 355
        },
        "id": "h2eWerJHLwlh",
        "outputId": "4f032f63-f3d5-4157-b2aa-2e415ae95b8b"
      },
      "source": [
        "plt.figure(figsize = (5,5))\n",
        "sns.histplot(Crash['Area Speed'], kde = True, color = 'Blue')\n",
        "plt.title('Area Speed Vs Count' ,color = 'maroon', fontsize=16)\n",
        "\n",
        "plt.xticks(fontsize=12)\n",
        "plt.yticks(fontsize=12)\n",
        "plt.show()"
      ],
      "execution_count": 58,
      "outputs": [
        {
          "output_type": "display_data",
          "data": {
            "image/png": "[encoded data removed]",
            "text/plain": [
              "<Figure size 360x360 with 1 Axes>"
            ]
          },
          "metadata": {
            "tags": [],
            "needs_background": "light"
          }
        }
      ]
    },
    {
      "cell_type": "markdown",
      "metadata": {
        "id": "lgVEuSrlL8x0"
      },
      "source": [
        "## **Plot displaying distribution of Area Speed on each day**"
      ]
    },
    {
      "cell_type": "code",
      "metadata": {
        "colab": {
          "base_uri": "https://localhost:8080/",
          "height": 518
        },
        "id": "yJpDXsxKMBbq",
        "outputId": "97b274b6-ad88-434e-be01-40111797045c"
      },
      "source": [
        "plt.figure(figsize =(10, 8))\n",
        "sns.boxplot(x='Day',y='Area Speed',data=Crash,whis=10 )\n",
        "plt.title('Week Days Vs Area Speed' ,color = 'maroon', fontsize=16)\n",
        "\n",
        "plt.xticks(fontsize=12)\n",
        "plt.yticks(fontsize=12)\n",
        "plt.show()"
      ],
      "execution_count": 59,
      "outputs": [
        {
          "output_type": "display_data",
          "data": {
            "image/png": "[encoded data removed]",
            "text/plain": [
              "<Figure size 720x576 with 1 Axes>"
            ]
          },
          "metadata": {
            "tags": [],
            "needs_background": "light"
          }
        }
      ]
    },
    {
      "cell_type": "markdown",
      "metadata": {
        "id": "fWLbeCHiMRqj"
      },
      "source": [
        "# **Loading Units dataset**"
      ]
    },
    {
      "cell_type": "code",
      "metadata": {
        "colab": {
          "base_uri": "https://localhost:8080/",
          "height": 719
        },
        "id": "3O18efwrMgs-",
        "outputId": "1980d60d-e624-473a-fba3-3510e647fd29"
      },
      "source": [
        "Units"
      ],
      "execution_count": 60,
      "outputs": [
        {
          "output_type": "execute_result",
          "data": {
            "text/html": [
              "<div>\n",
              "<style scoped>\n",
              "    .dataframe tbody tr th:only-of-type {\n",
              "        vertical-align: middle;\n",
              "    }\n",
              "\n",
              "    .dataframe tbody tr th {\n",
              "        vertical-align: top;\n",
              "    }\n",
              "\n",
              "    .dataframe thead th {\n",
              "        text-align: right;\n",
              "    }\n",
              "</style>\n",
              "<table border=\"1\" class=\"dataframe\">\n",
              "  <thead>\n",
              "    <tr style=\"text-align: right;\">\n",
              "      <th></th>\n",
              "      <th>REPORT_ID</th>\n",
              "      <th>Unit No</th>\n",
              "      <th>No Of Cas</th>\n",
              "      <th>Veh Reg State</th>\n",
              "      <th>Unit Type</th>\n",
              "      <th>Veh Year</th>\n",
              "      <th>Direction Of Travel</th>\n",
              "      <th>Sex</th>\n",
              "      <th>Age</th>\n",
              "      <th>Lic State</th>\n",
              "      <th>Licence Class</th>\n",
              "      <th>Licence Type</th>\n",
              "      <th>Towing</th>\n",
              "      <th>Unit Movement</th>\n",
              "      <th>Number Occupants</th>\n",
              "      <th>Postcode</th>\n",
              "      <th>Rollover</th>\n",
              "      <th>Fire</th>\n",
              "    </tr>\n",
              "  </thead>\n",
              "  <tbody>\n",
              "    <tr>\n",
              "      <th>0</th>\n",
              "      <td>2018-1-27/05/2021</td>\n",
              "      <td>1</td>\n",
              "      <td>0</td>\n",
              "      <td>SA</td>\n",
              "      <td>Motor Cars - Sedan</td>\n",
              "      <td>2006</td>\n",
              "      <td>North</td>\n",
              "      <td>Male</td>\n",
              "      <td>018</td>\n",
              "      <td>SA</td>\n",
              "      <td>C</td>\n",
              "      <td>Provisional 1</td>\n",
              "      <td>Not Towing</td>\n",
              "      <td>Straight Ahead</td>\n",
              "      <td>1.0</td>\n",
              "      <td>XXXX</td>\n",
              "      <td>NaN</td>\n",
              "      <td>NaN</td>\n",
              "    </tr>\n",
              "    <tr>\n",
              "      <th>1</th>\n",
              "      <td>2018-1-27/05/2021</td>\n",
              "      <td>2</td>\n",
              "      <td>0</td>\n",
              "      <td>SA</td>\n",
              "      <td>Motor Cars - Sedan</td>\n",
              "      <td>2006</td>\n",
              "      <td>East</td>\n",
              "      <td>Male</td>\n",
              "      <td>XXX</td>\n",
              "      <td>SA</td>\n",
              "      <td>C</td>\n",
              "      <td>Full</td>\n",
              "      <td>Not Towing</td>\n",
              "      <td>Leaving Private Driveway</td>\n",
              "      <td>2.0</td>\n",
              "      <td>5159</td>\n",
              "      <td>NaN</td>\n",
              "      <td>NaN</td>\n",
              "    </tr>\n",
              "    <tr>\n",
              "      <th>2</th>\n",
              "      <td>2018-1-27/05/2021</td>\n",
              "      <td>3</td>\n",
              "      <td>0</td>\n",
              "      <td>NaN</td>\n",
              "      <td>Pedestrian on Footpath/Carpark</td>\n",
              "      <td>NaN</td>\n",
              "      <td>North</td>\n",
              "      <td>Female</td>\n",
              "      <td>066</td>\n",
              "      <td>NaN</td>\n",
              "      <td>NaN</td>\n",
              "      <td>NaN</td>\n",
              "      <td>NaN</td>\n",
              "      <td>Walking on Footpath</td>\n",
              "      <td>NaN</td>\n",
              "      <td>XXXX</td>\n",
              "      <td>NaN</td>\n",
              "      <td>NaN</td>\n",
              "    </tr>\n",
              "    <tr>\n",
              "      <th>3</th>\n",
              "      <td>2018-1-27/05/2021</td>\n",
              "      <td>4</td>\n",
              "      <td>0</td>\n",
              "      <td>NaN</td>\n",
              "      <td>Other Fixed Obstruction</td>\n",
              "      <td>NaN</td>\n",
              "      <td>NaN</td>\n",
              "      <td>NaN</td>\n",
              "      <td>NaN</td>\n",
              "      <td>NaN</td>\n",
              "      <td>NaN</td>\n",
              "      <td>NaN</td>\n",
              "      <td>NaN</td>\n",
              "      <td>NaN</td>\n",
              "      <td>NaN</td>\n",
              "      <td>NaN</td>\n",
              "      <td>NaN</td>\n",
              "      <td>NaN</td>\n",
              "    </tr>\n",
              "    <tr>\n",
              "      <th>4</th>\n",
              "      <td>2018-2-27/05/2021</td>\n",
              "      <td>1</td>\n",
              "      <td>0</td>\n",
              "      <td>SA</td>\n",
              "      <td>Station Wagon</td>\n",
              "      <td>2017</td>\n",
              "      <td>East</td>\n",
              "      <td>Male</td>\n",
              "      <td>038</td>\n",
              "      <td>SA</td>\n",
              "      <td>C</td>\n",
              "      <td>Full</td>\n",
              "      <td>Not Towing</td>\n",
              "      <td>Stopped on Carriageway</td>\n",
              "      <td>3.0</td>\n",
              "      <td>5085</td>\n",
              "      <td>NaN</td>\n",
              "      <td>NaN</td>\n",
              "    </tr>\n",
              "    <tr>\n",
              "      <th>...</th>\n",
              "      <td>...</td>\n",
              "      <td>...</td>\n",
              "      <td>...</td>\n",
              "      <td>...</td>\n",
              "      <td>...</td>\n",
              "      <td>...</td>\n",
              "      <td>...</td>\n",
              "      <td>...</td>\n",
              "      <td>...</td>\n",
              "      <td>...</td>\n",
              "      <td>...</td>\n",
              "      <td>...</td>\n",
              "      <td>...</td>\n",
              "      <td>...</td>\n",
              "      <td>...</td>\n",
              "      <td>...</td>\n",
              "      <td>...</td>\n",
              "      <td>...</td>\n",
              "    </tr>\n",
              "    <tr>\n",
              "      <th>29028</th>\n",
              "      <td>2018-13597-27/05/2021</td>\n",
              "      <td>2</td>\n",
              "      <td>0</td>\n",
              "      <td>UNKNOWN</td>\n",
              "      <td>Utility</td>\n",
              "      <td>XXXX</td>\n",
              "      <td>West</td>\n",
              "      <td>Unknown</td>\n",
              "      <td>XXX</td>\n",
              "      <td>UNKNOWN</td>\n",
              "      <td>XX</td>\n",
              "      <td>Unknown</td>\n",
              "      <td>Unknown</td>\n",
              "      <td>Straight Ahead</td>\n",
              "      <td>1.0</td>\n",
              "      <td>XXXX</td>\n",
              "      <td>NaN</td>\n",
              "      <td>NaN</td>\n",
              "    </tr>\n",
              "    <tr>\n",
              "      <th>29029</th>\n",
              "      <td>2018-13598-27/05/2021</td>\n",
              "      <td>1</td>\n",
              "      <td>1</td>\n",
              "      <td>SA</td>\n",
              "      <td>Motor Cars - Sedan</td>\n",
              "      <td>2014</td>\n",
              "      <td>South</td>\n",
              "      <td>Male</td>\n",
              "      <td>062</td>\n",
              "      <td>SA</td>\n",
              "      <td>C</td>\n",
              "      <td>Full</td>\n",
              "      <td>Not Towing</td>\n",
              "      <td>Right Turn</td>\n",
              "      <td>1.0</td>\n",
              "      <td>5162</td>\n",
              "      <td>NaN</td>\n",
              "      <td>NaN</td>\n",
              "    </tr>\n",
              "    <tr>\n",
              "      <th>29030</th>\n",
              "      <td>2018-13598-27/05/2021</td>\n",
              "      <td>2</td>\n",
              "      <td>0</td>\n",
              "      <td>SA</td>\n",
              "      <td>Motor Cars - Sedan</td>\n",
              "      <td>2004</td>\n",
              "      <td>South</td>\n",
              "      <td>Male</td>\n",
              "      <td>076</td>\n",
              "      <td>SA</td>\n",
              "      <td>C</td>\n",
              "      <td>Full</td>\n",
              "      <td>Not Towing</td>\n",
              "      <td>Straight Ahead</td>\n",
              "      <td>1.0</td>\n",
              "      <td>5162</td>\n",
              "      <td>NaN</td>\n",
              "      <td>NaN</td>\n",
              "    </tr>\n",
              "    <tr>\n",
              "      <th>29031</th>\n",
              "      <td>2018-13599-27/05/2021</td>\n",
              "      <td>1</td>\n",
              "      <td>1</td>\n",
              "      <td>SA</td>\n",
              "      <td>Motor Cars - Sedan</td>\n",
              "      <td>2015</td>\n",
              "      <td>North</td>\n",
              "      <td>Female</td>\n",
              "      <td>057</td>\n",
              "      <td>SA</td>\n",
              "      <td>C</td>\n",
              "      <td>Full</td>\n",
              "      <td>Not Towing</td>\n",
              "      <td>Stopped on Carriageway</td>\n",
              "      <td>1.0</td>\n",
              "      <td>5052</td>\n",
              "      <td>NaN</td>\n",
              "      <td>NaN</td>\n",
              "    </tr>\n",
              "    <tr>\n",
              "      <th>29032</th>\n",
              "      <td>2018-13599-27/05/2021</td>\n",
              "      <td>2</td>\n",
              "      <td>0</td>\n",
              "      <td>SA</td>\n",
              "      <td>Station Wagon</td>\n",
              "      <td>2014</td>\n",
              "      <td>North</td>\n",
              "      <td>Male</td>\n",
              "      <td>045</td>\n",
              "      <td>SA</td>\n",
              "      <td>C R</td>\n",
              "      <td>Full</td>\n",
              "      <td>Not Towing</td>\n",
              "      <td>Right Turn</td>\n",
              "      <td>1.0</td>\n",
              "      <td>5048</td>\n",
              "      <td>NaN</td>\n",
              "      <td>NaN</td>\n",
              "    </tr>\n",
              "  </tbody>\n",
              "</table>\n",
              "<p>29033 rows × 18 columns</p>\n",
              "</div>"
            ],
            "text/plain": [
              "                   REPORT_ID  Unit No  No Of Cas  ... Postcode Rollover Fire\n",
              "0          2018-1-27/05/2021        1          0  ...     XXXX      NaN  NaN\n",
              "1          2018-1-27/05/2021        2          0  ...     5159      NaN  NaN\n",
              "2          2018-1-27/05/2021        3          0  ...     XXXX      NaN  NaN\n",
              "3          2018-1-27/05/2021        4          0  ...      NaN      NaN  NaN\n",
              "4          2018-2-27/05/2021        1          0  ...     5085      NaN  NaN\n",
              "...                      ...      ...        ...  ...      ...      ...  ...\n",
              "29028  2018-13597-27/05/2021        2          0  ...     XXXX      NaN  NaN\n",
              "29029  2018-13598-27/05/2021        1          1  ...     5162      NaN  NaN\n",
              "29030  2018-13598-27/05/2021        2          0  ...     5162      NaN  NaN\n",
              "29031  2018-13599-27/05/2021        1          1  ...     5052      NaN  NaN\n",
              "29032  2018-13599-27/05/2021        2          0  ...     5048      NaN  NaN\n",
              "\n",
              "[29033 rows x 18 columns]"
            ]
          },
          "metadata": {
            "tags": []
          },
          "execution_count": 60
        }
      ]
    },
    {
      "cell_type": "markdown",
      "metadata": {
        "id": "CUES7i04MsQj"
      },
      "source": [
        "## **Exploring the shape of the dataset**"
      ]
    },
    {
      "cell_type": "code",
      "metadata": {
        "colab": {
          "base_uri": "https://localhost:8080/"
        },
        "id": "ly6T3cmNMYIo",
        "outputId": "efddd164-d33f-4dc8-eb7d-c2df68b969e1"
      },
      "source": [
        "Units.shape"
      ],
      "execution_count": 61,
      "outputs": [
        {
          "output_type": "execute_result",
          "data": {
            "text/plain": [
              "(29033, 18)"
            ]
          },
          "metadata": {
            "tags": []
          },
          "execution_count": 61
        }
      ]
    },
    {
      "cell_type": "markdown",
      "metadata": {
        "id": "koR3RUM_NAuN"
      },
      "source": [
        "## **Displaying the first five rows of the datset**"
      ]
    },
    {
      "cell_type": "code",
      "metadata": {
        "colab": {
          "base_uri": "https://localhost:8080/",
          "height": 321
        },
        "id": "pvmbwXmnNFPb",
        "outputId": "1640f789-e3b8-42bd-9d5b-6cd88ba6a482"
      },
      "source": [
        "Units.head()"
      ],
      "execution_count": 62,
      "outputs": [
        {
          "output_type": "execute_result",
          "data": {
            "text/html": [
              "<div>\n",
              "<style scoped>\n",
              "    .dataframe tbody tr th:only-of-type {\n",
              "        vertical-align: middle;\n",
              "    }\n",
              "\n",
              "    .dataframe tbody tr th {\n",
              "        vertical-align: top;\n",
              "    }\n",
              "\n",
              "    .dataframe thead th {\n",
              "        text-align: right;\n",
              "    }\n",
              "</style>\n",
              "<table border=\"1\" class=\"dataframe\">\n",
              "  <thead>\n",
              "    <tr style=\"text-align: right;\">\n",
              "      <th></th>\n",
              "      <th>REPORT_ID</th>\n",
              "      <th>Unit No</th>\n",
              "      <th>No Of Cas</th>\n",
              "      <th>Veh Reg State</th>\n",
              "      <th>Unit Type</th>\n",
              "      <th>Veh Year</th>\n",
              "      <th>Direction Of Travel</th>\n",
              "      <th>Sex</th>\n",
              "      <th>Age</th>\n",
              "      <th>Lic State</th>\n",
              "      <th>Licence Class</th>\n",
              "      <th>Licence Type</th>\n",
              "      <th>Towing</th>\n",
              "      <th>Unit Movement</th>\n",
              "      <th>Number Occupants</th>\n",
              "      <th>Postcode</th>\n",
              "      <th>Rollover</th>\n",
              "      <th>Fire</th>\n",
              "    </tr>\n",
              "  </thead>\n",
              "  <tbody>\n",
              "    <tr>\n",
              "      <th>0</th>\n",
              "      <td>2018-1-27/05/2021</td>\n",
              "      <td>1</td>\n",
              "      <td>0</td>\n",
              "      <td>SA</td>\n",
              "      <td>Motor Cars - Sedan</td>\n",
              "      <td>2006</td>\n",
              "      <td>North</td>\n",
              "      <td>Male</td>\n",
              "      <td>018</td>\n",
              "      <td>SA</td>\n",
              "      <td>C</td>\n",
              "      <td>Provisional 1</td>\n",
              "      <td>Not Towing</td>\n",
              "      <td>Straight Ahead</td>\n",
              "      <td>1.0</td>\n",
              "      <td>XXXX</td>\n",
              "      <td>NaN</td>\n",
              "      <td>NaN</td>\n",
              "    </tr>\n",
              "    <tr>\n",
              "      <th>1</th>\n",
              "      <td>2018-1-27/05/2021</td>\n",
              "      <td>2</td>\n",
              "      <td>0</td>\n",
              "      <td>SA</td>\n",
              "      <td>Motor Cars - Sedan</td>\n",
              "      <td>2006</td>\n",
              "      <td>East</td>\n",
              "      <td>Male</td>\n",
              "      <td>XXX</td>\n",
              "      <td>SA</td>\n",
              "      <td>C</td>\n",
              "      <td>Full</td>\n",
              "      <td>Not Towing</td>\n",
              "      <td>Leaving Private Driveway</td>\n",
              "      <td>2.0</td>\n",
              "      <td>5159</td>\n",
              "      <td>NaN</td>\n",
              "      <td>NaN</td>\n",
              "    </tr>\n",
              "    <tr>\n",
              "      <th>2</th>\n",
              "      <td>2018-1-27/05/2021</td>\n",
              "      <td>3</td>\n",
              "      <td>0</td>\n",
              "      <td>NaN</td>\n",
              "      <td>Pedestrian on Footpath/Carpark</td>\n",
              "      <td>NaN</td>\n",
              "      <td>North</td>\n",
              "      <td>Female</td>\n",
              "      <td>066</td>\n",
              "      <td>NaN</td>\n",
              "      <td>NaN</td>\n",
              "      <td>NaN</td>\n",
              "      <td>NaN</td>\n",
              "      <td>Walking on Footpath</td>\n",
              "      <td>NaN</td>\n",
              "      <td>XXXX</td>\n",
              "      <td>NaN</td>\n",
              "      <td>NaN</td>\n",
              "    </tr>\n",
              "    <tr>\n",
              "      <th>3</th>\n",
              "      <td>2018-1-27/05/2021</td>\n",
              "      <td>4</td>\n",
              "      <td>0</td>\n",
              "      <td>NaN</td>\n",
              "      <td>Other Fixed Obstruction</td>\n",
              "      <td>NaN</td>\n",
              "      <td>NaN</td>\n",
              "      <td>NaN</td>\n",
              "      <td>NaN</td>\n",
              "      <td>NaN</td>\n",
              "      <td>NaN</td>\n",
              "      <td>NaN</td>\n",
              "      <td>NaN</td>\n",
              "      <td>NaN</td>\n",
              "      <td>NaN</td>\n",
              "      <td>NaN</td>\n",
              "      <td>NaN</td>\n",
              "      <td>NaN</td>\n",
              "    </tr>\n",
              "    <tr>\n",
              "      <th>4</th>\n",
              "      <td>2018-2-27/05/2021</td>\n",
              "      <td>1</td>\n",
              "      <td>0</td>\n",
              "      <td>SA</td>\n",
              "      <td>Station Wagon</td>\n",
              "      <td>2017</td>\n",
              "      <td>East</td>\n",
              "      <td>Male</td>\n",
              "      <td>038</td>\n",
              "      <td>SA</td>\n",
              "      <td>C</td>\n",
              "      <td>Full</td>\n",
              "      <td>Not Towing</td>\n",
              "      <td>Stopped on Carriageway</td>\n",
              "      <td>3.0</td>\n",
              "      <td>5085</td>\n",
              "      <td>NaN</td>\n",
              "      <td>NaN</td>\n",
              "    </tr>\n",
              "  </tbody>\n",
              "</table>\n",
              "</div>"
            ],
            "text/plain": [
              "           REPORT_ID  Unit No  No Of Cas  ... Postcode Rollover Fire\n",
              "0  2018-1-27/05/2021        1          0  ...     XXXX      NaN  NaN\n",
              "1  2018-1-27/05/2021        2          0  ...     5159      NaN  NaN\n",
              "2  2018-1-27/05/2021        3          0  ...     XXXX      NaN  NaN\n",
              "3  2018-1-27/05/2021        4          0  ...      NaN      NaN  NaN\n",
              "4  2018-2-27/05/2021        1          0  ...     5085      NaN  NaN\n",
              "\n",
              "[5 rows x 18 columns]"
            ]
          },
          "metadata": {
            "tags": []
          },
          "execution_count": 62
        }
      ]
    },
    {
      "cell_type": "markdown",
      "metadata": {
        "id": "s-Rgj3kTNMLR"
      },
      "source": [
        "## **Displaying the last five rows of the datset**"
      ]
    },
    {
      "cell_type": "code",
      "metadata": {
        "colab": {
          "base_uri": "https://localhost:8080/",
          "height": 371
        },
        "id": "ogvhUSm2NO1r",
        "outputId": "ec780bb8-b422-4227-fc21-0998f81ae30b"
      },
      "source": [
        "Units.tail()"
      ],
      "execution_count": 63,
      "outputs": [
        {
          "output_type": "execute_result",
          "data": {
            "text/html": [
              "<div>\n",
              "<style scoped>\n",
              "    .dataframe tbody tr th:only-of-type {\n",
              "        vertical-align: middle;\n",
              "    }\n",
              "\n",
              "    .dataframe tbody tr th {\n",
              "        vertical-align: top;\n",
              "    }\n",
              "\n",
              "    .dataframe thead th {\n",
              "        text-align: right;\n",
              "    }\n",
              "</style>\n",
              "<table border=\"1\" class=\"dataframe\">\n",
              "  <thead>\n",
              "    <tr style=\"text-align: right;\">\n",
              "      <th></th>\n",
              "      <th>REPORT_ID</th>\n",
              "      <th>Unit No</th>\n",
              "      <th>No Of Cas</th>\n",
              "      <th>Veh Reg State</th>\n",
              "      <th>Unit Type</th>\n",
              "      <th>Veh Year</th>\n",
              "      <th>Direction Of Travel</th>\n",
              "      <th>Sex</th>\n",
              "      <th>Age</th>\n",
              "      <th>Lic State</th>\n",
              "      <th>Licence Class</th>\n",
              "      <th>Licence Type</th>\n",
              "      <th>Towing</th>\n",
              "      <th>Unit Movement</th>\n",
              "      <th>Number Occupants</th>\n",
              "      <th>Postcode</th>\n",
              "      <th>Rollover</th>\n",
              "      <th>Fire</th>\n",
              "    </tr>\n",
              "  </thead>\n",
              "  <tbody>\n",
              "    <tr>\n",
              "      <th>29028</th>\n",
              "      <td>2018-13597-27/05/2021</td>\n",
              "      <td>2</td>\n",
              "      <td>0</td>\n",
              "      <td>UNKNOWN</td>\n",
              "      <td>Utility</td>\n",
              "      <td>XXXX</td>\n",
              "      <td>West</td>\n",
              "      <td>Unknown</td>\n",
              "      <td>XXX</td>\n",
              "      <td>UNKNOWN</td>\n",
              "      <td>XX</td>\n",
              "      <td>Unknown</td>\n",
              "      <td>Unknown</td>\n",
              "      <td>Straight Ahead</td>\n",
              "      <td>1.0</td>\n",
              "      <td>XXXX</td>\n",
              "      <td>NaN</td>\n",
              "      <td>NaN</td>\n",
              "    </tr>\n",
              "    <tr>\n",
              "      <th>29029</th>\n",
              "      <td>2018-13598-27/05/2021</td>\n",
              "      <td>1</td>\n",
              "      <td>1</td>\n",
              "      <td>SA</td>\n",
              "      <td>Motor Cars - Sedan</td>\n",
              "      <td>2014</td>\n",
              "      <td>South</td>\n",
              "      <td>Male</td>\n",
              "      <td>062</td>\n",
              "      <td>SA</td>\n",
              "      <td>C</td>\n",
              "      <td>Full</td>\n",
              "      <td>Not Towing</td>\n",
              "      <td>Right Turn</td>\n",
              "      <td>1.0</td>\n",
              "      <td>5162</td>\n",
              "      <td>NaN</td>\n",
              "      <td>NaN</td>\n",
              "    </tr>\n",
              "    <tr>\n",
              "      <th>29030</th>\n",
              "      <td>2018-13598-27/05/2021</td>\n",
              "      <td>2</td>\n",
              "      <td>0</td>\n",
              "      <td>SA</td>\n",
              "      <td>Motor Cars - Sedan</td>\n",
              "      <td>2004</td>\n",
              "      <td>South</td>\n",
              "      <td>Male</td>\n",
              "      <td>076</td>\n",
              "      <td>SA</td>\n",
              "      <td>C</td>\n",
              "      <td>Full</td>\n",
              "      <td>Not Towing</td>\n",
              "      <td>Straight Ahead</td>\n",
              "      <td>1.0</td>\n",
              "      <td>5162</td>\n",
              "      <td>NaN</td>\n",
              "      <td>NaN</td>\n",
              "    </tr>\n",
              "    <tr>\n",
              "      <th>29031</th>\n",
              "      <td>2018-13599-27/05/2021</td>\n",
              "      <td>1</td>\n",
              "      <td>1</td>\n",
              "      <td>SA</td>\n",
              "      <td>Motor Cars - Sedan</td>\n",
              "      <td>2015</td>\n",
              "      <td>North</td>\n",
              "      <td>Female</td>\n",
              "      <td>057</td>\n",
              "      <td>SA</td>\n",
              "      <td>C</td>\n",
              "      <td>Full</td>\n",
              "      <td>Not Towing</td>\n",
              "      <td>Stopped on Carriageway</td>\n",
              "      <td>1.0</td>\n",
              "      <td>5052</td>\n",
              "      <td>NaN</td>\n",
              "      <td>NaN</td>\n",
              "    </tr>\n",
              "    <tr>\n",
              "      <th>29032</th>\n",
              "      <td>2018-13599-27/05/2021</td>\n",
              "      <td>2</td>\n",
              "      <td>0</td>\n",
              "      <td>SA</td>\n",
              "      <td>Station Wagon</td>\n",
              "      <td>2014</td>\n",
              "      <td>North</td>\n",
              "      <td>Male</td>\n",
              "      <td>045</td>\n",
              "      <td>SA</td>\n",
              "      <td>C R</td>\n",
              "      <td>Full</td>\n",
              "      <td>Not Towing</td>\n",
              "      <td>Right Turn</td>\n",
              "      <td>1.0</td>\n",
              "      <td>5048</td>\n",
              "      <td>NaN</td>\n",
              "      <td>NaN</td>\n",
              "    </tr>\n",
              "  </tbody>\n",
              "</table>\n",
              "</div>"
            ],
            "text/plain": [
              "                   REPORT_ID  Unit No  No Of Cas  ... Postcode Rollover Fire\n",
              "29028  2018-13597-27/05/2021        2          0  ...     XXXX      NaN  NaN\n",
              "29029  2018-13598-27/05/2021        1          1  ...     5162      NaN  NaN\n",
              "29030  2018-13598-27/05/2021        2          0  ...     5162      NaN  NaN\n",
              "29031  2018-13599-27/05/2021        1          1  ...     5052      NaN  NaN\n",
              "29032  2018-13599-27/05/2021        2          0  ...     5048      NaN  NaN\n",
              "\n",
              "[5 rows x 18 columns]"
            ]
          },
          "metadata": {
            "tags": []
          },
          "execution_count": 63
        }
      ]
    },
    {
      "cell_type": "markdown",
      "metadata": {
        "id": "7600yspYNVMn"
      },
      "source": [
        "## **Displaying the datatype of each column and number of non null values in each column**"
      ]
    },
    {
      "cell_type": "code",
      "metadata": {
        "colab": {
          "base_uri": "https://localhost:8080/"
        },
        "id": "5ehVuDWzNbs_",
        "outputId": "8a77df11-a84d-42d6-8f67-e39e8e30c4e1"
      },
      "source": [
        "Units.info()"
      ],
      "execution_count": 64,
      "outputs": [
        {
          "output_type": "stream",
          "text": [
            "<class 'pandas.core.frame.DataFrame'>\n",
            "RangeIndex: 29033 entries, 0 to 29032\n",
            "Data columns (total 18 columns):\n",
            " #   Column               Non-Null Count  Dtype  \n",
            "---  ------               --------------  -----  \n",
            " 0   REPORT_ID            29033 non-null  object \n",
            " 1   Unit No              29033 non-null  int64  \n",
            " 2   No Of Cas            29033 non-null  int64  \n",
            " 3   Veh Reg State        24607 non-null  object \n",
            " 4   Unit Type            29033 non-null  object \n",
            " 5   Veh Year             24605 non-null  object \n",
            " 6   Direction Of Travel  25882 non-null  object \n",
            " 7   Sex                  24780 non-null  object \n",
            " 8   Age                  24780 non-null  object \n",
            " 9   Lic State            23505 non-null  object \n",
            " 10  Licence Class        23502 non-null  object \n",
            " 11  Licence Type         23503 non-null  object \n",
            " 12  Towing               24476 non-null  object \n",
            " 13  Unit Movement        25882 non-null  object \n",
            " 14  Number Occupants     25419 non-null  float64\n",
            " 15  Postcode             24785 non-null  object \n",
            " 16  Rollover             832 non-null    object \n",
            " 17  Fire                 17 non-null     object \n",
            "dtypes: float64(1), int64(2), object(15)\n",
            "memory usage: 4.0+ MB\n"
          ],
          "name": "stdout"
        }
      ]
    },
    {
      "cell_type": "markdown",
      "metadata": {
        "id": "59SklJ6LNjPo"
      },
      "source": [
        "## **Displaying the column names**"
      ]
    },
    {
      "cell_type": "code",
      "metadata": {
        "colab": {
          "base_uri": "https://localhost:8080/"
        },
        "id": "GKWDaStaNkeW",
        "outputId": "7f2761e2-a6ca-42c1-8e8c-514a3d999d4c"
      },
      "source": [
        "Units.columns"
      ],
      "execution_count": 65,
      "outputs": [
        {
          "output_type": "execute_result",
          "data": {
            "text/plain": [
              "Index(['REPORT_ID', 'Unit No', 'No Of Cas', 'Veh Reg State', 'Unit Type',\n",
              "       'Veh Year', 'Direction Of Travel', 'Sex', 'Age', 'Lic State',\n",
              "       'Licence Class', 'Licence Type', 'Towing', 'Unit Movement',\n",
              "       'Number Occupants', 'Postcode', 'Rollover', 'Fire'],\n",
              "      dtype='object')"
            ]
          },
          "metadata": {
            "tags": []
          },
          "execution_count": 65
        }
      ]
    },
    {
      "cell_type": "markdown",
      "metadata": {
        "id": "lwhr3y7NNtBN"
      },
      "source": [
        "## **Displaying Categorical Variables and their summary statistics**"
      ]
    },
    {
      "cell_type": "code",
      "metadata": {
        "colab": {
          "base_uri": "https://localhost:8080/",
          "height": 206
        },
        "id": "4mmyTZjZNuUe",
        "outputId": "0088724d-d58e-4c81-9bb5-312e31424f7b"
      },
      "source": [
        "Units.describe(include=['O'])"
      ],
      "execution_count": 66,
      "outputs": [
        {
          "output_type": "execute_result",
          "data": {
            "text/html": [
              "<div>\n",
              "<style scoped>\n",
              "    .dataframe tbody tr th:only-of-type {\n",
              "        vertical-align: middle;\n",
              "    }\n",
              "\n",
              "    .dataframe tbody tr th {\n",
              "        vertical-align: top;\n",
              "    }\n",
              "\n",
              "    .dataframe thead th {\n",
              "        text-align: right;\n",
              "    }\n",
              "</style>\n",
              "<table border=\"1\" class=\"dataframe\">\n",
              "  <thead>\n",
              "    <tr style=\"text-align: right;\">\n",
              "      <th></th>\n",
              "      <th>REPORT_ID</th>\n",
              "      <th>Veh Reg State</th>\n",
              "      <th>Unit Type</th>\n",
              "      <th>Veh Year</th>\n",
              "      <th>Direction Of Travel</th>\n",
              "      <th>Sex</th>\n",
              "      <th>Age</th>\n",
              "      <th>Lic State</th>\n",
              "      <th>Licence Class</th>\n",
              "      <th>Licence Type</th>\n",
              "      <th>Towing</th>\n",
              "      <th>Unit Movement</th>\n",
              "      <th>Postcode</th>\n",
              "      <th>Rollover</th>\n",
              "      <th>Fire</th>\n",
              "    </tr>\n",
              "  </thead>\n",
              "  <tbody>\n",
              "    <tr>\n",
              "      <th>count</th>\n",
              "      <td>29033</td>\n",
              "      <td>24607</td>\n",
              "      <td>29033</td>\n",
              "      <td>24605</td>\n",
              "      <td>25882</td>\n",
              "      <td>24780</td>\n",
              "      <td>24780</td>\n",
              "      <td>23505</td>\n",
              "      <td>23502</td>\n",
              "      <td>23503</td>\n",
              "      <td>24476</td>\n",
              "      <td>25882</td>\n",
              "      <td>24785</td>\n",
              "      <td>832</td>\n",
              "      <td>17</td>\n",
              "    </tr>\n",
              "    <tr>\n",
              "      <th>unique</th>\n",
              "      <td>13599</td>\n",
              "      <td>11</td>\n",
              "      <td>37</td>\n",
              "      <td>58</td>\n",
              "      <td>9</td>\n",
              "      <td>3</td>\n",
              "      <td>96</td>\n",
              "      <td>11</td>\n",
              "      <td>24</td>\n",
              "      <td>8</td>\n",
              "      <td>9</td>\n",
              "      <td>29</td>\n",
              "      <td>475</td>\n",
              "      <td>1</td>\n",
              "      <td>1</td>\n",
              "    </tr>\n",
              "    <tr>\n",
              "      <th>top</th>\n",
              "      <td>2018-13005-27/05/2021</td>\n",
              "      <td>SA</td>\n",
              "      <td>Motor Cars - Sedan</td>\n",
              "      <td>XXXX</td>\n",
              "      <td>South</td>\n",
              "      <td>Male</td>\n",
              "      <td>XXX</td>\n",
              "      <td>SA</td>\n",
              "      <td>C</td>\n",
              "      <td>Full</td>\n",
              "      <td>Not Towing</td>\n",
              "      <td>Straight Ahead</td>\n",
              "      <td>XXXX</td>\n",
              "      <td>Y</td>\n",
              "      <td>Y</td>\n",
              "    </tr>\n",
              "    <tr>\n",
              "      <th>freq</th>\n",
              "      <td>11</td>\n",
              "      <td>22662</td>\n",
              "      <td>12771</td>\n",
              "      <td>1485</td>\n",
              "      <td>3892</td>\n",
              "      <td>13999</td>\n",
              "      <td>2482</td>\n",
              "      <td>20350</td>\n",
              "      <td>16521</td>\n",
              "      <td>17751</td>\n",
              "      <td>21545</td>\n",
              "      <td>14403</td>\n",
              "      <td>3125</td>\n",
              "      <td>832</td>\n",
              "      <td>17</td>\n",
              "    </tr>\n",
              "  </tbody>\n",
              "</table>\n",
              "</div>"
            ],
            "text/plain": [
              "                    REPORT_ID Veh Reg State  ... Rollover Fire\n",
              "count                   29033         24607  ...      832   17\n",
              "unique                  13599            11  ...        1    1\n",
              "top     2018-13005-27/05/2021            SA  ...        Y    Y\n",
              "freq                       11         22662  ...      832   17\n",
              "\n",
              "[4 rows x 15 columns]"
            ]
          },
          "metadata": {
            "tags": []
          },
          "execution_count": 66
        }
      ]
    },
    {
      "cell_type": "markdown",
      "metadata": {
        "id": "BICovyjON0q0"
      },
      "source": [
        "## **Displaying Continuous Variables and their summary statistics**"
      ]
    },
    {
      "cell_type": "code",
      "metadata": {
        "colab": {
          "base_uri": "https://localhost:8080/",
          "height": 295
        },
        "id": "qzS2_B1rN2sq",
        "outputId": "4021a79a-bcff-4327-fbe5-508ec61695b9"
      },
      "source": [
        "Units.describe(exclude=['O'])"
      ],
      "execution_count": 67,
      "outputs": [
        {
          "output_type": "execute_result",
          "data": {
            "text/html": [
              "<div>\n",
              "<style scoped>\n",
              "    .dataframe tbody tr th:only-of-type {\n",
              "        vertical-align: middle;\n",
              "    }\n",
              "\n",
              "    .dataframe tbody tr th {\n",
              "        vertical-align: top;\n",
              "    }\n",
              "\n",
              "    .dataframe thead th {\n",
              "        text-align: right;\n",
              "    }\n",
              "</style>\n",
              "<table border=\"1\" class=\"dataframe\">\n",
              "  <thead>\n",
              "    <tr style=\"text-align: right;\">\n",
              "      <th></th>\n",
              "      <th>Unit No</th>\n",
              "      <th>No Of Cas</th>\n",
              "      <th>Number Occupants</th>\n",
              "    </tr>\n",
              "  </thead>\n",
              "  <tbody>\n",
              "    <tr>\n",
              "      <th>count</th>\n",
              "      <td>29033.000000</td>\n",
              "      <td>29033.000000</td>\n",
              "      <td>25419.000000</td>\n",
              "    </tr>\n",
              "    <tr>\n",
              "      <th>mean</th>\n",
              "      <td>1.641890</td>\n",
              "      <td>0.210932</td>\n",
              "      <td>1.376647</td>\n",
              "    </tr>\n",
              "    <tr>\n",
              "      <th>std</th>\n",
              "      <td>0.722616</td>\n",
              "      <td>0.477456</td>\n",
              "      <td>2.007284</td>\n",
              "    </tr>\n",
              "    <tr>\n",
              "      <th>min</th>\n",
              "      <td>1.000000</td>\n",
              "      <td>0.000000</td>\n",
              "      <td>0.000000</td>\n",
              "    </tr>\n",
              "    <tr>\n",
              "      <th>25%</th>\n",
              "      <td>1.000000</td>\n",
              "      <td>0.000000</td>\n",
              "      <td>1.000000</td>\n",
              "    </tr>\n",
              "    <tr>\n",
              "      <th>50%</th>\n",
              "      <td>2.000000</td>\n",
              "      <td>0.000000</td>\n",
              "      <td>1.000000</td>\n",
              "    </tr>\n",
              "    <tr>\n",
              "      <th>75%</th>\n",
              "      <td>2.000000</td>\n",
              "      <td>0.000000</td>\n",
              "      <td>1.000000</td>\n",
              "    </tr>\n",
              "    <tr>\n",
              "      <th>max</th>\n",
              "      <td>11.000000</td>\n",
              "      <td>6.000000</td>\n",
              "      <td>90.000000</td>\n",
              "    </tr>\n",
              "  </tbody>\n",
              "</table>\n",
              "</div>"
            ],
            "text/plain": [
              "            Unit No     No Of Cas  Number Occupants\n",
              "count  29033.000000  29033.000000      25419.000000\n",
              "mean       1.641890      0.210932          1.376647\n",
              "std        0.722616      0.477456          2.007284\n",
              "min        1.000000      0.000000          0.000000\n",
              "25%        1.000000      0.000000          1.000000\n",
              "50%        2.000000      0.000000          1.000000\n",
              "75%        2.000000      0.000000          1.000000\n",
              "max       11.000000      6.000000         90.000000"
            ]
          },
          "metadata": {
            "tags": []
          },
          "execution_count": 67
        }
      ]
    },
    {
      "cell_type": "markdown",
      "metadata": {
        "id": "dLYm5xySN7_i"
      },
      "source": [
        "## **Displaying the number of unique values in each column**"
      ]
    },
    {
      "cell_type": "code",
      "metadata": {
        "colab": {
          "base_uri": "https://localhost:8080/"
        },
        "id": "UPmx6i8xN_GO",
        "outputId": "ccd3a444-94e8-449c-8790-cd52cf9e7a57"
      },
      "source": [
        "Units.nunique()"
      ],
      "execution_count": 68,
      "outputs": [
        {
          "output_type": "execute_result",
          "data": {
            "text/plain": [
              "REPORT_ID              13599\n",
              "Unit No                   11\n",
              "No Of Cas                  7\n",
              "Veh Reg State             11\n",
              "Unit Type                 37\n",
              "Veh Year                  58\n",
              "Direction Of Travel        9\n",
              "Sex                        3\n",
              "Age                       96\n",
              "Lic State                 11\n",
              "Licence Class             24\n",
              "Licence Type               8\n",
              "Towing                     9\n",
              "Unit Movement             29\n",
              "Number Occupants          41\n",
              "Postcode                 475\n",
              "Rollover                   1\n",
              "Fire                       1\n",
              "dtype: int64"
            ]
          },
          "metadata": {
            "tags": []
          },
          "execution_count": 68
        }
      ]
    },
    {
      "cell_type": "markdown",
      "metadata": {
        "id": "s1jmpvPzOFao"
      },
      "source": [
        "## **Exploring number of null values in each column**"
      ]
    },
    {
      "cell_type": "code",
      "metadata": {
        "colab": {
          "base_uri": "https://localhost:8080/"
        },
        "id": "lsAWylxCOH_9",
        "outputId": "2d9a5aa2-6428-4796-824a-4966060d4d00"
      },
      "source": [
        "Units.isnull().sum()"
      ],
      "execution_count": 69,
      "outputs": [
        {
          "output_type": "execute_result",
          "data": {
            "text/plain": [
              "REPORT_ID                  0\n",
              "Unit No                    0\n",
              "No Of Cas                  0\n",
              "Veh Reg State           4426\n",
              "Unit Type                  0\n",
              "Veh Year                4428\n",
              "Direction Of Travel     3151\n",
              "Sex                     4253\n",
              "Age                     4253\n",
              "Lic State               5528\n",
              "Licence Class           5531\n",
              "Licence Type            5530\n",
              "Towing                  4557\n",
              "Unit Movement           3151\n",
              "Number Occupants        3614\n",
              "Postcode                4248\n",
              "Rollover               28201\n",
              "Fire                   29016\n",
              "dtype: int64"
            ]
          },
          "metadata": {
            "tags": []
          },
          "execution_count": 69
        }
      ]
    },
    {
      "cell_type": "markdown",
      "metadata": {
        "id": "6mV-WG1NOM5T"
      },
      "source": [
        "## **Checking duplicate records**"
      ]
    },
    {
      "cell_type": "code",
      "metadata": {
        "colab": {
          "base_uri": "https://localhost:8080/",
          "height": 534
        },
        "id": "Efe6-lNBOP0e",
        "outputId": "dccb4e94-a80d-44dc-eb6f-e9c71e445b3e"
      },
      "source": [
        "duplicate=Units.iloc[: , 1: 19].duplicated()\n",
        "Units.iloc[: , 1: 19][duplicate]"
      ],
      "execution_count": 70,
      "outputs": [
        {
          "output_type": "execute_result",
          "data": {
            "text/html": [
              "<div>\n",
              "<style scoped>\n",
              "    .dataframe tbody tr th:only-of-type {\n",
              "        vertical-align: middle;\n",
              "    }\n",
              "\n",
              "    .dataframe tbody tr th {\n",
              "        vertical-align: top;\n",
              "    }\n",
              "\n",
              "    .dataframe thead th {\n",
              "        text-align: right;\n",
              "    }\n",
              "</style>\n",
              "<table border=\"1\" class=\"dataframe\">\n",
              "  <thead>\n",
              "    <tr style=\"text-align: right;\">\n",
              "      <th></th>\n",
              "      <th>Unit No</th>\n",
              "      <th>No Of Cas</th>\n",
              "      <th>Veh Reg State</th>\n",
              "      <th>Unit Type</th>\n",
              "      <th>Veh Year</th>\n",
              "      <th>Direction Of Travel</th>\n",
              "      <th>Sex</th>\n",
              "      <th>Age</th>\n",
              "      <th>Lic State</th>\n",
              "      <th>Licence Class</th>\n",
              "      <th>Licence Type</th>\n",
              "      <th>Towing</th>\n",
              "      <th>Unit Movement</th>\n",
              "      <th>Number Occupants</th>\n",
              "      <th>Postcode</th>\n",
              "      <th>Rollover</th>\n",
              "      <th>Fire</th>\n",
              "    </tr>\n",
              "  </thead>\n",
              "  <tbody>\n",
              "    <tr>\n",
              "      <th>15</th>\n",
              "      <td>4</td>\n",
              "      <td>0</td>\n",
              "      <td>NaN</td>\n",
              "      <td>Other Fixed Obstruction</td>\n",
              "      <td>NaN</td>\n",
              "      <td>NaN</td>\n",
              "      <td>NaN</td>\n",
              "      <td>NaN</td>\n",
              "      <td>NaN</td>\n",
              "      <td>NaN</td>\n",
              "      <td>NaN</td>\n",
              "      <td>NaN</td>\n",
              "      <td>NaN</td>\n",
              "      <td>NaN</td>\n",
              "      <td>NaN</td>\n",
              "      <td>NaN</td>\n",
              "      <td>NaN</td>\n",
              "    </tr>\n",
              "    <tr>\n",
              "      <th>24</th>\n",
              "      <td>2</td>\n",
              "      <td>0</td>\n",
              "      <td>NaN</td>\n",
              "      <td>Guard Rail</td>\n",
              "      <td>NaN</td>\n",
              "      <td>NaN</td>\n",
              "      <td>NaN</td>\n",
              "      <td>NaN</td>\n",
              "      <td>NaN</td>\n",
              "      <td>NaN</td>\n",
              "      <td>NaN</td>\n",
              "      <td>NaN</td>\n",
              "      <td>NaN</td>\n",
              "      <td>NaN</td>\n",
              "      <td>NaN</td>\n",
              "      <td>NaN</td>\n",
              "      <td>NaN</td>\n",
              "    </tr>\n",
              "    <tr>\n",
              "      <th>25</th>\n",
              "      <td>3</td>\n",
              "      <td>0</td>\n",
              "      <td>NaN</td>\n",
              "      <td>Tree</td>\n",
              "      <td>NaN</td>\n",
              "      <td>NaN</td>\n",
              "      <td>NaN</td>\n",
              "      <td>NaN</td>\n",
              "      <td>NaN</td>\n",
              "      <td>NaN</td>\n",
              "      <td>NaN</td>\n",
              "      <td>NaN</td>\n",
              "      <td>NaN</td>\n",
              "      <td>NaN</td>\n",
              "      <td>NaN</td>\n",
              "      <td>NaN</td>\n",
              "      <td>NaN</td>\n",
              "    </tr>\n",
              "    <tr>\n",
              "      <th>29</th>\n",
              "      <td>2</td>\n",
              "      <td>0</td>\n",
              "      <td>NaN</td>\n",
              "      <td>Other Fixed Obstruction</td>\n",
              "      <td>NaN</td>\n",
              "      <td>NaN</td>\n",
              "      <td>NaN</td>\n",
              "      <td>NaN</td>\n",
              "      <td>NaN</td>\n",
              "      <td>NaN</td>\n",
              "      <td>NaN</td>\n",
              "      <td>NaN</td>\n",
              "      <td>NaN</td>\n",
              "      <td>NaN</td>\n",
              "      <td>NaN</td>\n",
              "      <td>NaN</td>\n",
              "      <td>NaN</td>\n",
              "    </tr>\n",
              "    <tr>\n",
              "      <th>40</th>\n",
              "      <td>3</td>\n",
              "      <td>0</td>\n",
              "      <td>NaN</td>\n",
              "      <td>Other Fixed Obstruction</td>\n",
              "      <td>NaN</td>\n",
              "      <td>NaN</td>\n",
              "      <td>NaN</td>\n",
              "      <td>NaN</td>\n",
              "      <td>NaN</td>\n",
              "      <td>NaN</td>\n",
              "      <td>NaN</td>\n",
              "      <td>NaN</td>\n",
              "      <td>NaN</td>\n",
              "      <td>NaN</td>\n",
              "      <td>NaN</td>\n",
              "      <td>NaN</td>\n",
              "      <td>NaN</td>\n",
              "    </tr>\n",
              "    <tr>\n",
              "      <th>...</th>\n",
              "      <td>...</td>\n",
              "      <td>...</td>\n",
              "      <td>...</td>\n",
              "      <td>...</td>\n",
              "      <td>...</td>\n",
              "      <td>...</td>\n",
              "      <td>...</td>\n",
              "      <td>...</td>\n",
              "      <td>...</td>\n",
              "      <td>...</td>\n",
              "      <td>...</td>\n",
              "      <td>...</td>\n",
              "      <td>...</td>\n",
              "      <td>...</td>\n",
              "      <td>...</td>\n",
              "      <td>...</td>\n",
              "      <td>...</td>\n",
              "    </tr>\n",
              "    <tr>\n",
              "      <th>29005</th>\n",
              "      <td>1</td>\n",
              "      <td>0</td>\n",
              "      <td>UNKNOWN</td>\n",
              "      <td>Motor Vehicle - Type Unknown</td>\n",
              "      <td>XXXX</td>\n",
              "      <td>West</td>\n",
              "      <td>Unknown</td>\n",
              "      <td>XXX</td>\n",
              "      <td>UNKNOWN</td>\n",
              "      <td>XX</td>\n",
              "      <td>Unknown</td>\n",
              "      <td>Unknown</td>\n",
              "      <td>Straight Ahead</td>\n",
              "      <td>1.0</td>\n",
              "      <td>XXXX</td>\n",
              "      <td>NaN</td>\n",
              "      <td>NaN</td>\n",
              "    </tr>\n",
              "    <tr>\n",
              "      <th>29007</th>\n",
              "      <td>3</td>\n",
              "      <td>0</td>\n",
              "      <td>UNKNOWN</td>\n",
              "      <td>Motor Vehicle - Type Unknown</td>\n",
              "      <td>XXXX</td>\n",
              "      <td>West</td>\n",
              "      <td>Unknown</td>\n",
              "      <td>XXX</td>\n",
              "      <td>UNKNOWN</td>\n",
              "      <td>XX</td>\n",
              "      <td>Unknown</td>\n",
              "      <td>Unknown</td>\n",
              "      <td>Stopped on Carriageway</td>\n",
              "      <td>1.0</td>\n",
              "      <td>XXXX</td>\n",
              "      <td>NaN</td>\n",
              "      <td>NaN</td>\n",
              "    </tr>\n",
              "    <tr>\n",
              "      <th>29011</th>\n",
              "      <td>2</td>\n",
              "      <td>0</td>\n",
              "      <td>NaN</td>\n",
              "      <td>Tree</td>\n",
              "      <td>NaN</td>\n",
              "      <td>NaN</td>\n",
              "      <td>NaN</td>\n",
              "      <td>NaN</td>\n",
              "      <td>NaN</td>\n",
              "      <td>NaN</td>\n",
              "      <td>NaN</td>\n",
              "      <td>NaN</td>\n",
              "      <td>NaN</td>\n",
              "      <td>NaN</td>\n",
              "      <td>NaN</td>\n",
              "      <td>NaN</td>\n",
              "      <td>NaN</td>\n",
              "    </tr>\n",
              "    <tr>\n",
              "      <th>29013</th>\n",
              "      <td>2</td>\n",
              "      <td>0</td>\n",
              "      <td>UNKNOWN</td>\n",
              "      <td>Motor Vehicle - Type Unknown</td>\n",
              "      <td>XXXX</td>\n",
              "      <td>West</td>\n",
              "      <td>Unknown</td>\n",
              "      <td>XXX</td>\n",
              "      <td>UNKNOWN</td>\n",
              "      <td>XX</td>\n",
              "      <td>Unknown</td>\n",
              "      <td>Unknown</td>\n",
              "      <td>Straight Ahead</td>\n",
              "      <td>1.0</td>\n",
              "      <td>XXXX</td>\n",
              "      <td>NaN</td>\n",
              "      <td>NaN</td>\n",
              "    </tr>\n",
              "    <tr>\n",
              "      <th>29028</th>\n",
              "      <td>2</td>\n",
              "      <td>0</td>\n",
              "      <td>UNKNOWN</td>\n",
              "      <td>Utility</td>\n",
              "      <td>XXXX</td>\n",
              "      <td>West</td>\n",
              "      <td>Unknown</td>\n",
              "      <td>XXX</td>\n",
              "      <td>UNKNOWN</td>\n",
              "      <td>XX</td>\n",
              "      <td>Unknown</td>\n",
              "      <td>Unknown</td>\n",
              "      <td>Straight Ahead</td>\n",
              "      <td>1.0</td>\n",
              "      <td>XXXX</td>\n",
              "      <td>NaN</td>\n",
              "      <td>NaN</td>\n",
              "    </tr>\n",
              "  </tbody>\n",
              "</table>\n",
              "<p>4198 rows × 17 columns</p>\n",
              "</div>"
            ],
            "text/plain": [
              "       Unit No  No Of Cas Veh Reg State  ... Postcode Rollover Fire\n",
              "15           4          0           NaN  ...      NaN      NaN  NaN\n",
              "24           2          0           NaN  ...      NaN      NaN  NaN\n",
              "25           3          0           NaN  ...      NaN      NaN  NaN\n",
              "29           2          0           NaN  ...      NaN      NaN  NaN\n",
              "40           3          0           NaN  ...      NaN      NaN  NaN\n",
              "...        ...        ...           ...  ...      ...      ...  ...\n",
              "29005        1          0       UNKNOWN  ...     XXXX      NaN  NaN\n",
              "29007        3          0       UNKNOWN  ...     XXXX      NaN  NaN\n",
              "29011        2          0           NaN  ...      NaN      NaN  NaN\n",
              "29013        2          0       UNKNOWN  ...     XXXX      NaN  NaN\n",
              "29028        2          0       UNKNOWN  ...     XXXX      NaN  NaN\n",
              "\n",
              "[4198 rows x 17 columns]"
            ]
          },
          "metadata": {
            "tags": []
          },
          "execution_count": 70
        }
      ]
    },
    {
      "cell_type": "markdown",
      "metadata": {
        "id": "YF1okg1uOYkr"
      },
      "source": [
        "## **Exploring the unique values in a particular column**"
      ]
    },
    {
      "cell_type": "code",
      "metadata": {
        "colab": {
          "base_uri": "https://localhost:8080/"
        },
        "id": "Ejj7Jzl1OZ5t",
        "outputId": "89bf6b4c-3a8d-47e1-d0cc-f5bdb578d791"
      },
      "source": [
        "Units['Veh Reg State'].unique()"
      ],
      "execution_count": 71,
      "outputs": [
        {
          "output_type": "execute_result",
          "data": {
            "text/plain": [
              "array(['SA', nan, 'UNKNOWN', 'NSW', 'VIC', 'ACT', 'WA', 'NT', 'QLD',\n",
              "       'TAS', 'FEDERAL', 'O/S'], dtype=object)"
            ]
          },
          "metadata": {
            "tags": []
          },
          "execution_count": 71
        }
      ]
    },
    {
      "cell_type": "code",
      "metadata": {
        "colab": {
          "base_uri": "https://localhost:8080/"
        },
        "id": "0V9OSFExOgeZ",
        "outputId": "c5da694d-99af-4563-ab22-2fa8cae41ccd"
      },
      "source": [
        "Units['Veh Reg State'].unique()"
      ],
      "execution_count": 72,
      "outputs": [
        {
          "output_type": "execute_result",
          "data": {
            "text/plain": [
              "array(['SA', nan, 'UNKNOWN', 'NSW', 'VIC', 'ACT', 'WA', 'NT', 'QLD',\n",
              "       'TAS', 'FEDERAL', 'O/S'], dtype=object)"
            ]
          },
          "metadata": {
            "tags": []
          },
          "execution_count": 72
        }
      ]
    },
    {
      "cell_type": "markdown",
      "metadata": {
        "id": "OdRbpmpsOm2d"
      },
      "source": [
        "## **Determining overall Correlation between the variables**"
      ]
    },
    {
      "cell_type": "code",
      "metadata": {
        "colab": {
          "base_uri": "https://localhost:8080/",
          "height": 142
        },
        "id": "4r3vvv1MOo--",
        "outputId": "7acffbe8-e19b-42f3-cf2c-15a351dee1cf"
      },
      "source": [
        "correlation = Units.corr()\n",
        "correlation"
      ],
      "execution_count": 73,
      "outputs": [
        {
          "output_type": "execute_result",
          "data": {
            "text/html": [
              "<div>\n",
              "<style scoped>\n",
              "    .dataframe tbody tr th:only-of-type {\n",
              "        vertical-align: middle;\n",
              "    }\n",
              "\n",
              "    .dataframe tbody tr th {\n",
              "        vertical-align: top;\n",
              "    }\n",
              "\n",
              "    .dataframe thead th {\n",
              "        text-align: right;\n",
              "    }\n",
              "</style>\n",
              "<table border=\"1\" class=\"dataframe\">\n",
              "  <thead>\n",
              "    <tr style=\"text-align: right;\">\n",
              "      <th></th>\n",
              "      <th>Unit No</th>\n",
              "      <th>No Of Cas</th>\n",
              "      <th>Number Occupants</th>\n",
              "    </tr>\n",
              "  </thead>\n",
              "  <tbody>\n",
              "    <tr>\n",
              "      <th>Unit No</th>\n",
              "      <td>1.000000</td>\n",
              "      <td>-0.139164</td>\n",
              "      <td>-0.028776</td>\n",
              "    </tr>\n",
              "    <tr>\n",
              "      <th>No Of Cas</th>\n",
              "      <td>-0.139164</td>\n",
              "      <td>1.000000</td>\n",
              "      <td>0.052584</td>\n",
              "    </tr>\n",
              "    <tr>\n",
              "      <th>Number Occupants</th>\n",
              "      <td>-0.028776</td>\n",
              "      <td>0.052584</td>\n",
              "      <td>1.000000</td>\n",
              "    </tr>\n",
              "  </tbody>\n",
              "</table>\n",
              "</div>"
            ],
            "text/plain": [
              "                   Unit No  No Of Cas  Number Occupants\n",
              "Unit No           1.000000  -0.139164         -0.028776\n",
              "No Of Cas        -0.139164   1.000000          0.052584\n",
              "Number Occupants -0.028776   0.052584          1.000000"
            ]
          },
          "metadata": {
            "tags": []
          },
          "execution_count": 73
        }
      ]
    },
    {
      "cell_type": "markdown",
      "metadata": {
        "id": "BggjXuLzQm8t"
      },
      "source": [
        ""
      ]
    },
    {
      "cell_type": "markdown",
      "metadata": {
        "id": "il8d__MxQpaX"
      },
      "source": [
        "## **Determining overall Correlation between the variables**"
      ]
    },
    {
      "cell_type": "code",
      "metadata": {
        "colab": {
          "base_uri": "https://localhost:8080/",
          "height": 142
        },
        "id": "W_NWy5nNOkyk",
        "outputId": "9c75a990-8bf3-4750-c667-0d0c41af12c9"
      },
      "source": [
        "Units_corr = Units.corr()\n",
        "Units_corr"
      ],
      "execution_count": 74,
      "outputs": [
        {
          "output_type": "execute_result",
          "data": {
            "text/html": [
              "<div>\n",
              "<style scoped>\n",
              "    .dataframe tbody tr th:only-of-type {\n",
              "        vertical-align: middle;\n",
              "    }\n",
              "\n",
              "    .dataframe tbody tr th {\n",
              "        vertical-align: top;\n",
              "    }\n",
              "\n",
              "    .dataframe thead th {\n",
              "        text-align: right;\n",
              "    }\n",
              "</style>\n",
              "<table border=\"1\" class=\"dataframe\">\n",
              "  <thead>\n",
              "    <tr style=\"text-align: right;\">\n",
              "      <th></th>\n",
              "      <th>Unit No</th>\n",
              "      <th>No Of Cas</th>\n",
              "      <th>Number Occupants</th>\n",
              "    </tr>\n",
              "  </thead>\n",
              "  <tbody>\n",
              "    <tr>\n",
              "      <th>Unit No</th>\n",
              "      <td>1.000000</td>\n",
              "      <td>-0.139164</td>\n",
              "      <td>-0.028776</td>\n",
              "    </tr>\n",
              "    <tr>\n",
              "      <th>No Of Cas</th>\n",
              "      <td>-0.139164</td>\n",
              "      <td>1.000000</td>\n",
              "      <td>0.052584</td>\n",
              "    </tr>\n",
              "    <tr>\n",
              "      <th>Number Occupants</th>\n",
              "      <td>-0.028776</td>\n",
              "      <td>0.052584</td>\n",
              "      <td>1.000000</td>\n",
              "    </tr>\n",
              "  </tbody>\n",
              "</table>\n",
              "</div>"
            ],
            "text/plain": [
              "                   Unit No  No Of Cas  Number Occupants\n",
              "Unit No           1.000000  -0.139164         -0.028776\n",
              "No Of Cas        -0.139164   1.000000          0.052584\n",
              "Number Occupants -0.028776   0.052584          1.000000"
            ]
          },
          "metadata": {
            "tags": []
          },
          "execution_count": 74
        }
      ]
    },
    {
      "cell_type": "markdown",
      "metadata": {
        "id": "UDtdu9axQ0m7"
      },
      "source": [
        "## **Plotting a Heatmap to display the correlation**"
      ]
    },
    {
      "cell_type": "code",
      "metadata": {
        "colab": {
          "base_uri": "https://localhost:8080/",
          "height": 522
        },
        "id": "ztL0Cjy8Q7y7",
        "outputId": "ebdaf24c-f717-448b-a59c-2e88836bc0a3"
      },
      "source": [
        "plt.figure(figsize =(10, 8))\n",
        "sns.heatmap(Units_corr, cmap='copper',annot=True)\n",
        "plt.title('Units: Correlation between variables' , color = 'maroon' , fontsize = 16)\n",
        "plt.xticks(fontsize=12)\n",
        "plt.yticks(fontsize=12)\n",
        "plt.show()"
      ],
      "execution_count": 75,
      "outputs": [
        {
          "output_type": "display_data",
          "data": {
            "image/png": "[encoded data removed]",
            "text/plain": [
              "<Figure size 720x576 with 2 Axes>"
            ]
          },
          "metadata": {
            "tags": [],
            "needs_background": "light"
          }
        }
      ]
    },
    {
      "cell_type": "markdown",
      "metadata": {
        "id": "xk4kbZq0syBh"
      },
      "source": [
        " ## **Exploring outliers in Units Dataset**"
      ]
    },
    {
      "cell_type": "code",
      "metadata": {
        "colab": {
          "base_uri": "https://localhost:8080/",
          "height": 558
        },
        "id": "5cbr3oz7syBi",
        "outputId": "44221fd8-cc40-4bbe-94e2-8a4668e42fff"
      },
      "source": [
        "plt.figure(figsize = (10,8))\n",
        "Units.boxplot()\n",
        "plt.title('Outlier : Units ' ,color = 'maroon', fontsize=16 )\n",
        "plt.ylabel('Values' ,color = 'maroon', fontsize=14 )\n",
        "plt.xticks(fontsize=12)\n",
        "plt.yticks(fontsize=12)\n",
        "\n",
        "plt.show()"
      ],
      "execution_count": 76,
      "outputs": [
        {
          "output_type": "stream",
          "text": [
            "/usr/local/lib/python3.7/dist-packages/numpy/core/_asarray.py:83: VisibleDeprecationWarning: Creating an ndarray from ragged nested sequences (which is a list-or-tuple of lists-or-tuples-or ndarrays with different lengths or shapes) is deprecated. If you meant to do this, you must specify 'dtype=object' when creating the ndarray\n",
            "  return array(a, dtype, copy=False, order=order)\n"
          ],
          "name": "stderr"
        },
        {
          "output_type": "display_data",
          "data": {
            "image/png": "[encoded data removed]",
            "text/plain": [
              "<Figure size 720x576 with 1 Axes>"
            ]
          },
          "metadata": {
            "tags": [],
            "needs_background": "light"
          }
        }
      ]
    },
    {
      "cell_type": "markdown",
      "metadata": {
        "id": "ysgvQWWjRY23"
      },
      "source": [
        "## **Exploring the Number of Male and Female Drivers involved in a Crash**"
      ]
    },
    {
      "cell_type": "code",
      "metadata": {
        "colab": {
          "base_uri": "https://localhost:8080/"
        },
        "id": "oEUHu1NsReB4",
        "outputId": "d241600d-622a-4722-dd2d-cced0b8e681f"
      },
      "source": [
        "Units.Sex.value_counts()"
      ],
      "execution_count": 77,
      "outputs": [
        {
          "output_type": "execute_result",
          "data": {
            "text/plain": [
              "Male       13999\n",
              "Female      8832\n",
              "Unknown     1949\n",
              "Name: Sex, dtype: int64"
            ]
          },
          "metadata": {
            "tags": []
          },
          "execution_count": 77
        }
      ]
    },
    {
      "cell_type": "code",
      "metadata": {
        "colab": {
          "base_uri": "https://localhost:8080/",
          "height": 373
        },
        "id": "Co6x_o7HRjKp",
        "outputId": "2a360b98-6f7f-440d-e36a-b03654b0b1ac"
      },
      "source": [
        "Units.Sex.value_counts().plot(kind='pie',title='Gender of Driver',\n",
        "                                      autopct='%1.1f%%',labels= ['Male', 'Female' ,'Unknown' ],\n",
        "                                      ylabel=\" \" , figsize=(8, 6))\n",
        "\n",
        "plt.show()"
      ],
      "execution_count": 78,
      "outputs": [
        {
          "output_type": "display_data",
          "data": {
            "image/png": "[encoded data removed]",
            "text/plain": [
              "<Figure size 576x432 with 1 Axes>"
            ]
          },
          "metadata": {
            "tags": []
          }
        }
      ]
    },
    {
      "cell_type": "markdown",
      "metadata": {
        "id": "mHhUvhCzRmM4"
      },
      "source": [
        "## **Plot displaying the Number of Crash Records based on the Travel Direction**"
      ]
    },
    {
      "cell_type": "code",
      "metadata": {
        "colab": {
          "base_uri": "https://localhost:8080/",
          "height": 522
        },
        "id": "SBcCRx0rRu49",
        "outputId": "28ed69dd-60cc-4f5e-bd7a-72afb9bd8617"
      },
      "source": [
        "Units['Direction Of Travel'].value_counts().plot(kind='barh' ,color = 'Pink',figsize=(10, 8))\n",
        "plt.xlabel(\"No. of crash records\", color = 'maroon' , fontsize = 14)\n",
        "plt.ylabel(\"Direction Of Travel\",  color = 'maroon' , fontsize = 14)\n",
        "plt.title(\"Direction Of Travel vs Crash records\" , color = 'maroon' , fontsize = 16)\n",
        "\n",
        "plt.xticks(fontsize=12)\n",
        "plt.yticks(fontsize=12)\n",
        "plt.show()"
      ],
      "execution_count": 79,
      "outputs": [
        {
          "output_type": "display_data",
          "data": {
            "image/png": "[encoded data removed]",
            "text/plain": [
              "<Figure size 720x576 with 1 Axes>"
            ]
          },
          "metadata": {
            "tags": [],
            "needs_background": "light"
          }
        }
      ]
    },
    {
      "cell_type": "markdown",
      "metadata": {
        "id": "3VnU-4SwSEWF"
      },
      "source": [
        "## **Plot displaying the Number of Crash Records based on the License Type**"
      ]
    },
    {
      "cell_type": "markdown",
      "metadata": {
        "id": "frb7n52xR7Cf"
      },
      "source": [
        ""
      ]
    },
    {
      "cell_type": "code",
      "metadata": {
        "colab": {
          "base_uri": "https://localhost:8080/",
          "height": 522
        },
        "id": "ia0q5hXUSKES",
        "outputId": "2b791fd7-b533-42a3-88ce-e64edbb04d2e"
      },
      "source": [
        "Units['Licence Type'].value_counts().plot(kind='barh' ,figsize=(10, 8))\n",
        "plt.xlabel(\"No. of crash records\", color = 'maroon' , fontsize = 14)\n",
        "plt.ylabel(\"License Type\", color = 'maroon' , fontsize = 14)\n",
        "plt.title(\"License Type vs Crash records\", color = 'maroon' , fontsize = 16)\n",
        "\n",
        "plt.xticks(fontsize=12)\n",
        "plt.yticks(fontsize=12)\n",
        "plt.show()"
      ],
      "execution_count": 80,
      "outputs": [
        {
          "output_type": "display_data",
          "data": {
            "image/png": "[encoded data removed]",
            "text/plain": [
              "<Figure size 720x576 with 1 Axes>"
            ]
          },
          "metadata": {
            "tags": [],
            "needs_background": "light"
          }
        }
      ]
    },
    {
      "cell_type": "markdown",
      "metadata": {
        "id": "0Vre-rQISP_q"
      },
      "source": [
        "## **Plot displaying the relationship between Number of Casualities and Unit Number**"
      ]
    },
    {
      "cell_type": "code",
      "metadata": {
        "colab": {
          "base_uri": "https://localhost:8080/",
          "height": 522
        },
        "id": "qn6qIy3TSUbW",
        "outputId": "45aee156-af2d-4d48-fda7-7ea78b7eb46a"
      },
      "source": [
        "Units.plot(kind = 'scatter', x = 'Unit No', y = 'No Of Cas' ,color = 'green', figsize=(10, 8))\n",
        " \n",
        "plt.xlabel('Unit Number', color = 'maroon' , fontsize = 14)\n",
        "plt.ylabel('Number of casualty',color = 'maroon' , fontsize = 14)\n",
        "plt.title('Number of casualty against Unit Number' , color = 'maroon' , fontsize = 16)\n",
        " \n",
        "plt.xticks(fontsize=12)\n",
        "plt.yticks(fontsize=12)\n",
        "plt.show()"
      ],
      "execution_count": 81,
      "outputs": [
        {
          "output_type": "display_data",
          "data": {
            "image/png": "[encoded data removed]",
            "text/plain": [
              "<Figure size 720x576 with 1 Axes>"
            ]
          },
          "metadata": {
            "tags": [],
            "needs_background": "light"
          }
        }
      ]
    },
    {
      "cell_type": "code",
      "metadata": {
        "colab": {
          "base_uri": "https://localhost:8080/",
          "height": 522
        },
        "id": "LE-HIGOGTRaa",
        "outputId": "f6b0d6b4-46ab-460d-d3e6-45ba599b5061"
      },
      "source": [
        "plt.figure(figsize=[10,8])\n",
        "\n",
        "plt.ylabel(\"Sex\" , color = 'maroon', fontsize=14)\n",
        "plt.xlabel(\"Number of Casualty Records\" ,color = 'maroon', fontsize=14)\n",
        "plt.title(\"Sex of Casualty Distribution\" , color = 'maroon', fontsize=16)\n",
        "plt.xticks(fontsize=12)\n",
        "plt.yticks(fontsize=12)\n",
        "plt.show()"
      ],
      "execution_count": 82,
      "outputs": [
        {
          "output_type": "display_data",
          "data": {
            "image/png": "[encoded data removed]",
            "text/plain": [
              "<Figure size 720x576 with 1 Axes>"
            ]
          },
          "metadata": {
            "tags": [],
            "needs_background": "light"
          }
        }
      ]
    },
    {
      "cell_type": "markdown",
      "metadata": {
        "id": "vkU2HbzXUaLv"
      },
      "source": [
        "## **Plot the Towing Record for each Gender**"
      ]
    },
    {
      "cell_type": "code",
      "metadata": {
        "colab": {
          "base_uri": "https://localhost:8080/",
          "height": 522
        },
        "id": "JIdxH0f9TmRl",
        "outputId": "b6198d2a-d035-4efb-ae69-ca540431187d"
      },
      "source": [
        "plt.figure(figsize=[10,8])\n",
        "\n",
        "sns.countplot(data = Units , y = 'Towing' , hue = 'Sex')\n",
        "plt.xlabel(\"Number of Units of Crash Record\" , color = 'maroon', fontsize=14)\n",
        "plt.ylabel(\"Towing\" ,color = 'maroon', fontsize=14)\n",
        "plt.title(\"Visualizing units of Towing Record for Gender\" , color = 'maroon', fontsize=16)\n",
        "plt.xticks(fontsize=12)\n",
        "plt.yticks(fontsize=12)\n",
        "plt.show()"
      ],
      "execution_count": 83,
      "outputs": [
        {
          "output_type": "display_data",
          "data": {
            "image/png": "[encoded data removed]",
            "text/plain": [
              "<Figure size 720x576 with 1 Axes>"
            ]
          },
          "metadata": {
            "tags": [],
            "needs_background": "light"
          }
        }
      ]
    },
    {
      "cell_type": "markdown",
      "metadata": {
        "id": "wRhF7mUpThxV"
      },
      "source": [
        ""
      ]
    }
  ]
}